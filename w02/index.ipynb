{
 "cells": [
  {
   "cell_type": "raw",
   "metadata": {},
   "source": [
    "---\n",
    "title: \"Week 2: Introduction to Probabilistic Modeling\"\n",
    "subtitle: \"*DSAN 5000: Probabilistic Modeling and Statistical Computing*<br>Section 03\"\n",
    "author: \"Jeff Jacobs\"\n",
    "institute: \"<a href=\\\"mailto:jj1088@georgetown.edu\\\" target=\\\"_blank\\\">`jj1088@georgetown.edu`</a>\"\n",
    "date: 2023-08-31\n",
    "date-format: full\n",
    "lecnum: 2\n",
    "categories:\n",
    "  - \"Class Sessions\"\n",
    "format:\n",
    "  revealjs:\n",
    "    html-math-method: mathjax\n",
    "    slide-number: true\n",
    "    cache: true\n",
    "    #output-file: slides.html\n",
    "    simplemenu:\n",
    "      flat: true\n",
    "      barhtml:\n",
    "        header: \"<div class='menubar'><ul class='menu'></ul></div>\"\n",
    "      scale: 0.5\n",
    "    theme: [default, \"../_jjslides.scss\"]\n",
    "    revealjs-plugins:\n",
    "      - simplemenu\n",
    "    include-in-header: {\"text\":\"<link rel=\\\"stylesheet\\\" href=\\\"https://cdn.jsdelivr.net/npm/bootstrap-icons@1.10.5/font/bootstrap-icons.css\\\">\"}\n",
    "  html:\n",
    "    cache: true\n",
    "    output-file: notes.html\n",
    "    html-math-method: mathjax\n",
    "---"
   ]
  },
  {
   "cell_type": "markdown",
   "metadata": {},
   "source": [
    "## Schedule {.smaller data-name=\"Schedule\"}\n",
    "\n",
    "| | Start | End | Topic |\n",
    "|:- |:- |:- |:- |\n",
    "| **Lecture** | 12:30pm | 12:35pm | [About Me &rarr;](#prof.-jeff-introduction) |\n",
    "| | 12:35pm | 12:50pm | [Review &rarr;](#deterministic-processes) |\n",
    "| | 12:50pm | 1:05pm | [Sampling and Combinatorics &rarr;](#sampling-and-combinatorics) |\n",
    "| | 1:05pm | 1:20pm | [Probability Fundamentals &rarr;](#probability-fundamentals) |\n",
    "| | 1:20pm | 1:35pm | [Univariate Statistics &rarr;](#univariate-statistics) |\n",
    "| | 1:35pm | 1:50pm | [Multivariate Statistics &rarr;](#multivariate-statistics) |\n",
    "| **Break!** | 1:50pm | 2:00pm | |\n",
    "| **Lab** | 2:00pm | 2:50pm | [Lab 1 Demonstrations <i class=\"bi bi-box-arrow-up-right\" style=\"font-size: 1.25rem;\"></i>](https://jfh.georgetown.domains/dsan5100/share-point/labs/lab-1/lab-1-demo.html){target=\"_blank\"} |\n",
    "| | 2:50pm | 3:00pm | [Lab Assignment Overview <i class=\"bi bi-box-arrow-up-right\" style=\"font-size: 1.25rem;\"></i>](https://jfh.georgetown.domains/dsan5100/share-point/labs/lab-1/lab-1-assignment.html){target=\"_blank\"} |\n",
    "\n",
    ": {tbl-colwidths=\"[12,12,12,54,5,5]\"} "
   ]
  },
  {
   "cell_type": "markdown",
   "metadata": {},
   "source": [
    "## Prof. Jeff Introduction! {.crunch-title data-name=\"About Me\"}\n",
    "\n",
    "* Born and raised in **NW DC** &rarr; high school in **Rockville, MD**\n",
    "* **University of Maryland**: Computer Science, Math, Economics *(2008-2012)*\n",
    "\n",
    "![](images/jj_dc_map.png){fig-align=\"center\"}\n"
   ]
  },
  {
   "cell_type": "markdown",
   "metadata": {},
   "source": [
    "## Grad School {.crunch-title .crunch-cols .crunch-list}\n",
    "\n",
    "* Studied abroad in **Beijing** (Peking University/北大) &rarr; internship with Huawei in **Hong Kong** (HKUST)\n",
    "\n",
    "::: columns\n",
    "::: {.column width=\"55%\"}\n",
    "* **Stanford** for MS in Computer Science *(2012-2014)*\n",
    "* Research Economist at **UC Berkeley** *(2014-2015)*\n",
    "\n",
    ":::\n",
    "::: {.column width=\"45%\"}\n",
    "\n",
    "![](images/bay_area_crop.png)\n",
    "\n",
    ":::\n",
    ":::\n",
    "\n",
    "* **Columbia** (NYC) for PhD[+Postdoc] in Political Science *(2015-2023)*\n",
    "\n"
   ]
  },
  {
   "cell_type": "markdown",
   "metadata": {},
   "source": [
    "## Dissertation (Political Science + History) {.small-title}\n",
    "\n",
    "*\"Our Word is Our Weapon\": Text-Analyzing Wars of Ideas from the French Revolution to the First Intifada*\n",
    "\n",
    "![](images/diss.png){fig-align=\"center\"}\n"
   ]
  },
  {
   "cell_type": "markdown",
   "metadata": {},
   "source": [
    "\n",
    "## Research (Labor Economics) {.smaller .crunch-figures}\n",
    "\n",
    "::: columns\n",
    "::: {.column width=\"50%\"}\n",
    "\n",
    "* <a href=\"https://www.aeaweb.org/articles?id=10.1257/aeri.20180150\" target=\"_blank\">\"Monopsony in Online Labor Markets\"</a>: Machine Learning to enhance causal estimates of the effect of **job description language** on **uptake rate**\n",
    "\n",
    ":::\n",
    "::: {.column width=\"50%\"}\n",
    "\n",
    "* \"Freedom as Non-Domination in the Labor Market\": Game-theoretic models of workers' rights (**monopsony** vs. **labor discipline**)\n",
    "\n",
    "<!-- ## Most Recently...\n",
    "\n",
    "* Chapter on \"Freedom as Non-Domination in the Labor Market and in the Workplace\" in *Republican Liberty: Philosophical, Political, and Economic Perspectives* (Cambridge University Press, 2024)\n",
    "* Submitted papers:\n",
    "  * \"Meaning, Understanding, and Digitization in the History of Ideas\"\n",
    "  * \"Quantifying Cultural Diplomacy: The Soviet Union and the Diffusion of Marxism in the Third World, 1945--1991\" -->\n",
    "\n",
    ":::\n",
    ":::\n",
    "\n",
    "* <a href=\"https://ieeexplore.ieee.org/document/9346539\" target=\"_blank\">\"Unsupervised Extraction of Workplace Rights and Duties from Collective Bargaining Agreements\"</a>: Linguistic (dependency) parses of contracts &rarr; time series of **worker** vs. **employer** rights and responsibilities over time\n",
    "\n",
    "<center>\n",
    "<img style=\"margin-top: 0px !important; margin-bottom: 0px !important;\" src=\"images/cbas.jpeg\" height=\"320\"></img>\n",
    "\n",
    "<!-- ){.notopmargin fig-align=\"center\" height=325 style=\"margin-top: 0px !important;\"} -->"
   ]
  },
  {
   "cell_type": "markdown",
   "metadata": {},
   "source": [
    "## Deterministic Processes {data-name=\"Review\"}\n",
    "\n",
    "* Given a set of inputs, we can compute the outcome *exactly*\n",
    "* Example: Given the radius of a circle, we can compute its area *without any uncertainty*. $r \\mapsto \\pi r^2$\n",
    "* (The fact that we *can* compute the outcome doesn't mean that it's easy to do so! See, e.g., the <a href=\"https://en.wikipedia.org/wiki/Double_pendulum\" target=\"_blank\">double pendulum</a>)\n",
    "\n",
    "![Image credit: <a href=\"https://tenor.com/view/double-pendulum-pendulum-chaos-theory-gif-25511149\" target=\"_blank\">Tenor.com</a>](images/pendulum.gif){fig-align=\"center\" .notopmargin}\n",
    "\n",
    "::: {.notes}\n",
    "The pendulum example points to the fact that the notion of a *chaotic* system, one which is \"sensitive to initial conditions\", is different from that of a *stochastic* system.\n",
    ":::"
   ]
  },
  {
   "cell_type": "markdown",
   "metadata": {
    "vscode": {
     "languageId": "r"
    }
   },
   "source": [
    "## \"Holy Grail\" Deterministic Model: Newtonian Physics {.smaller .small-title}\n",
    "\n",
    "```{=html}\n",
    "<style>\n",
    "#fig-newton {\n",
    "    margin-top: 0px !important;\n",
    "    margin-bottom: 0px !important;\n",
    "}\n",
    "\n",
    "figcaption {\n",
    "    margin-top: 0px !important;\n",
    "}\n",
    "</style>\n",
    "```\n",
    "\n",
    "::: columns\n",
    "\n",
    "::: {.column width=\"50%\"}\n",
    "\n",
    "```{dot}\n",
    "//| fig-width: 5\n",
    "//| fig-height: 2.5\n",
    "digraph grid\n",
    "{\n",
    "    graph [\n",
    "        overlap=true,\n",
    "        scale=0.2,\n",
    "        newrank=true\n",
    "    ]\n",
    "    nodesep=1.0\n",
    "    ranksep=1.0\n",
    "    rankdir=\"LR\"\n",
    "    nodedir=\"LR\"\n",
    "    scale=0.2\n",
    "    node [\n",
    "        style=\"filled\",\n",
    "        color=black,\n",
    "        fillcolor=lightblue\n",
    "    ]\n",
    "\t\n",
    "\tsubgraph cluster_01 {\n",
    "\t    label=\"\\\"Nature\\\"\";\n",
    "\t    Obs[label=\"Thing(s) we can see\"];\n",
    "\t    Und[label=\"Underlying processes\",fillcolor=white]\n",
    "\t    \n",
    "\t}\n",
    "\t{\n",
    "\tUnd -> Model[dir=back,style=dashed];\n",
    "\tModel -> Obs[style=dashed];\n",
    "\t}\n",
    "\t{\n",
    "\t    rank=source;\n",
    "\t    Und -> Obs [constraint=false];\n",
    "\t}\n",
    "\t\n",
    "\tsubgraph cluster_02 {\n",
    "\t    label=\"\\\"Science\\\"\"\n",
    "\t    Model[style=dashed];\n",
    "\t}\n",
    "}\n",
    "```\n",
    ":::\n",
    "\n",
    "::: {.column width=\"50%\"}\n",
    "\n",
    "```{dot}\n",
    "//| fig-width: 5\n",
    "//| fig-height: 2.5\n",
    "digraph grid\n",
    "{\n",
    "    graph [\n",
    "        overlap=true,\n",
    "        scale=0.2,\n",
    "        newrank=true\n",
    "    ]\n",
    "    nodesep=1.0\n",
    "    ranksep=1.0\n",
    "    rankdir=\"LR\"\n",
    "    nodedir=\"LR\"\n",
    "    scale=0.2\n",
    "    node [\n",
    "        style=\"filled\",\n",
    "        color=black,\n",
    "        fillcolor=lightblue\n",
    "    ]\n",
    "  subgraph cluster_04 {\n",
    "    label=<<U>Woolsthorpe Manor</U>>;\n",
    "    URL=\"https://en.wikipedia.org/wiki/Woolsthorpe_Manor\"\n",
    "    target=\"_blank\"\n",
    "    Tree[label=<<U>Falling Apple</U>>,URL=\"https://www.popularmechanics.com/science/a5259/4343234/\",target=\"_blank\"];\n",
    "    Physics[label=<<U>Particle Interactions</U>>,URL=\"https://en.wikipedia.org/wiki/Fundamental_interaction\",target=\"_blank\",fillcolor=white];\n",
    "  }\n",
    "  subgraph cluster_03 {\n",
    "    label=\"Isaac Newton\"\n",
    "    Newton[label=\"Newton's Laws\",style=dashed,fillcolor=white]\n",
    "  }\n",
    "  Newton -> Tree [style=dashed];\n",
    "  {\n",
    "\t    rank=source;\n",
    "\t    Physics -> Tree [constraint=false];\n",
    "\t}\n",
    "  Physics -> Newton[dir=back,style=dashed]\n",
    "}\n",
    "```\n",
    "\n",
    ":::\n",
    "\n",
    ":::\n",
    "\n",
    "::: {#fig-newton layout-ncol=4 style=\"}\n",
    "\n",
    "![](images/newton1.jpeg)\n",
    "\n",
    "![](images/newton2.jpeg)\n",
    "\n",
    "![](images/newton3.jpeg)\n",
    "\n",
    "::: {#fig-2}\n",
    "\n",
    "$$\n",
    "\\leadsto F_g = G\\frac{m_1m_2}{r^2}\n",
    "$$\n",
    "\n",
    "<a href=\"https://en.wikipedia.org/wiki/Newton%27s_law_of_universal_gravitation\" target=\"_blank\">Newton's Law of Universal Gravitation</a>\n",
    ":::\n",
    "\n",
    "*Doctor Zirkel follows Newton's famous steps*. Coloured wood engraving. <a href=\"https://wellcomecollection.org/works/ypzq2z9m\" target=\"_blank\">Wellcome Collection (Public Domain)</a>\n",
    ":::\n"
   ]
  },
  {
   "cell_type": "markdown",
   "metadata": {},
   "source": [
    "## But What Happens When... {.smaller .smaller-caption}\n",
    "\n",
    "$$\n",
    "\\text{Outcome}\\left(\\text{Dice Roll}\\right) = \\; ?\\frac{?_1?_2}{?^2}\n",
    "$$\n",
    "\n",
    "::: columns\n",
    "::: {.column width=\"50%\"}\n",
    "\n",
    "<center>\n",
    "**Pre-Enlightenment**\n",
    "</center>\n",
    "\n",
    "![Hans Sebald Beham, <a href=\"https://commons.wikimedia.org/wiki/File:Fortuna_or_Fortune.jpg\">*Fortuna* (1541)</a>, <a href=\"https://creativecommons.org/licenses/by/4.0\">CC BY 4.0</a>, via Wikimedia Commons](images/fortuna.jpg){height=400}\n",
    "\n",
    ":::\n",
    "::: {.column width=\"50%\"}\n",
    "\n",
    "<center>\n",
    "**Post-Enlightenment**\n",
    "</center>\n",
    "\n",
    "![Blaise Pascal, <a href=\"https://archive.org/details/bub_gb_UqgUAAAAQAAJ/page/n67/mode/2up\" target=\"_blank\">*Traité du triangle arithmétique* (1665)</a>. Public Domain, via Internet Archive](images/pascal.jpg){height=400}\n",
    "\n",
    ":::\n",
    ":::\n"
   ]
  },
  {
   "cell_type": "markdown",
   "metadata": {},
   "source": [
    "## Random Processes\n",
    "\n",
    "::: columns\n",
    "::: {.column width=\"50%\"}\n",
    "\n",
    "* Can't compute the outcome *exactly*, but **can still say something** about potential outcomes!\n",
    "* Example: randomly chosen radius $r \\in [0,1]$, what can we say about $A = \\pi r^2$?\n",
    "  * Unif: $[0,\\pi]$ equally likely\n",
    "  * Exp: closer to $0$ more likely\n",
    "\n",
    ":::\n",
    "::: {.column width=\"50%\"}\n"
   ]
  },
  {
   "cell_type": "code",
   "execution_count": 1,
   "metadata": {
    "vscode": {
     "languageId": "r"
    }
   },
   "outputs": [
    {
     "name": "stderr",
     "output_type": "stream",
     "text": [
      "Warning message in file(filename, \"r\", encoding = encoding):\n",
      "\"cannot open file '../assets/code/globals.r': No such file or directory\"\n"
     ]
    },
    {
     "ename": "ERROR",
     "evalue": "Error in file(filename, \"r\", encoding = encoding): cannot open the connection\n",
     "output_type": "error",
     "traceback": [
      "Error in file(filename, \"r\", encoding = encoding): cannot open the connection\nTraceback:\n",
      "1. source(\"../assets/code/globals.r\")",
      "2. file(filename, \"r\", encoding = encoding)"
     ]
    }
   ],
   "source": [
    "#| label: random-circles-unif\n",
    "#| fig-align: center\n",
    "#| fig-height: 5.5\n",
    "#| classes: \"nobotmargin\"\n",
    "# Need to include this for caching\n",
    "source(\"../assets/code/globals.r\")\n",
    "source(\"../assets/code/ggplot_globals.r\")\n",
    "plot_circ_with_distr <- function(N, radii, ptitle, alpha=0.1) {\n",
    "  theta <- seq(0, 360, 4)\n",
    "  #hist(radii)\n",
    "  circ_df <- expand.grid(x = theta, y = radii)\n",
    "  #circ_df\n",
    "  ggplot(circ_df, aes(x = x, y = y, group = y)) +\n",
    "      geom_path(alpha = alpha, color = cbPalette[1], linewidth=g_linesize) +\n",
    "      # Plot the full unit circle\n",
    "      geom_path(data = data.frame(x = theta, y = 1), aes(x = x), linewidth=g_linesize) +\n",
    "      geom_point(data = data.frame(x = 0, y = 0), aes(x = x), size = g_pointsize) +\n",
    "      coord_polar(theta = \"x\", start = -pi / 2, direction = -1) +\n",
    "      ylim(0, 1) +\n",
    "      # scale_x_continuous(limits=c(0,360), breaks=seq(0,360,by=45)) +\n",
    "      scale_x_continuous(limits = c(0, 360), breaks = NULL) +\n",
    "      dsan_theme(\"quarter\") +\n",
    "      labs(\n",
    "          title = ptitle,\n",
    "          x = NULL,\n",
    "          y = NULL\n",
    "      ) +\n",
    "      # See https://stackoverflow.com/a/19821839\n",
    "      theme(\n",
    "          axis.line = element_blank(),\n",
    "          axis.text = element_blank(),\n",
    "          axis.ticks = element_blank(),\n",
    "          axis.title = element_blank(),\n",
    "          panel.border = element_blank(),\n",
    "          panel.grid.major=element_blank(),\n",
    "          panel.grid.minor=element_blank(),\n",
    "          plot.margin = unit(c(0,0,0,0), \"cm\"),\n",
    "          title = element_text(size=18)\n",
    "      )\n",
    "}\n",
    "N <- 500\n",
    "radii <- runif(N, 0, 1)\n",
    "title <- paste0(N, \" Uniformly-Distributed Radii\")\n",
    "alpha <- 0.2\n",
    "plot_circ_with_distr(N, radii, title, alpha)\n"
   ]
  },
  {
   "cell_type": "code",
   "execution_count": null,
   "metadata": {
    "vscode": {
     "languageId": "r"
    }
   },
   "outputs": [],
   "source": [
    "#| label: random-circles-exp\n",
    "#| fig-align: center\n",
    "#| fig-height: 5.5\n",
    "#| classes: \"nobotmargin\"\n",
    "library(ggplot2)\n",
    "N <- 1000\n",
    "radii <- rexp(N, 4)\n",
    "title <- paste0(N, \" Exponentially-Distributed Radii\")\n",
    "plot_circ_with_distr(N, radii, title, alpha=0.15)"
   ]
  },
  {
   "cell_type": "markdown",
   "metadata": {},
   "source": [
    ":::\n",
    ":::"
   ]
  },
  {
   "cell_type": "markdown",
   "metadata": {},
   "source": [
    "## Data = Ground Truth + Noise {.smaller}\n",
    "\n",
    "* Depressing but true origin of **statistics** (as opposed to **probability**): the Plague 😷\n",
    "\n",
    "::: {layout-ncol=2}\n",
    "\n",
    "![Ground Truth: The Great Plague (*Lord Have Mercy on London*, Unknown Artist, circa 1665, via <a href=\"https://commons.wikimedia.org/wiki/File:Lord_haue_mercy_on_London.jpg\" target=\"_blank\">Wikimedia Commons</a>)](images/lord_have_mercy.jpg)\n",
    "\n",
    "![Noisy Data (Recorded amidst chaos): London Bill of Mortality, 1665 (Public Domain, <a href=\"https://wellcomecollection.org/works/bqxkq9yy\" target=\"_blank\">Wellcome Collection</a>)](images/bill.jpeg)\n",
    "\n",
    ":::"
   ]
  },
  {
   "cell_type": "markdown",
   "metadata": {},
   "source": [
    "## Random Variables {.smaller}\n",
    "\n",
    "* In **algebra**, to solve problems we work with **variables**\n",
    "* In **probability theory**, to solve problems we work with **random variables**\n",
    "* Recall the difference between **random** and **deterministic**: $A = \\pi r^2$ tells us that, given a value of $r$, we can solve for **the** unique value of $A$\n",
    "* In probability theory, however, there is **no one \"true\" value** of a random variable $X$.\n",
    "* Let $X = f(N)$ mean that $X$ is the result of a rolled die, where the die has $N$ sides.\n",
    "* Plugging in $N = 6$ (standard 6-sided die) still doesn't mean we know \"the\" value of $X$. However, (if the die is fair) we **do** know\n",
    "\n",
    "$$\n",
    "\\Pr(X = 1) = \\Pr(X = 2) = \\cdots = \\Pr(X = 6) = \\frac{1}{6}\n",
    "$$"
   ]
  },
  {
   "cell_type": "markdown",
   "metadata": {},
   "source": [
    "## Discrete vs. Continuous {.smaller}\n",
    "\n",
    "* Many complicated definitions, often misleading or unintuitive!\n",
    "* How I want you to remember: **How many possible values between** two known values?\n",
    "* **Discrete**: e.g., **number of siblings**\n",
    "    * I have 2 siblings, you have 3 siblings... How many values (sibling counts) in between?\n",
    "* **Continuous**: e.g., **temperature**\n",
    "    * It is 27.0&deg; C in my room, 28.0&deg; C in your room... How many values (temperatures) in between?\n",
    "* So, if $X$ is the result of a rolled die, is $X$ discrete or continuous? How many values can be rolled between 3 and 4?"
   ]
  },
  {
   "cell_type": "markdown",
   "metadata": {},
   "source": [
    "## Thinking About Independence\n",
    "\n",
    "* We'll define it formally later; for now, this is our working definition:\n",
    "\n",
    "::: {.callout-tip title=\"Working Definition: Independence\"}\n",
    "\n",
    "Two random variables $X$ and $Y$ are **independent** if learning information about $X$ does **not** give you information about the value of $Y$, or vice-versa.\n",
    "\n",
    ":::"
   ]
  },
  {
   "cell_type": "markdown",
   "metadata": {},
   "source": [
    "## Naïve Definition of Probability {.smaller data-name=\"Combinatorics\"}\n",
    "\n",
    "* **Sample Space**: The set of all possible **outcomes** of an experiment\n",
    "* **Event**: A **subset** of the sample space\n",
    "\n",
    "::: {.callout-tip title=\"Naïve Definition of Probability\"}\n",
    "\n",
    "Given a sample space $S$, and an event $E \\subset S$,\n",
    "\n",
    "$$\n",
    "\\Pr(\\underbrace{E}_{\\text{event}}) = \\frac{\\text{\\# Favorable Outcomes}}{\\text{\\# Possible Outcomes}} = \\frac{|E|}{|S|}\n",
    "$$\n",
    "\n",
    ":::\n",
    "\n"
   ]
  },
  {
   "cell_type": "markdown",
   "metadata": {},
   "source": [
    "## Example: Flipping Two Coins {.smaller}\n",
    "\n",
    "::: {.callout-tip title=\"Naïve Definition of Probability\"}\n",
    "\n",
    "Given a sample space $S$, and an event $E \\subset S$,\n",
    "\n",
    "$$\n",
    "\\Pr(\\underbrace{E}_{\\text{event}}) = \\frac{\\text{\\# Favorable Outcomes}}{\\text{\\# Possible Outcomes}} = \\frac{|E|}{|S|}\n",
    "$$\n",
    "\n",
    ":::\n",
    "\n",
    "* **Flipping two coins:**\n",
    "    * Sample space $S = \\{TT, TH, HT, HH\\}$\n",
    "    * Event $E_1$: Result of first flip is $H$, result of second flip is $T$ $\\implies$ $E_1 = \\{HT\\}$.\n",
    "    * Event $E_2$: At least one $H$ $\\implies$ $E_2 = \\{TH, HT, HH\\}$.\n",
    "\n",
    "$$\n",
    "\\begin{align*}\n",
    "\\Pr(E_1) &= \\frac{|\\{HT\\}|}{|S|} = \\frac{|\\{HT\\}|}{|\\{TT, TH, HT, HH\\}|} = \\frac{1}{4} \\\\\n",
    "\\Pr(E_2) &= \\frac{|\\{TH, HT, HH\\}|}{|S|} = \\frac{|\\{TH, HT, HH\\}|}{|\\{TT, TH, HT, HH\\}|} = \\frac{3}{4}\n",
    "\\end{align*}\n",
    "$$\n"
   ]
  },
  {
   "cell_type": "markdown",
   "metadata": {},
   "source": [
    "## Events $\\neq$ Outcomes!\n",
    "\n",
    "* **Outcomes** are **things**, **events** are **sets** of things\n",
    "* Subtle but **extremely** important distinction!\n",
    "* In the coin flip example:\n",
    "    * The **event** $E_1 = \\{HT\\}$ can be confused with the **outcome** $HT$.\n",
    "    * So, try to remember instead the **event** $E_2 = \\{TH, HT, HH\\}$: it is more clear, in this case, how this **event** does not correspond to any individual **outcome**"
   ]
  },
  {
   "cell_type": "markdown",
   "metadata": {},
   "source": [
    "## Back to the Naïve Definition {.smaller}\n",
    "\n",
    "::: {.callout-tip title=\"Naïve Definition of Probability\"}\n",
    "\n",
    "Given a sample space $S$, and an event $E \\subset S$,\n",
    "\n",
    "$$\n",
    "\\Pr(\\underbrace{E}_{\\text{event}}) = \\frac{\\text{\\# Favorable Outcomes}}{\\text{\\# Possible Outcomes}} = \\frac{|E|}{|S|}\n",
    "$$\n",
    "\n",
    ":::\n",
    "\n",
    "* The naïve definition tells us that **probabilities** are just **ratios of counts**:\n",
    "    * Count the number of ways the event $E$ can happen, count the total number of things that can happen, and divide!\n",
    "* This is why we begin studying probability by studying **combinatorics**: the mathematics of **counting**"
   ]
  },
  {
   "cell_type": "markdown",
   "metadata": {},
   "source": [
    "## Combinatorics: Ice Cream Possibilities\n",
    "\n",
    "```{dot}\n",
    "digraph G {\n",
    "    rankdir=LR\n",
    "    splines=false\n",
    "    cone[label=\"Cone Type\"]\n",
    "    flavCake[label=\"Flavor\"]\n",
    "    flavWaf[label=\"Flavor\"]\n",
    "    cone -> flavCake[label=\"Cake\"];\n",
    "    cone -> flavWaf[label=\"Waffle\"];\n",
    "    cakeVanilla[label=\"Vanilla Cake Cone\"]\n",
    "    cakeChoc[label=\"Chocolate Cake Cone\"]\n",
    "    cakeSwirl[label=\"Swirl Cake Cone\"]\n",
    "    flavCake -> cakeVanilla[label=\"Vanilla\"];\n",
    "    flavCake -> cakeChoc[label=\"Chocolate\"];\n",
    "    flavCake -> cakeSwirl[label=\"Swirl\"];\n",
    "    wafVanilla[label=\"Vanilla Waffle Cone\"]\n",
    "    wafChoc[label=\"Chocolate Waffle Cone\"]\n",
    "    wafSwirl[label=\"Swirl Waffle Cone\"]\n",
    "    flavWaf -> wafVanilla[label=\"Vanilla\"];\n",
    "    flavWaf -> wafChoc[label=\"Chocolate\"];\n",
    "    flavWaf -> wafSwirl[label=\"Swirl\"];\n",
    "}\n",
    "```"
   ]
  },
  {
   "cell_type": "markdown",
   "metadata": {},
   "source": [
    "## Probability Fundamentals {data-name=\"Prob Fundamentals\"}\n",
    "\n",
    "* Probability Fundamentals"
   ]
  },
  {
   "cell_type": "markdown",
   "metadata": {},
   "source": [
    "## Statistics {data-name=\"Statistics\"}\n",
    "\n",
    "* Statistics"
   ]
  },
  {
   "cell_type": "code",
   "execution_count": null,
   "metadata": {
    "vscode": {
     "languageId": "r"
    }
   },
   "outputs": [],
   "source": []
  },
  {
   "cell_type": "markdown",
   "metadata": {},
   "source": []
  }
 ],
 "metadata": {
  "kernelspec": {
   "display_name": "R",
   "language": "R",
   "name": "ir"
  },
  "language_info": {
   "codemirror_mode": "r",
   "file_extension": ".r",
   "mimetype": "text/x-r-source",
   "name": "R",
   "pygments_lexer": "r",
   "version": "4.3.1"
  },
  "orig_nbformat": 4
 },
 "nbformat": 4,
 "nbformat_minor": 2
}
