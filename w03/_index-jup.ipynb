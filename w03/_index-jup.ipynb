{
 "cells": [
  {
   "cell_type": "raw",
   "metadata": {},
   "source": [
    "---\n",
    "title: \"Week 3: Conditional Probability\"\n",
    "subtitle: \"*DSAN 5100: Probabilistic Modeling and Statistical Computing*<br>Section 03\"\n",
    "author: \"Jeff Jacobs\"\n",
    "institute: \"<a href=\\\"mailto:jj1088@georgetown.edu\\\" target=\\\"_blank\\\">`jj1088@georgetown.edu`</a>\"\n",
    "date: 2023-09-07\n",
    "date-format: full\n",
    "#date: last-modified\n",
    "#date-format: \"dddd MMM D, YYYY, HH:mm:ss\"\n",
    "lecnum: 3\n",
    "categories:\n",
    "  - \"Class Sessions\"\n",
    "execute:\n",
    "  enabled: true\n",
    "format:\n",
    "  revealjs:\n",
    "    footer: \"DSAN 5100-03 Week 03: Conditional Probability\"\n",
    "    cache: false\n",
    "    output-file: slides.html\n",
    "    include-in-header:\n",
    "      text: \"<link rel=\\\"stylesheet\\\" href=\\\"https://cdn.jsdelivr.net/npm/bootstrap-icons@1.10.5/font/bootstrap-icons.css\\\">\"\n",
    "  html:\n",
    "    output-file: index.html\n",
    "metadata-files: \n",
    "  - \"../_meta-slides.yml\"\n",
    "  - \"../_meta-notes.yml\"\n",
    "---"
   ]
  },
  {
   "cell_type": "markdown",
   "metadata": {},
   "source": [
    "::: {.content-visible unless-format=\"revealjs\"}\n",
    "\n",
    "<center>\n",
    "<a class=\"h2\" href=\"./slides.html\" target=\"_blank\">Open slides in new window &rarr;</a>\n",
    "</center>\n",
    "\n",
    ":::\n",
    "\n",
    "# Schedule {.smaller .smaller-title data-name=\"Schedule\"}\n",
    "\n",
    "::: {.hidden}"
   ]
  },
  {
   "cell_type": "code",
   "execution_count": 1,
   "metadata": {},
   "outputs": [],
   "source": [
    "source(\"../_globals.r\")"
   ]
  },
  {
   "cell_type": "markdown",
   "metadata": {},
   "source": [
    ":::\n",
    "\n",
    "| | Start | End | Topic | Recording |\n",
    "|:- |:- |:- |:- |:-:|\n",
    "| **Lecture** | 12:30pm | 12:40pm | [Recap &rarr;](#recap) | <a href=\"./recording-w03-1.html\" target=\"_blank\"><i class=\"bi bi-film\"></i></a> |\n",
    "| | 12:40pm | 1:20pm | [What is Conditional Probability? &rarr;](#what-is-conditional-probability) | <a href=\"./recording-w03-2.html\" target=\"_blank\"><i class=\"bi bi-film\"></i></a> |\n",
    "| | 1:20pm | 2:00pm | [Bayes' Theorem and its Implications &rarr;](#bayes-theorem-and-its-implications) | <a href=\"./recording-w03-3.html\" target=\"_blank\"><i class=\"bi bi-film\"></i></a> |\n",
    "| **Break!** | 2:00pm | 2:10pm | | |\n",
    "| **Lab** | 2:10pm | 2:50pm | [Lab 2 Demonstrations <i class=\"bi bi-box-arrow-up-right\" style=\"font-size: 1.2rem;\"></i>](https://jfh.georgetown.domains/dsan5100/share-point/labs/lab-1/lab-1-demo.html){target=\"_blank\"} | <a href=\"./recording-w03-4.html\" target=\"_blank\"><i class=\"bi bi-film\"></i></a> |\n",
    "| | 2:50pm | 3:00pm | [Lab 2 Assignment Overview <i class=\"bi bi-box-arrow-up-right\" style=\"font-size: 1.2rem;\"></i>](https://jfh.georgetown.domains/dsan5100/share-point/labs/lab-1/lab-1-assignment.html){target=\"_blank\"} | <a href=\"./recording-w03-5.html\" target=\"_blank\"><i class=\"bi bi-film\"></i></a> |\n",
    "\n",
    ": {tbl-colwidths=\"[12,12,12,54,5,5]\"} \n",
    "\n",
    "# Recap {data-stack-name=\"Recap\"}\n",
    "\n",
    "## Recap {.smaller}\n",
    "\n",
    "* Logic $\\rightarrow$ Set Theory $\\rightarrow$ Probability Theory\n",
    "* Entirety of probability theory can be derived from **two axioms**:\n",
    "\n",
    "::: {.callout-tip icon=false title=\"The Entirety of Probability Theory Follows From...\"}\n",
    "\n",
    "**Axiom 1** (*Unitarity*): $\\Pr(\\Omega) = 1$ (The probability that **something** happens is 1)\n",
    "\n",
    "**Axiom 2** (*$\\sigma$-additivity*): For mutually-exclusive events $E_1, E_2, \\ldots$,\n",
    "\n",
    "$$\n",
    "\\underbrace{\\Pr\\left(\\bigcup_{i=1}^{\\infty}E_i\\right)}_{\\Pr(E_1\\text{ occurs }\\vee E_2\\text{ occurs } \\vee \\cdots)} = \\underbrace{\\sum_{i=1}^{\\infty}\\Pr(E_i)}_{\\Pr(E_1\\text{ occurs}) + \\Pr(E_2\\text{ occurs}) + \\cdots}\n",
    "$$\n",
    "  \n",
    ":::\n",
    "\n",
    "* But what does \"mutually exclusive\" mean...?\n",
    "\n",
    "## Venn Diagrams: Sets {.smaller}\n",
    "\n",
    "::: {layout-ncol=2}\n",
    "::: {#fig-venn-mutex}\n",
    "\n",
    "$$\n",
    "\\begin{align*}\n",
    "&A = \\{0, 1, 2\\}, \\; B = \\{4, 5, 6\\} \\\\\n",
    "&\\implies A \\cap B = \\varnothing\n",
    "\\end{align*}\n",
    "$$\n",
    "\n",
    "Mutually-exclusive (disjoint) sets\n",
    ":::\n",
    "::: {#fig-venn}\n",
    "\n",
    "$$\n",
    "\\begin{align*}\n",
    "&A = \\{1, 2, 3\\}, \\; B = \\{3, 4, 5\\} \\\\\n",
    "&\\implies A \\cap B = \\{3\\}\n",
    "\\end{align*}\n",
    "$$\n",
    "\n",
    "Non-mutually-exclusive sets\n",
    ":::\n",
    ":::\n",
    "\n",
    "## Venn Diagrams: Events (Dice) {.smaller}\n",
    "\n",
    "$$\n",
    "\\begin{align*}\n",
    "A &= \\{\\text{Roll is even}\\} = \\{2, 4, 6\\} \\\\\n",
    "B &= \\{\\text{Roll is odd}\\} = \\{1, 3, 5\\} \\\\\n",
    "C &= \\{\\text{Roll is in Fibonnaci sequence}\\} = \\{1, 2, 3, 5\\}\n",
    "\\end{align*}\n",
    "$$\n",
    "\n",
    "| Set 1 | Set 2 | Intersection | Mutually Exclusive? | Can Happen Simultaneously? |\n",
    "| - | - | - | - | - |\n",
    "| $A$ | $B$ | $A \\cap B = \\varnothing$ | **Yes** | **No** |\n",
    "| $A$ | $C$ | $A \\cap C = \\{2\\}$ | **No** | **Yes** |\n",
    "| $B$ | $C$ | $B \\cap C = \\{1, 3, 5\\}$ | **No** | **Yes** |\n",
    "\n",
    ": {tbl-colwidths=\"[8,8,30,27,27]\"}\n",
    "\n",
    "## \"Rules\" of Probability {.smaller}\n",
    "\n",
    "* (Remember: not *\"rules\"* but *\"facts resulting from the logic $\\leftrightarrow$ probability connection\"*)\n",
    "\n",
    "::: {.callout-tip icon=\"false\" title=\"\\\"Rules\\\" of Probability\"}\n",
    "\n",
    "For logical predicates $p, q \\in \\{T, F\\}$, events $P, Q$ defined so $P$ = event that $p$ becomes true, $Q$ = event that $q$ becomes true,\n",
    "\n",
    "1. **Logical AND = Probabilistic Multiplication**\n",
    "\n",
    "$$\n",
    "\\Pr(p \\wedge q) = \\Pr(P \\cap Q) = \\Pr(P) \\cdot \\Pr(Q)\n",
    "$$\n",
    "\n",
    "2. **Logical OR = Probabilistic Addition**\n",
    "\n",
    "$$\n",
    "\\Pr(p \\vee q) = \\Pr(P \\cup Q) = \\Pr(P) + \\Pr(Q) - \\underbrace{\\Pr(P \\cap Q)}_{\\text{(see rule 1)}}\n",
    "$$\n",
    "\n",
    "3. **Logical NOT = Probabilistic Complement**\n",
    "\n",
    "$$\n",
    "\\Pr(\\neg p) = \\Pr(P^c) = 1 - \\Pr(P)\n",
    "$$\n",
    "\n",
    ":::\n",
    "\n",
    "# What is Conditional Probability? {data-stack-name=\"Conditional Prob\"}\n",
    "\n",
    "## Conditional Probability {.smaller}\n",
    "\n",
    "* Usually if someone asks you probabilistic questions, like\n",
    "  * \"What is the likelihood that [our team] wins?\"\n",
    "  * \"Do you think it will rain tomorrow?\" and so on\n",
    "* You don't guess a random number, you **consider** and **incorporate evidence**.\n",
    "* Example: $\\Pr(\\text{rain})$ on its own, without any other info? A tough question... maybe $0.5$?\n",
    "* In reality, we would think about\n",
    "  * $\\Pr(\\text{rain} \\mid \\text{month of the year})$\n",
    "  * $\\Pr(\\text{rain} \\mid \\text{where we live})$\n",
    "  * $\\Pr(\\text{rain} \\mid \\text{did it rain yesterday?})$\n",
    "* Psychologically, breaks down into two steps: (1) Think of a **baseline probability**, (2) **Update** baseline probability to incorporate **relevant evidence** (more on this in a bit...)\n",
    "* Also recall from last week: **all** probability is **conditional** probability, even if just conditioned on \"something happened\" ($\\Omega$, the thing defined so $\\Pr(\\Omega) = 1$)\n",
    "\n",
    "## Naïve Definition 2.0 {.smaller}\n",
    "\n",
    "::: {.callout-tip icon=\"false\" title=\"[Slightly Less] Naïve Definition of Probability\"}\n",
    "\n",
    "$$\n",
    "\\Pr(A \\mid B) = \\frac{\\text{\\# of Desired Outcomes in world where }B\\text{ happened}}{\\text{\\# Total outcomes in world where }B\\text{ happened}} = \\frac{|B \\cap A|}{|B|}\n",
    "$$\n",
    "\n",
    ":::\n",
    "\n",
    "| World Name | Weather in World | Likelihood of Rain Today |\n",
    "| - | - |:-:|\n",
    "| $R$ | **Rained for the past 5 days** | $\\Pr(\\text{rain} \\mid R) > 0.5$ |\n",
    "| $M$ | **Mix of rain and non-rain over past 5 days** | $\\Pr(\\text{rain} \\mid M) \\approx 0.5$ |\n",
    "| $S$ | **Sunny for the past 5 days** | $\\Pr(\\text{rain} \\mid S) < 0.5$ |\n",
    "\n",
    ": {tbl-colwidths=\"[16,50,34]\"}\n",
    "\n",
    "\n",
    "## Law of Total Probability {.smaller}\n",
    "\n",
    "* Suppose the events $B_1, \\ldots, B_k$ form a partition of the space $S$ and $\\Pr(B_j) > 0 \\forall j$.\n",
    "* Then, for every event $A$ in $S$,\n",
    "\n",
    "$$\n",
    "\\Pr(A) = \\sum_{i=1}^k \\Pr(B_j)\\Pr(A \\mid B_j)\n",
    "$$\n",
    "\n",
    "* Probability of an event is the sum of its conditional probabilities across all conditions.\n",
    "* In other words: $A$ is some event, $B_1, \\ldots, B_n$ are mutually exclusive events filling entire sample-space, then\n",
    "\n",
    "$$\n",
    "\\Pr(A) = \\Pr(A \\mid B_1)\\Pr(B_1) + \\Pr(A \\mid B_2)\\Pr(B_2) + \\cdots + \\Pr(A \\mid B_n)\\Pr(B_n)\n",
    "$$\n",
    "\n",
    "i.e. Compute the probability by **summing over all possible cases**.\n",
    "\n",
    "## Example {.smaller}\n",
    "\n",
    "* Probabilities of completing a job on time, with and without rain, are 0.42 and 0.90 respectively.\n",
    "* Probability it will rain is 0.45. What is the probability the job will be completed on time?\n",
    "* $A$ = job will be completed on time, $B$ = rain\n",
    "\n",
    "$$\n",
    "\\Pr(B) = 0.45 \\implies \\Pr(B^c) = 1 - \\Pr(B) = 0.55.\n",
    "$$\n",
    "\n",
    "* Note: Events $B$ and $B^c$ are exclusive and form partitions of the sample space $S$\n",
    "* We know $\\Pr(A \\mid B) = 0.24$, $\\Pr(A \\mid B^c) = 0.9$.\n",
    "* By the Law of Total Probability, we have\n",
    "\n",
    "$$\n",
    "\\begin{align*}\n",
    "\\Pr(A) &= \\Pr(B)\\Pr(A \\mid B) + \\Pr(B^c)\\Pr(A \\mid B^c) \\\\\n",
    "&= 0.45(0.42) + 0.55(0.9) = 0.189 + 0.495 = 0684.\n",
    "\\end{align*}\n",
    "$$\n",
    "\n",
    "So, the probability that the job will be completed on time is **0.684**. [(source)](https://byjus.com/maths/total-probability-theorem/){target=\"_blank\"}\n",
    "\n",
    "# Bayes' Theorem and its Implications {data-stack-name=\"Bayes\"}\n",
    "\n",
    "## Deriving Bayes' Theorem {.smaller .crunch-math}\n",
    "\n",
    "* Literally just a re-writing of the conditional probability definition (don't be scared)!\n",
    "\n",
    "::: columns\n",
    "::: {.column width=\"50%\"}\n",
    "\n",
    "1. For two events $A$ and $B$, definition of conditional probability says that\n",
    "\n",
    "$$\n",
    "\\begin{align*}\n",
    "\\Pr(A \\mid B) &= \\frac{\\Pr(A \\cap B)}{\\Pr(B)} \\tag{1} \\\\\n",
    "\\Pr(B \\mid A) &= \\frac{\\Pr(B \\cap A)}{\\Pr(A)} \\tag{2}\n",
    "\\end{align*}\n",
    "$$\n",
    "\n",
    "2. Multiply to get rid of fractions\n",
    "\n",
    "$$\n",
    "\\begin{align*}\n",
    "\\Pr(A \\mid B)\\Pr(B) &= \\Pr(A \\cap B) \\tag{1*} \\\\\n",
    "\\Pr(B \\mid A)\\Pr(A) &= \\Pr(B \\cap A) \\tag{2*}\n",
    "\\end{align*}\n",
    "$$\n",
    "\n",
    ":::\n",
    "::: {.column width=\"50%\"}\n",
    "\n",
    "3. But **set intersection** is **associative** (just like multiplication...), $A \\cap B = B \\cap A$! So, we know LHS of $(\\text{1*})$ = LHS of $(\\text{2*})$:\n",
    "\n",
    "$$\n",
    "\\Pr(A \\mid B)\\Pr(B) = \\Pr(B \\mid A)\\Pr(A)\n",
    "$$\n",
    "\n",
    "4. Divide both sides by $\\Pr(B)$ to get a **new definition** of $\\Pr(A \\mid B)$, **Bayes' Theorem**!\n",
    "\n",
    "::: {#fig-bayes-thm}\n",
    "\n",
    "$$\n",
    "\\boxed{\\Pr(A \\mid B) = \\frac{\\Pr(B \\mid A)\\Pr(A)}{\\Pr(B)}}\n",
    "$$\n",
    "\n",
    "Bayes' Theorem\n",
    ":::\n",
    "\n",
    ":::\n",
    ":::\n",
    "\n",
    "## Why Is This Helpful? {.smaller}\n",
    "\n",
    "::: {.callout-tip icon=\"false\" title=\"Bayes' Theorem\"}\n",
    "\n",
    "For any two events $A$ and $B$,\n",
    "$$\n",
    "\\Pr(A \\mid B) = \\frac{\\Pr(B \\mid A)\\Pr(A)}{\\Pr(B)}\n",
    "$$\n",
    "\n",
    ":::\n",
    "\n",
    "* In words (as exciting as I can make it, for now): **Bayes' Theorem allows us to take information about $B \\mid A$ and use it to infer information about $A \\mid B$**\n",
    "* It isn't until you work through some examples that this becomes mind-blowing, the most powerful equation we have for inferring **unknowns** from **knowns**...\n",
    "* Consider $A = \\{\\text{person has disease}\\}$, $B = \\{\\text{person tests positive for disease}\\}$\n",
    "  1. Is $A$ observable on its own? **No**, but...\n",
    "  2.\n",
    "    (a) Is $B$ observable on its own? **Yes**, and\n",
    "    (b) Can we **infer** information about $A$ from knowing $B$? **Also Yes, thanks to Bayes!**\n",
    "  3. Therefore, we can **use $B$ to infer information about $A$**, i.e., calculate $\\Pr(A \\mid B)$...\n",
    "\n",
    "## Why Is This Helpful for *Data Science*? {.smaller}\n",
    "\n",
    "* It merges **probability theory** and **hypothesis testing** into a single framework:\n",
    "\n",
    "$$\n",
    "\\Pr(\\text{hypothesis} \\mid \\text{data}) = \\frac{\\Pr(\\text{data} \\mid \\text{hypothesis})\\Pr(\\text{hypothesis})}{\\Pr(\\text{data})}\n",
    "$$\n",
    "\n",
    "\n",
    "## Probability Forwards and Backwards {.nostretch .smaller}\n",
    "\n",
    "* Two discrete RVs:\n",
    "  * Weather on a given day, $W \\in \\{\\textsf{Rain},\\textsf{Sun}\\}$\n",
    "  * Action that day, $A \\in \\{\\textsf{Go}, \\textsf{Stay}\\}$: go to party or stay in and watch movie\n",
    "* Data-generating process: if $\\textsf{Sun}$, rolls a die $R$ and goes out unless $R = 6$. If $\\textsf{Rain}$, flips a coin and goes out if $\\textsf{H}$.\n",
    "\n",
    "* Probabilistic Graphical Model (PGM):\n",
    "\n",
    "![](images/pgm.svg){fig-align=\"center\" width=\"60%\"}\n",
    "\n",
    "## {.unnumbered .nostretch}\n",
    "\n",
    "* So, if we know $W = \\textsf{Sun}$, what is $P(A = \\textsf{Go})$?\n",
    "$$\n",
    "\\begin{align*}\n",
    "P(A = \\textsf{Go} \\mid W) &= 1 - P(R = 6) \\\\\n",
    "&= 1 - \\frac{1}{6} = \\frac{5}{6}\n",
    "\\end{align*}\n",
    "$$\n",
    "\n",
    "* Conditional probability lets us go **forwards** (left to right):\n",
    "\n",
    "![](images/pgm_forwards.svg){fig-align=\"center\" width=\"60%\"}\n",
    "\n",
    "::: {.notes}\n",
    "But what if we want to perform inference going **backwards**?\n",
    ":::\n",
    "\n",
    "## {.unnumbered .smaller .smallishmath}\n",
    "\n",
    "::: columns\n",
    "::: {.column width=\"50%\"}\n",
    "\n",
    "  * If we see Ana at the party, we know $A = \\textsf{Go}$\n",
    "  * What does this tell us about the weather?\n",
    "  * Intuitively, we should increase our degree of belief that $W = \\textsf{Sun}$. But, by how much?\n",
    "  * We don't know $P(W \\mid A)$, only $P(A \\mid W)$...\n",
    "\n",
    ":::\n",
    "::: {.column width=\"50%\"}\n",
    "\n",
    "![](images/koolaid_bayes.png){fig-align=\"center\" width=\"100%\"}\n",
    "\n",
    ":::\n",
    ":::\n",
    "\n",
    "## {.unnumbered .smaller}\n",
    "\n",
    "$$\n",
    "P(W = \\textsf{Sun} \\mid A = \\textsf{Go}) = \\frac{\\overbrace{P(A = \\textsf{Go} \\mid W = \\textsf{Sun})}^{5/6~ ✅}\\overbrace{P(W = \\textsf{Sun})}^{❓}}{\\underbrace{P(A = \\textsf{Go})}_{❓}}\n",
    "$$\n",
    "\n",
    "* We've seen $P(W = \\textsf{Sun})$ before, it's our **prior**: the probability without having any additional relevant knowledge. So, let's say 50/50. $P(W = \\textsf{Sun}) = \\frac{1}{2}$\n",
    "* If we lived in Seattle, we could pick $P(W = \\textsf{Sun}) = \\frac{1}{4}$\n",
    "\n",
    "## {.unnumbered .smaller .small-math}\n",
    "\n",
    "$$\n",
    "P(W = \\textsf{Sun} \\mid A = \\textsf{Go}) = \\frac{\\overbrace{P(A = \\textsf{Go} \\mid W = \\textsf{Sunny})}^{5/6~ ✅}\\overbrace{P(W = \\textsf{Sun})}^{1/2~ ✅}}{\\underbrace{P(A = \\textsf{Go})}_{❓}}\n",
    "$$\n",
    "\n",
    "* $P(A = \\textsf{Go})$ is trickier: the probability that Ana goes out **regardless of what the weather is**. But there are only two possible weather outcomes! So we just compute\n",
    "\n",
    "$$\n",
    "\\begin{align*}\n",
    "&P(A = \\textsf{Go}) = \\sum_{\\omega \\in S(W)}P(A = \\textsf{Go}, \\omega) = \\sum_{\\omega \\in S(W)}P(A = \\textsf{Go} \\mid \\omega)P(\\omega) \\\\\n",
    "&= P(A = \\textsf{Go} \\mid W = \\textsf{Rain})P(W = \\textsf{Rain}) + P(A = \\textsf{Go} \\mid W = \\textsf{Sun})P(W = \\textsf{Sun}) \\\\\n",
    "&= \\left( \\frac{1}{2} \\right)\\left( \\frac{1}{2} \\right) + \\left( \\frac{5}{6} \\right)\\left( \\frac{1}{2} \\right) = \\frac{1}{4} + \\frac{5}{12} = \\frac{2}{3}\n",
    "\\end{align*}\n",
    "$$\n",
    "\n",
    "## Putting it All Together {.smaller-math}\n",
    "\n",
    "$$\n",
    "\\begin{align*}\n",
    "P(W = \\textsf{Sun} \\mid A = \\textsf{Go}) &= \\frac{\\overbrace{P(A = \\textsf{Go} \\mid W = \\textsf{Sunny})}^{3/4~ ✅}\\overbrace{P(W = \\textsf{Sun})}^{1/2~ ✅}}{\\underbrace{P(A = \\textsf{Go})}_{1/2~ ✅}} \\\\\n",
    "&= \\frac{\\left(\\frac{3}{4}\\right)\\left(\\frac{1}{2}\\right)}{\\frac{1}{2}} = \\frac{\\frac{3}{8}}{\\frac{1}{2}} = \\frac{3}{4}.\n",
    "\\end{align*}\n",
    "$$\n",
    "\n",
    "* Given that we see Ana at the party, we should **update our beliefs**, so that $P(W = \\textsf{Sun}) = \\frac{3}{4}, P(W = \\textsf{Rain}) = \\frac{1}{4}$.\n",
    "\n",
    "## A Scarier Example {.smaller}\n",
    "\n",
    "* Bo worries he has a **rare disease**. He takes a test with **99% accuracy** and tests **positive**. What's the probability Bo has the disease? (Intuition: 99%? ...Let's do the math!)\n",
    "\n",
    "::: columns\n",
    "::: {.column width=\"50%\"}\n",
    "\n",
    "* $H \\in \\{\\textsf{sick}, \\textsf{healthy}\\}, T \\in \\{\\textsf{T}^+, \\textsf{T}^-\\}$\n",
    "* **The test**: 99% accurate. $\\Pr(T = \\textsf{T}^+ \\mid H = \\textsf{sick}) = 0.99$, $\\Pr(T = \\textsf{T}^- \\mid H = \\textsf{healthy}) = 0.99$.\n",
    "* **The disease**: 1 in 10K. $\\Pr(H = \\textsf{sick}) = \\frac{1}{10000}$\n",
    "* **What do we want to know?** $\\Pr(H = \\textsf{sick} \\mid T = \\textsf{T}^+)$\n",
    "* **How do we get there?**\n",
    "\n",
    ":::\n",
    "::: {.column width=\"50%\"}\n",
    "\n",
    "![This photo, originally thought to be of Thomas Bayes, turns out to be [probably someone else](https://www.york.ac.uk/depts/maths/histstat/bayespic.htm)... $\\Pr(\\textsf{Bayes})$?](images/bayes.jpg){fig-align=\"center\" width=\"65%\"}\n",
    "\n",
    ":::\n",
    ":::\n",
    "\n",
    "::: {.notes}\n",
    "$H$ for health, $T$ for test result\n",
    "\n",
    "Photo credit: https://thedatascientist.com/wp-content/uploads/2019/04/reverend-thomas-bayes.jpg\n",
    ":::\n",
    "\n",
    "## {.unnumbered .small-math}\n",
    "\n",
    "$$\n",
    "\\begin{align*}\n",
    "\\Pr(H = \\textsf{sick} \\mid T = \\textsf{T}^+) &= \\frac{\\Pr(T = \\textsf{T}^+ \\mid H = \\textsf{sick})\\Pr(H = \\textsf{sick})}{\\Pr(T = \\textsf{T}^+)} \\\\\n",
    "&= \\frac{(0.99)\\left(\\frac{1}{10000}\\right)}{(0.99)\\left( \\frac{1}{10000} \\right) + (0.01)\\left( \\frac{9999}{10000} \\right)}\n",
    "\\end{align*}\n",
    "$$"
   ]
  },
  {
   "cell_type": "code",
   "execution_count": 2,
   "metadata": {},
   "outputs": [
    {
     "data": {
      "text/html": [
       "0.00980392156862744"
      ],
      "text/latex": [
       "0.00980392156862744"
      ],
      "text/markdown": [
       "0.00980392156862744"
      ],
      "text/plain": [
       "[1] 0.009803922"
      ]
     },
     "metadata": {},
     "output_type": "display_data"
    }
   ],
   "source": [
    "#| label: prob-sick-bayes\n",
    "#| echo: true\n",
    "p_sick <- 1 / 10000\n",
    "p_healthy <- 1 - p_sick\n",
    "p_pos_given_sick <- 0.99\n",
    "p_neg_given_sick <- 1 - p_pos_given_sick\n",
    "p_neg_given_healthy <- 0.99\n",
    "p_pos_given_healthy <- 1 - p_neg_given_healthy\n",
    "numer <- p_pos_given_sick * p_sick\n",
    "denom1 <- numer\n",
    "denom2 <- p_pos_given_healthy * p_healthy\n",
    "final_prob <- numer / (denom1 + denom2)\n",
    "final_prob"
   ]
  },
  {
   "cell_type": "markdown",
   "metadata": {},
   "source": [
    "* ... Less than 1% 😱\n",
    "\n",
    "## Proof in the Pudding {.smaller}\n",
    "\n",
    "* Let's generate a dataset of **5,000** people, using $\\Pr(\\textsf{Disease}) = \\frac{1}{10000}$"
   ]
  },
  {
   "cell_type": "code",
   "execution_count": 3,
   "metadata": {},
   "outputs": [
    {
     "data": {
      "text/html": [
       "<table class=\"dataframe\">\n",
       "<caption>A tibble: 6 × 2</caption>\n",
       "<thead>\n",
       "\t<tr><th scope=col>id</th><th scope=col>has_disease</th></tr>\n",
       "\t<tr><th scope=col>&lt;int&gt;</th><th scope=col>&lt;int&gt;</th></tr>\n",
       "</thead>\n",
       "<tbody>\n",
       "\t<tr><td>1</td><td>0</td></tr>\n",
       "\t<tr><td>2</td><td>0</td></tr>\n",
       "\t<tr><td>3</td><td>0</td></tr>\n",
       "\t<tr><td>4</td><td>0</td></tr>\n",
       "\t<tr><td>5</td><td>0</td></tr>\n",
       "\t<tr><td>6</td><td>0</td></tr>\n",
       "</tbody>\n",
       "</table>\n"
      ],
      "text/latex": [
       "A tibble: 6 × 2\n",
       "\\begin{tabular}{ll}\n",
       " id & has\\_disease\\\\\n",
       " <int> & <int>\\\\\n",
       "\\hline\n",
       "\t 1 & 0\\\\\n",
       "\t 2 & 0\\\\\n",
       "\t 3 & 0\\\\\n",
       "\t 4 & 0\\\\\n",
       "\t 5 & 0\\\\\n",
       "\t 6 & 0\\\\\n",
       "\\end{tabular}\n"
      ],
      "text/markdown": [
       "\n",
       "A tibble: 6 × 2\n",
       "\n",
       "| id &lt;int&gt; | has_disease &lt;int&gt; |\n",
       "|---|---|\n",
       "| 1 | 0 |\n",
       "| 2 | 0 |\n",
       "| 3 | 0 |\n",
       "| 4 | 0 |\n",
       "| 5 | 0 |\n",
       "| 6 | 0 |\n",
       "\n"
      ],
      "text/plain": [
       "  id has_disease\n",
       "1 1  0          \n",
       "2 2  0          \n",
       "3 3  0          \n",
       "4 4  0          \n",
       "5 5  0          \n",
       "6 6  0          "
      ]
     },
     "metadata": {},
     "output_type": "display_data"
    }
   ],
   "source": [
    "#| label: bayes-sick-mc\n",
    "#| echo: true\n",
    "#| code-fold: true\n",
    "library(tibble)\n",
    "library(dplyr)\n",
    "# Disease rarity\n",
    "p_disease <- 1 / 10000\n",
    "# 1K people\n",
    "num_people <- 10000\n",
    "# Give them ids\n",
    "ppl_df <- tibble(id=seq(1,num_people))\n",
    "# Whether they have the disease or not\n",
    "has_disease <- rbinom(num_people, 1, p_disease)\n",
    "ppl_df <- ppl_df %>% mutate(has_disease=has_disease)\n",
    "ppl_df |> head()"
   ]
  },
  {
   "cell_type": "markdown",
   "metadata": {},
   "source": [
    "## Binary Variable Trick {.smaller .crunch-code}\n",
    "\n",
    "* Since `has_disease` $\\in \\{0, 1\\}$, we can use\n",
    "  * `sum(has_disease)` to obtain the **count** of people with the disease, or\n",
    "  * `mean(has_disease)` to obtain the **proportion** of people who have the disease\n",
    "* To see this (or, if you forget in the future), just make a fake dataset with a binary variable and 3 rows, and think about **sums** vs. **means** of that variable:\n",
    "\n",
    "::: columns\n",
    "::: {.column width=\"40%\"}"
   ]
  },
  {
   "cell_type": "code",
   "execution_count": 4,
   "metadata": {},
   "outputs": [
    {
     "data": {
      "text/html": [
       "<table class=\"dataframe\">\n",
       "<caption>A tibble: 3 × 2</caption>\n",
       "<thead>\n",
       "\t<tr><th scope=col>id</th><th scope=col>x</th></tr>\n",
       "\t<tr><th scope=col>&lt;dbl&gt;</th><th scope=col>&lt;dbl&gt;</th></tr>\n",
       "</thead>\n",
       "<tbody>\n",
       "\t<tr><td>1</td><td>0</td></tr>\n",
       "\t<tr><td>2</td><td>1</td></tr>\n",
       "\t<tr><td>3</td><td>0</td></tr>\n",
       "</tbody>\n",
       "</table>\n"
      ],
      "text/latex": [
       "A tibble: 3 × 2\n",
       "\\begin{tabular}{ll}\n",
       " id & x\\\\\n",
       " <dbl> & <dbl>\\\\\n",
       "\\hline\n",
       "\t 1 & 0\\\\\n",
       "\t 2 & 1\\\\\n",
       "\t 3 & 0\\\\\n",
       "\\end{tabular}\n"
      ],
      "text/markdown": [
       "\n",
       "A tibble: 3 × 2\n",
       "\n",
       "| id &lt;dbl&gt; | x &lt;dbl&gt; |\n",
       "|---|---|\n",
       "| 1 | 0 |\n",
       "| 2 | 1 |\n",
       "| 3 | 0 |\n",
       "\n"
      ],
      "text/plain": [
       "  id x\n",
       "1 1  0\n",
       "2 2  1\n",
       "3 3  0"
      ]
     },
     "metadata": {},
     "output_type": "display_data"
    }
   ],
   "source": [
    "#| label: fake-binary-data\n",
    "#| echo: true\n",
    "#| code-fold: show\n",
    "binary_df <- tibble(\n",
    "  id=c(1,2,3),\n",
    "  x=c(0,1,0)\n",
    ")\n",
    "binary_df"
   ]
  },
  {
   "cell_type": "markdown",
   "metadata": {},
   "source": [
    ":::\n",
    "::: {.column width=\"60%\"}\n",
    "\n",
    "Taking the **sum** tells us: **one** row where `x == 1`:"
   ]
  },
  {
   "cell_type": "code",
   "execution_count": 5,
   "metadata": {},
   "outputs": [
    {
     "data": {
      "text/html": [
       "1"
      ],
      "text/latex": [
       "1"
      ],
      "text/markdown": [
       "1"
      ],
      "text/plain": [
       "[1] 1"
      ]
     },
     "metadata": {},
     "output_type": "display_data"
    }
   ],
   "source": [
    "#| label: binary-df-sum\n",
    "#| echo: true\n",
    "#| code-fold: show\n",
    "sum(binary_df$x)"
   ]
  },
  {
   "cell_type": "markdown",
   "metadata": {},
   "source": [
    "Taking the **mean** tells us: **1/3** of rows have `x == 1`:"
   ]
  },
  {
   "cell_type": "code",
   "execution_count": 6,
   "metadata": {},
   "outputs": [
    {
     "data": {
      "text/html": [
       "0.333333333333333"
      ],
      "text/latex": [
       "0.333333333333333"
      ],
      "text/markdown": [
       "0.333333333333333"
      ],
      "text/plain": [
       "[1] 0.3333333"
      ]
     },
     "metadata": {},
     "output_type": "display_data"
    }
   ],
   "source": [
    "#| label: binary-df-mean\n",
    "#| echo: true\n",
    "#| code-fold: show\n",
    "mean(binary_df$x)"
   ]
  },
  {
   "cell_type": "markdown",
   "metadata": {},
   "source": [
    ":::\n",
    ":::\n",
    "\n",
    "## Applying This to the Disease Data {.smaller}\n",
    "\n",
    "* If we want the **number** of people who have the disease:"
   ]
  },
  {
   "cell_type": "code",
   "execution_count": 7,
   "metadata": {},
   "outputs": [
    {
     "data": {
      "text/html": [
       "1"
      ],
      "text/latex": [
       "1"
      ],
      "text/markdown": [
       "1"
      ],
      "text/plain": [
       "[1] 1"
      ]
     },
     "metadata": {},
     "output_type": "display_data"
    }
   ],
   "source": [
    "#| echo: true\n",
    "#| code-fold: show\n",
    "#| label: compute-disease-count\n",
    "# Compute the *number* of people who have the disease\n",
    "sum(ppl_df$has_disease)"
   ]
  },
  {
   "cell_type": "markdown",
   "metadata": {},
   "source": [
    "* If we want the **proportion** of people who have the disease:"
   ]
  },
  {
   "cell_type": "code",
   "execution_count": 8,
   "metadata": {},
   "outputs": [
    {
     "data": {
      "text/html": [
       "1e-04"
      ],
      "text/latex": [
       "1e-04"
      ],
      "text/markdown": [
       "1e-04"
      ],
      "text/plain": [
       "[1] 1e-04"
      ]
     },
     "metadata": {},
     "output_type": "display_data"
    }
   ],
   "source": [
    "#| echo: true\n",
    "#| code-fold: show\n",
    "#| label: compute-disease-rate\n",
    "# Compute the *proportion* of people who have the disease\n",
    "mean(ppl_df$has_disease)"
   ]
  },
  {
   "cell_type": "markdown",
   "metadata": {},
   "source": [
    "* (And if you dislike scientific notation like I do...)"
   ]
  },
  {
   "cell_type": "code",
   "execution_count": 9,
   "metadata": {},
   "outputs": [
    {
     "data": {
      "text/html": [
       "'0.0001'"
      ],
      "text/latex": [
       "'0.0001'"
      ],
      "text/markdown": [
       "'0.0001'"
      ],
      "text/plain": [
       "[1] \"0.0001\""
      ]
     },
     "metadata": {},
     "output_type": "display_data"
    }
   ],
   "source": [
    "#| label: compute-disease-rate-decimal\n",
    "#| echo: true\n",
    "#| code-fold: show\n",
    "format(mean(ppl_df$has_disease), scientific = FALSE)"
   ]
  },
  {
   "cell_type": "markdown",
   "metadata": {},
   "source": [
    "::: {.notes}\n",
    "(Foreshadowing Monte Carlo methods)\n",
    ":::\n",
    "\n",
    "## Data-Generating Process: Test Results {.smaller}"
   ]
  },
  {
   "cell_type": "code",
   "execution_count": 10,
   "metadata": {},
   "outputs": [
    {
     "name": "stdout",
     "output_type": "stream",
     "text": [
      "113 positive tests / 10000 total = 0.0113\n"
     ]
    }
   ],
   "source": [
    "#| label: count-positive-tests\n",
    "#| echo: true\n",
    "#| code-fold: show\n",
    "library(dplyr)\n",
    "# Data Generating Process\n",
    "take_test <- function(is_sick) {\n",
    "  if (is_sick) {\n",
    "    return(rbinom(1,1,p_pos_given_sick))\n",
    "  } else {\n",
    "    return(rbinom(1,1,p_pos_given_healthy))\n",
    "  }\n",
    "}\n",
    "ppl_df['test_result'] <- unlist(lapply(ppl_df$has_disease, take_test))\n",
    "num_positive <- sum(ppl_df$test_result)\n",
    "p_positive <- mean(ppl_df$test_result)\n",
    "writeLines(paste0(num_positive,\" positive tests / \",num_people,\" total = \",p_positive))"
   ]
  },
  {
   "cell_type": "code",
   "execution_count": 11,
   "metadata": {},
   "outputs": [
    {
     "data": {
      "text/html": [
       "<table class=\"dataframe\">\n",
       "<caption>A tibble: 6 × 3</caption>\n",
       "<thead>\n",
       "\t<tr><th scope=col>id</th><th scope=col>has_disease</th><th scope=col>test_result</th></tr>\n",
       "\t<tr><th scope=col>&lt;int&gt;</th><th scope=col>&lt;int&gt;</th><th scope=col>&lt;int&gt;</th></tr>\n",
       "</thead>\n",
       "<tbody>\n",
       "\t<tr><td>1</td><td>0</td><td>0</td></tr>\n",
       "\t<tr><td>2</td><td>0</td><td>0</td></tr>\n",
       "\t<tr><td>3</td><td>0</td><td>0</td></tr>\n",
       "\t<tr><td>4</td><td>0</td><td>0</td></tr>\n",
       "\t<tr><td>5</td><td>0</td><td>0</td></tr>\n",
       "\t<tr><td>6</td><td>0</td><td>0</td></tr>\n",
       "</tbody>\n",
       "</table>\n"
      ],
      "text/latex": [
       "A tibble: 6 × 3\n",
       "\\begin{tabular}{lll}\n",
       " id & has\\_disease & test\\_result\\\\\n",
       " <int> & <int> & <int>\\\\\n",
       "\\hline\n",
       "\t 1 & 0 & 0\\\\\n",
       "\t 2 & 0 & 0\\\\\n",
       "\t 3 & 0 & 0\\\\\n",
       "\t 4 & 0 & 0\\\\\n",
       "\t 5 & 0 & 0\\\\\n",
       "\t 6 & 0 & 0\\\\\n",
       "\\end{tabular}\n"
      ],
      "text/markdown": [
       "\n",
       "A tibble: 6 × 3\n",
       "\n",
       "| id &lt;int&gt; | has_disease &lt;int&gt; | test_result &lt;int&gt; |\n",
       "|---|---|---|\n",
       "| 1 | 0 | 0 |\n",
       "| 2 | 0 | 0 |\n",
       "| 3 | 0 | 0 |\n",
       "| 4 | 0 | 0 |\n",
       "| 5 | 0 | 0 |\n",
       "| 6 | 0 | 0 |\n",
       "\n"
      ],
      "text/plain": [
       "  id has_disease test_result\n",
       "1 1  0           0          \n",
       "2 2  0           0          \n",
       "3 3  0           0          \n",
       "4 4  0           0          \n",
       "5 5  0           0          \n",
       "6 6  0           0          "
      ]
     },
     "metadata": {},
     "output_type": "display_data"
    }
   ],
   "source": [
    "#| label: df-test-result-var\n",
    "#disp(ppl_df %>% head(50), obs_per_page = 3)\n",
    "ppl_df |> head()"
   ]
  },
  {
   "cell_type": "markdown",
   "metadata": {},
   "source": [
    "## Zooming In On Positive Tests {.smaller}\n",
    "\n",
    "::: columns\n",
    "::: {.column width=\"50%\"}"
   ]
  },
  {
   "cell_type": "code",
   "execution_count": 12,
   "metadata": {},
   "outputs": [
    {
     "data": {
      "text/html": [
       "<table class=\"dataframe\">\n",
       "<caption>A tibble: 6 × 3</caption>\n",
       "<thead>\n",
       "\t<tr><th scope=col>id</th><th scope=col>has_disease</th><th scope=col>test_result</th></tr>\n",
       "\t<tr><th scope=col>&lt;int&gt;</th><th scope=col>&lt;int&gt;</th><th scope=col>&lt;int&gt;</th></tr>\n",
       "</thead>\n",
       "<tbody>\n",
       "\t<tr><td> 87</td><td>1</td><td>1</td></tr>\n",
       "\t<tr><td>114</td><td>0</td><td>1</td></tr>\n",
       "\t<tr><td>177</td><td>0</td><td>1</td></tr>\n",
       "\t<tr><td>216</td><td>0</td><td>1</td></tr>\n",
       "\t<tr><td>259</td><td>0</td><td>1</td></tr>\n",
       "\t<tr><td>330</td><td>0</td><td>1</td></tr>\n",
       "</tbody>\n",
       "</table>\n"
      ],
      "text/latex": [
       "A tibble: 6 × 3\n",
       "\\begin{tabular}{lll}\n",
       " id & has\\_disease & test\\_result\\\\\n",
       " <int> & <int> & <int>\\\\\n",
       "\\hline\n",
       "\t  87 & 1 & 1\\\\\n",
       "\t 114 & 0 & 1\\\\\n",
       "\t 177 & 0 & 1\\\\\n",
       "\t 216 & 0 & 1\\\\\n",
       "\t 259 & 0 & 1\\\\\n",
       "\t 330 & 0 & 1\\\\\n",
       "\\end{tabular}\n"
      ],
      "text/markdown": [
       "\n",
       "A tibble: 6 × 3\n",
       "\n",
       "| id &lt;int&gt; | has_disease &lt;int&gt; | test_result &lt;int&gt; |\n",
       "|---|---|---|\n",
       "|  87 | 1 | 1 |\n",
       "| 114 | 0 | 1 |\n",
       "| 177 | 0 | 1 |\n",
       "| 216 | 0 | 1 |\n",
       "| 259 | 0 | 1 |\n",
       "| 330 | 0 | 1 |\n",
       "\n"
      ],
      "text/plain": [
       "  id  has_disease test_result\n",
       "1  87 1           1          \n",
       "2 114 0           1          \n",
       "3 177 0           1          \n",
       "4 216 0           1          \n",
       "5 259 0           1          \n",
       "6 330 0           1          "
      ]
     },
     "metadata": {},
     "output_type": "display_data"
    }
   ],
   "source": [
    "#| label: filter-positives-only\n",
    "pos_ppl <- ppl_df %>% filter(test_result == 1)\n",
    "#disp(pos_ppl, obs_per_page = 10)\n",
    "pos_ppl |> head()"
   ]
  },
  {
   "cell_type": "markdown",
   "metadata": {},
   "source": [
    ":::\n",
    "::: {.column width=\"50%\"}\n",
    "\n",
    "* Bo doesn't have it, and neither do 110 of the 111 total people who tested positive!\n",
    "* But, in the real world, we only observe $T$\n",
    "\n",
    "![](images/pgm_sick.svg){fig-align=\"center\" width=\"100%\"}\n",
    "\n",
    ":::\n",
    ":::\n",
    "\n",
    "## Zooming In On Disease-Havers {.smaller}\n",
    "\n",
    "* What if we look at only those who actually have the disease? Maybe the cost of 111 people panicking is worth it if we correctly catch those who do have it?"
   ]
  },
  {
   "cell_type": "code",
   "execution_count": 13,
   "metadata": {},
   "outputs": [
    {
     "data": {
      "text/html": [
       "<table class=\"dataframe\">\n",
       "<caption>A tibble: 1 × 3</caption>\n",
       "<thead>\n",
       "\t<tr><th scope=col>id</th><th scope=col>has_disease</th><th scope=col>test_result</th></tr>\n",
       "\t<tr><th scope=col>&lt;int&gt;</th><th scope=col>&lt;int&gt;</th><th scope=col>&lt;int&gt;</th></tr>\n",
       "</thead>\n",
       "<tbody>\n",
       "\t<tr><td>87</td><td>1</td><td>1</td></tr>\n",
       "</tbody>\n",
       "</table>\n"
      ],
      "text/latex": [
       "A tibble: 1 × 3\n",
       "\\begin{tabular}{lll}\n",
       " id & has\\_disease & test\\_result\\\\\n",
       " <int> & <int> & <int>\\\\\n",
       "\\hline\n",
       "\t 87 & 1 & 1\\\\\n",
       "\\end{tabular}\n"
      ],
      "text/markdown": [
       "\n",
       "A tibble: 1 × 3\n",
       "\n",
       "| id &lt;int&gt; | has_disease &lt;int&gt; | test_result &lt;int&gt; |\n",
       "|---|---|---|\n",
       "| 87 | 1 | 1 |\n",
       "\n"
      ],
      "text/plain": [
       "  id has_disease test_result\n",
       "1 87 1           1          "
      ]
     },
     "metadata": {},
     "output_type": "display_data"
    }
   ],
   "source": [
    "#| label: disease-only\n",
    "#| echo: true\n",
    "#| code-fold: show\n",
    "#disp(ppl_df[ppl_df$has_disease == 1,])\n",
    "ppl_df[ppl_df$has_disease == 1,]"
   ]
  },
  {
   "cell_type": "markdown",
   "metadata": {},
   "source": [
    "Is this always going to be the case?\n",
    "\n",
    "::: columns\n",
    "::: {.column width=\"50%\"}"
   ]
  },
  {
   "cell_type": "code",
   "execution_count": 14,
   "metadata": {},
   "outputs": [
    {
     "name": "stdout",
     "output_type": "stream",
     "text": [
      "Num with disease: 0\n",
      "Proportion with disease: 0\n",
      "Number of positive tests: 69\n"
     ]
    },
    {
     "data": {
      "text/html": [
       "<table class=\"dataframe\">\n",
       "<caption>A tibble: 0 × 3</caption>\n",
       "<thead>\n",
       "\t<tr><th scope=col>id</th><th scope=col>has_disease</th><th scope=col>test_result</th></tr>\n",
       "\t<tr><th scope=col>&lt;int&gt;</th><th scope=col>&lt;int&gt;</th><th scope=col>&lt;int&gt;</th></tr>\n",
       "</thead>\n",
       "<tbody>\n",
       "</tbody>\n",
       "</table>\n"
      ],
      "text/latex": [
       "A tibble: 0 × 3\n",
       "\\begin{tabular}{lll}\n",
       " id & has\\_disease & test\\_result\\\\\n",
       " <int> & <int> & <int>\\\\\n",
       "\\hline\n",
       "\\end{tabular}\n"
      ],
      "text/markdown": [
       "\n",
       "A tibble: 0 × 3\n",
       "\n",
       "| id &lt;int&gt; | has_disease &lt;int&gt; | test_result &lt;int&gt; |\n",
       "|---|---|---|\n",
       "\n"
      ],
      "text/plain": [
       "     id has_disease test_result"
      ]
     },
     "metadata": {},
     "output_type": "display_data"
    }
   ],
   "source": [
    "#| label: repeating-disease-simulation\n",
    "#| echo: false\n",
    "#| code-fold: true\n",
    "simulate_disease <- function(num_people, p_disease, verbose = TRUE, return_df = TRUE, return_full_df = FALSE, return_all_detected = FALSE, return_info = FALSE) {\n",
    "  # Give them ids\n",
    "  sim_df <- tibble(id=seq(1,num_people))\n",
    "  # Whether they have the disease or not\n",
    "  has_disease <- rbinom(num_people, 1, p_disease)\n",
    "  sim_df['has_disease'] <- has_disease\n",
    "  # Find the number / proportion with the disease\n",
    "  num_with_disease <- sum(sim_df$has_disease)\n",
    "  prop_with_disease <- mean(sim_df$has_disease)\n",
    "  prop_with_disease_decimal <- format(prop_with_disease, scientific = FALSE)\n",
    "  if (verbose) {\n",
    "    writeLines(paste0(\"Num with disease: \",num_with_disease))\n",
    "    writeLines(paste0(\"Proportion with disease: \",prop_with_disease_decimal))\n",
    "  }\n",
    "  # Simulate giving everyone the test\n",
    "  sim_df['test_result'] <- unlist(lapply(sim_df$has_disease, take_test))\n",
    "  if (return_full_df) {\n",
    "    return(sim_df)\n",
    "  }\n",
    "  # Find the number with positive tests\n",
    "  num_pos_tests <- sum(sim_df$test_result)\n",
    "  if (verbose) {\n",
    "    writeLines(paste0(\"Number of positive tests: \",num_pos_tests))\n",
    "  }\n",
    "  # Extract just the people *with* the disease\n",
    "  disease_df <- sim_df %>% filter(has_disease == 1)\n",
    "  # And print the proportion of these who got correct result\n",
    "  if (nrow(disease_df) == 0) {\n",
    "    # (We define P(correct) as 1 in this case.)\n",
    "    # (Intuition: we correctly detected \"all\" 0 people with the disease)\n",
    "    prop_correct <- 1\n",
    "  } else {\n",
    "    prop_correct <- mean(disease_df$test_result)\n",
    "  }\n",
    "  #if (verbose) {\n",
    "  #  writeLines(paste0(\"Proportion of disease-havers with correct test: \",prop_correct))\n",
    "  #  print(disease_df)\n",
    "  #}\n",
    "  if (return_all_detected) {\n",
    "    return(prop_correct == 1)\n",
    "  }\n",
    "  if (return_df) {\n",
    "    return(disease_df)\n",
    "  }\n",
    "  if (return_info) {\n",
    "    return(list(\n",
    "      num_people=num_people,\n",
    "      df=disease_df,\n",
    "      prop_correct=prop_correct,\n",
    "      all_detected=(prop_correct == 1)\n",
    "    ))\n",
    "  }\n",
    "}\n",
    "#disp(simulate_disease(5000, 1/10000))\n",
    "simulate_disease(5000, 1/10000)"
   ]
  },
  {
   "cell_type": "markdown",
   "metadata": {},
   "source": [
    ":::\n",
    "::: {.column width=\"50%\"}"
   ]
  },
  {
   "cell_type": "code",
   "execution_count": 15,
   "metadata": {},
   "outputs": [
    {
     "name": "stdout",
     "output_type": "stream",
     "text": [
      "Num with disease: 0\n",
      "Proportion with disease: 0\n",
      "Number of positive tests: 42\n"
     ]
    },
    {
     "data": {
      "text/html": [
       "<table class=\"dataframe\">\n",
       "<caption>A tibble: 0 × 3</caption>\n",
       "<thead>\n",
       "\t<tr><th scope=col>id</th><th scope=col>has_disease</th><th scope=col>test_result</th></tr>\n",
       "\t<tr><th scope=col>&lt;int&gt;</th><th scope=col>&lt;int&gt;</th><th scope=col>&lt;int&gt;</th></tr>\n",
       "</thead>\n",
       "<tbody>\n",
       "</tbody>\n",
       "</table>\n"
      ],
      "text/latex": [
       "A tibble: 0 × 3\n",
       "\\begin{tabular}{lll}\n",
       " id & has\\_disease & test\\_result\\\\\n",
       " <int> & <int> & <int>\\\\\n",
       "\\hline\n",
       "\\end{tabular}\n"
      ],
      "text/markdown": [
       "\n",
       "A tibble: 0 × 3\n",
       "\n",
       "| id &lt;int&gt; | has_disease &lt;int&gt; | test_result &lt;int&gt; |\n",
       "|---|---|---|\n",
       "\n"
      ],
      "text/plain": [
       "     id has_disease test_result"
      ]
     },
     "metadata": {},
     "output_type": "display_data"
    }
   ],
   "source": [
    "#| label: sim-disease-again\n",
    "#disp(simulate_disease(5000, 1/10000))\n",
    "simulate_disease(5000, 1/10000)"
   ]
  },
  {
   "cell_type": "markdown",
   "metadata": {},
   "source": [
    ":::\n",
    ":::\n",
    "\n",
    "## Worst-Case Worlds {.smaller}\n",
    "\n",
    "::: columns\n",
    "::: {.column width=\"50%\"}"
   ]
  },
  {
   "cell_type": "code",
   "execution_count": 16,
   "metadata": {},
   "outputs": [
    {
     "name": "stdout",
     "output_type": "stream",
     "text": [
      "World #167 / 1000 (5000 people):\n",
      "\u001b[90m# A tibble: 1 × 3\u001b[39m\n",
      "     id has_disease test_result\n",
      "  \u001b[3m\u001b[90m<int>\u001b[39m\u001b[23m       \u001b[3m\u001b[90m<int>\u001b[39m\u001b[23m       \u001b[3m\u001b[90m<int>\u001b[39m\u001b[23m\n",
      "\u001b[90m1\u001b[39m  \u001b[4m3\u001b[24m597           1           0\n",
      "\n",
      "\n",
      "World #231 / 1000 (5000 people):\n",
      "\u001b[90m# A tibble: 1 × 3\u001b[39m\n",
      "     id has_disease test_result\n",
      "  \u001b[3m\u001b[90m<int>\u001b[39m\u001b[23m       \u001b[3m\u001b[90m<int>\u001b[39m\u001b[23m       \u001b[3m\u001b[90m<int>\u001b[39m\u001b[23m\n",
      "\u001b[90m1\u001b[39m  \u001b[4m3\u001b[24m431           1           0\n",
      "\n",
      "\n",
      "World #271 / 1000 (5000 people):\n",
      "\u001b[90m# A tibble: 2 × 3\u001b[39m\n",
      "     id has_disease test_result\n",
      "  \u001b[3m\u001b[90m<int>\u001b[39m\u001b[23m       \u001b[3m\u001b[90m<int>\u001b[39m\u001b[23m       \u001b[3m\u001b[90m<int>\u001b[39m\u001b[23m\n",
      "\u001b[90m1\u001b[39m   506           1           0\n",
      "\u001b[90m2\u001b[39m  \u001b[4m2\u001b[24m748           1           1\n",
      "\n",
      "\n",
      "World #458 / 1000 (5000 people):\n",
      "\u001b[90m# A tibble: 1 × 3\u001b[39m\n",
      "     id has_disease test_result\n",
      "  \u001b[3m\u001b[90m<int>\u001b[39m\u001b[23m       \u001b[3m\u001b[90m<int>\u001b[39m\u001b[23m       \u001b[3m\u001b[90m<int>\u001b[39m\u001b[23m\n",
      "\u001b[90m1\u001b[39m  \u001b[4m4\u001b[24m911           1           0\n",
      "\n",
      "\n",
      "World #686 / 1000 (5000 people):\n",
      "\u001b[90m# A tibble: 1 × 3\u001b[39m\n",
      "     id has_disease test_result\n",
      "  \u001b[3m\u001b[90m<int>\u001b[39m\u001b[23m       \u001b[3m\u001b[90m<int>\u001b[39m\u001b[23m       \u001b[3m\u001b[90m<int>\u001b[39m\u001b[23m\n",
      "\u001b[90m1\u001b[39m   905           1           0\n",
      "\n",
      "\n",
      "World #790 / 1000 (5000 people):\n",
      "\u001b[90m# A tibble: 1 × 3\u001b[39m\n",
      "     id has_disease test_result\n",
      "  \u001b[3m\u001b[90m<int>\u001b[39m\u001b[23m       \u001b[3m\u001b[90m<int>\u001b[39m\u001b[23m       \u001b[3m\u001b[90m<int>\u001b[39m\u001b[23m\n",
      "\u001b[90m1\u001b[39m   268           1           0\n",
      "\n",
      "\n",
      "World #878 / 1000 (5000 people):\n",
      "\u001b[90m# A tibble: 1 × 3\u001b[39m\n",
      "     id has_disease test_result\n",
      "  \u001b[3m\u001b[90m<int>\u001b[39m\u001b[23m       \u001b[3m\u001b[90m<int>\u001b[39m\u001b[23m       \u001b[3m\u001b[90m<int>\u001b[39m\u001b[23m\n",
      "\u001b[90m1\u001b[39m  \u001b[4m3\u001b[24m869           1           0\n",
      "\n",
      "\n"
     ]
    },
    {
     "data": {
      "text/html": [
       "'0.0000008'"
      ],
      "text/latex": [
       "'0.0000008'"
      ],
      "text/markdown": [
       "'0.0000008'"
      ],
      "text/plain": [
       "[1] \"0.0000008\""
      ]
     },
     "metadata": {},
     "output_type": "display_data"
    }
   ],
   "source": [
    "#| label: worse-case-sim\n",
    "for (i in seq(1,1000)) {\n",
    "  sim_result <- simulate_disease(5000, 1/10000, verbose = FALSE, return_all_detected = FALSE, return_df = FALSE, return_info = TRUE)\n",
    "  if (!sim_result$all_detected) {\n",
    "    writeLines(paste0(\"World #\",i,\" / 1000 (\",sim_result$num_people,\" people):\"))\n",
    "    print(sim_result$df)\n",
    "    writeLines('\\n')\n",
    "  }\n",
    "}\n",
    "format(4 / 5000000, scientific = FALSE)"
   ]
  },
  {
   "cell_type": "markdown",
   "metadata": {},
   "source": [
    ":::\n",
    "::: {.column width=\"50%\"}\n",
    "\n",
    "How unlikely is this? Math:\n",
    "\n",
    "$$\n",
    "\\begin{align*}\n",
    "\\Pr(\\textsf{T}^- \\cap \\textsf{Sick}) &= \\Pr(\\textsf{T}^- \\mid \\textsf{Sick})\\Pr(\\textsf{Sick}) \\\\\n",
    "&= (0.01)\\frac{1}{10000} \\\\\n",
    "&= \\frac{1}{1000000}\n",
    "\\end{align*}\n",
    "$$\n",
    "\n",
    "Computers:"
   ]
  },
  {
   "cell_type": "code",
   "execution_count": 17,
   "metadata": {},
   "outputs": [
    {
     "name": "stdout",
     "output_type": "stream",
     "text": [
      "False Negatives: 2, Total Cases: 1000000\n"
     ]
    },
    {
     "name": "stdout",
     "output_type": "stream",
     "text": [
      "False Negative Rate: 0.000002\n"
     ]
    }
   ],
   "source": [
    "#| label: how-unlikely-sim\n",
    "result_df <- simulate_disease(1000000, 1/10000, verbose = FALSE, return_full_df = TRUE)\n",
    "false_negatives <- result_df[result_df$has_disease == 1 & result_df$test_result == 0,]\n",
    "num_false_negatives <- nrow(false_negatives)\n",
    "writeLines(paste0(\"False Negatives: \",num_false_negatives,\", Total Cases: \", nrow(result_df)))\n",
    "false_negative_rate <- num_false_negatives / nrow(result_df)\n",
    "false_negative_rate_decimal <- format(false_negative_rate, scientific = FALSE)\n",
    "writeLines(paste0(\"False Negative Rate: \", false_negative_rate_decimal))"
   ]
  },
  {
   "cell_type": "markdown",
   "metadata": {},
   "source": [
    "(Perfect match!)\n",
    "\n",
    ":::\n",
    ":::\n",
    "\n",
    "## Bayes: Takeaway\n",
    "\n",
    "* Bayesian approach **allows new evidence to be weighed against existing evidence**, with **statistically principled** way to derive these weights:\n",
    "\n",
    "$$\n",
    "\\begin{array}{ccccc}\n",
    "\\Pr_{\\text{post}}(\\mathcal{H}) &\\hspace{-6mm}\\propto &\\hspace{-6mm} \\Pr(X \\mid \\mathcal{H}) &\\hspace{-6mm} \\times &\\hspace{-6mm} \\Pr_{\\text{pre}}(\\mathcal{H}) \\\\\n",
    "\\text{Posterior} &\\hspace{-6mm}\\propto &\\hspace{-6mm}\\text{Evidence} &\\hspace{-6mm} \\times &\\hspace{-6mm} \\text{Prior}\n",
    "\\end{array}\n",
    "$$\n",
    "\n",
    "\n",
    "## Monte Carlo Methods: Overview {data-name=\"Monte Carlo\"}\n",
    "\n",
    "* You already saw an example, in our rare disease simulation!\n",
    "* Generally, **using computers** (rather than math, \"by hand\") **to estimate probabilistic quantities**\n",
    "\n",
    "::: columns\n",
    "::: {.column width=\"50%\" .smaller}\n",
    "\n",
    "**Pros:**\n",
    "\n",
    "* Most real-world processes have no analytic solution\n",
    "* Step-by-step breakdown of complex processes\n",
    "\n",
    ":::\n",
    "::: {.column width=\"50%\"}\n",
    "\n",
    "**Cons:**\n",
    "\n",
    "* Can require immense computing power\n",
    "* ⚠️ Can generate **incorrect answers** ⚠️\n",
    "\n",
    ":::\n",
    ":::\n",
    "\n",
    "::: {.notes}\n",
    "By step-by-step I mean, a lot of the time you are just walking through, generating the next column using previously-generated columns. Like we did in the example above, generating `test_result` based on `has_disease`.\n",
    ":::\n",
    "\n",
    "## Birthday Problem\n",
    "\n",
    "::: columns\n",
    "::: {.column width=\"50%\"}\n",
    "\n",
    "* 30 people gather in a room together. What is the probability that two of them share the same birthday?\n",
    "* Analytic solution is fun, but requires some thought... Monte Carlo it!\n",
    "\n",
    ":::\n",
    "::: {.column width=\"50%\"}"
   ]
  },
  {
   "cell_type": "code",
   "execution_count": 18,
   "metadata": {},
   "outputs": [
    {
     "data": {
      "text/html": [
       "<table class=\"dataframe\">\n",
       "<caption>A tibble: 6 × 3</caption>\n",
       "<thead>\n",
       "\t<tr><th scope=col>room_num</th><th scope=col>id</th><th scope=col>birthday</th></tr>\n",
       "\t<tr><th scope=col>&lt;dbl&gt;</th><th scope=col>&lt;int&gt;</th><th scope=col>&lt;int&gt;</th></tr>\n",
       "</thead>\n",
       "<tbody>\n",
       "\t<tr><td>1</td><td>1</td><td>321</td></tr>\n",
       "\t<tr><td>1</td><td>2</td><td>365</td></tr>\n",
       "\t<tr><td>1</td><td>3</td><td>353</td></tr>\n",
       "\t<tr><td>1</td><td>4</td><td>121</td></tr>\n",
       "\t<tr><td>1</td><td>5</td><td> 60</td></tr>\n",
       "\t<tr><td>1</td><td>6</td><td>174</td></tr>\n",
       "</tbody>\n",
       "</table>\n"
      ],
      "text/latex": [
       "A tibble: 6 × 3\n",
       "\\begin{tabular}{lll}\n",
       " room\\_num & id & birthday\\\\\n",
       " <dbl> & <int> & <int>\\\\\n",
       "\\hline\n",
       "\t 1 & 1 & 321\\\\\n",
       "\t 1 & 2 & 365\\\\\n",
       "\t 1 & 3 & 353\\\\\n",
       "\t 1 & 4 & 121\\\\\n",
       "\t 1 & 5 &  60\\\\\n",
       "\t 1 & 6 & 174\\\\\n",
       "\\end{tabular}\n"
      ],
      "text/markdown": [
       "\n",
       "A tibble: 6 × 3\n",
       "\n",
       "| room_num &lt;dbl&gt; | id &lt;int&gt; | birthday &lt;int&gt; |\n",
       "|---|---|---|\n",
       "| 1 | 1 | 321 |\n",
       "| 1 | 2 | 365 |\n",
       "| 1 | 3 | 353 |\n",
       "| 1 | 4 | 121 |\n",
       "| 1 | 5 |  60 |\n",
       "| 1 | 6 | 174 |\n",
       "\n"
      ],
      "text/plain": [
       "  room_num id birthday\n",
       "1 1        1  321     \n",
       "2 1        2  365     \n",
       "3 1        3  353     \n",
       "4 1        4  121     \n",
       "5 1        5   60     \n",
       "6 1        6  174     "
      ]
     },
     "metadata": {},
     "output_type": "display_data"
    }
   ],
   "source": [
    "#| label: monty-hall-mc\n",
    "#| echo: true\n",
    "#| code-fold: true\n",
    "gen_bday_room <- function(room_num=NULL) {\n",
    "  num_people <- 30\n",
    "  num_days <- 366\n",
    "  ppl_df <- tibble(id=seq(1,num_people))\n",
    "birthdays <- sample(1:num_days, num_people,replace = T)\n",
    "  ppl_df['birthday'] <- birthdays\n",
    "  if (!is.null(room_num)) {\n",
    "    ppl_df <- ppl_df %>% mutate(room_num=room_num) %>% relocate(room_num)\n",
    "  }\n",
    "  return(ppl_df)\n",
    "}\n",
    "ppl_df <- gen_bday_room(1)\n",
    "#disp(ppl_df %>% head())\n",
    "ppl_df |> head()"
   ]
  },
  {
   "cell_type": "markdown",
   "metadata": {},
   "source": [
    ":::\n",
    ":::\n",
    "\n",
    "## {.unnumbered}"
   ]
  },
  {
   "cell_type": "code",
   "execution_count": 19,
   "metadata": {},
   "outputs": [
    {
     "data": {
      "text/html": [
       "<table class=\"dataframe\">\n",
       "<caption>A tibble: 1 × 3</caption>\n",
       "<thead>\n",
       "\t<tr><th scope=col>i</th><th scope=col>j</th><th scope=col>bday</th></tr>\n",
       "\t<tr><th scope=col>&lt;int&gt;</th><th scope=col>&lt;int&gt;</th><th scope=col>&lt;int&gt;</th></tr>\n",
       "</thead>\n",
       "<tbody>\n",
       "\t<tr><td>15</td><td>23</td><td>98</td></tr>\n",
       "</tbody>\n",
       "</table>\n"
      ],
      "text/latex": [
       "A tibble: 1 × 3\n",
       "\\begin{tabular}{lll}\n",
       " i & j & bday\\\\\n",
       " <int> & <int> & <int>\\\\\n",
       "\\hline\n",
       "\t 15 & 23 & 98\\\\\n",
       "\\end{tabular}\n"
      ],
      "text/markdown": [
       "\n",
       "A tibble: 1 × 3\n",
       "\n",
       "| i &lt;int&gt; | j &lt;int&gt; | bday &lt;int&gt; |\n",
       "|---|---|---|\n",
       "| 15 | 23 | 98 |\n",
       "\n"
      ],
      "text/plain": [
       "  i  j  bday\n",
       "1 15 23 98  "
      ]
     },
     "metadata": {},
     "output_type": "display_data"
    }
   ],
   "source": [
    "#| label: shared-bdays-fn\n",
    "# Inefficient version (return_num=FALSE) is for: if you want tibbles of *all* shared bdays for each room\n",
    "get_shared_bdays <- function(df, is_grouped=NULL, return_num=FALSE, return_bool=FALSE) {\n",
    "  bday_pairs <- tibble()\n",
    "  for (i in 1:(nrow(df)-1)) {\n",
    "    i_data <- df[i,]\n",
    "    i_bday <- i_data$birthday\n",
    "    for (j in (i+1):nrow(df)) {\n",
    "      j_data <- df[j,]\n",
    "      j_bday <- j_data$birthday\n",
    "      # Check if they're the same\n",
    "      same_bday <- i_bday == j_bday\n",
    "      if (same_bday) {\n",
    "        if (return_bool) {\n",
    "          return(1)\n",
    "        }\n",
    "        pair_data <- tibble(i=i,j=j,bday=i_bday)\n",
    "        if (!is.null(is_grouped)) {\n",
    "          i_room <- i_data$room_num\n",
    "          pair_data['room'] <- i_room\n",
    "        }\n",
    "        bday_pairs <- bind_rows(bday_pairs, pair_data)\n",
    "      }\n",
    "    }\n",
    "  }\n",
    "  if (return_bool) {\n",
    "    return(0)\n",
    "  }\n",
    "  if (return_num) {\n",
    "    return(nrow(bday_pairs))\n",
    "  }\n",
    "  return(bday_pairs)\n",
    "}\n",
    "#get_shared_bdays(ppl_df)\n",
    "get_shared_bdays(ppl_df)"
   ]
  },
  {
   "cell_type": "markdown",
   "metadata": {},
   "source": [
    "## {.unnumbered .smaller}\n",
    "\n",
    "Let's try more rooms...\n",
    "\n",
    "::: columns\n",
    "::: {.column width=\"48%\"}"
   ]
  },
  {
   "cell_type": "code",
   "execution_count": 20,
   "metadata": {},
   "outputs": [
    {
     "name": "stderr",
     "output_type": "stream",
     "text": [
      "Warning message:\n",
      "“Unknown or uninitialised column: `room_num`.”\n"
     ]
    },
    {
     "name": "stderr",
     "output_type": "stream",
     "text": [
      "Warning message:\n",
      "“Unknown or uninitialised column: `room_num`.”\n"
     ]
    },
    {
     "name": "stderr",
     "output_type": "stream",
     "text": [
      "Warning message:\n",
      "“Unknown or uninitialised column: `room_num`.”\n"
     ]
    },
    {
     "name": "stderr",
     "output_type": "stream",
     "text": [
      "Warning message:\n",
      "“Unknown or uninitialised column: `room_num`.”\n"
     ]
    },
    {
     "name": "stderr",
     "output_type": "stream",
     "text": [
      "Warning message:\n",
      "“Unknown or uninitialised column: `room_num`.”\n"
     ]
    },
    {
     "name": "stderr",
     "output_type": "stream",
     "text": [
      "Warning message:\n",
      "“Unknown or uninitialised column: `room_num`.”\n"
     ]
    },
    {
     "name": "stderr",
     "output_type": "stream",
     "text": [
      "Warning message:\n",
      "“Unknown or uninitialised column: `room_num`.”\n"
     ]
    },
    {
     "name": "stderr",
     "output_type": "stream",
     "text": [
      "Warning message:\n",
      "“Unknown or uninitialised column: `room_num`.”\n"
     ]
    },
    {
     "name": "stderr",
     "output_type": "stream",
     "text": [
      "Warning message:\n",
      "“Unknown or uninitialised column: `room_num`.”\n"
     ]
    },
    {
     "data": {
      "text/html": [
       "<ol>\n",
       "\t<li><table class=\"dataframe\">\n",
       "<caption>A tibble: 1 × 3</caption>\n",
       "<thead>\n",
       "\t<tr><th scope=col>i</th><th scope=col>j</th><th scope=col>bday</th></tr>\n",
       "\t<tr><th scope=col>&lt;int&gt;</th><th scope=col>&lt;int&gt;</th><th scope=col>&lt;int&gt;</th></tr>\n",
       "</thead>\n",
       "<tbody>\n",
       "\t<tr><td>2</td><td>8</td><td>60</td></tr>\n",
       "</tbody>\n",
       "</table>\n",
       "</li>\n",
       "\t<li></li>\n",
       "\t<li></li>\n",
       "\t<li><table class=\"dataframe\">\n",
       "<caption>A tibble: 2 × 3</caption>\n",
       "<thead>\n",
       "\t<tr><th scope=col>i</th><th scope=col>j</th><th scope=col>bday</th></tr>\n",
       "\t<tr><th scope=col>&lt;int&gt;</th><th scope=col>&lt;int&gt;</th><th scope=col>&lt;int&gt;</th></tr>\n",
       "</thead>\n",
       "<tbody>\n",
       "\t<tr><td>2</td><td>12</td><td>152</td></tr>\n",
       "\t<tr><td>5</td><td>24</td><td>119</td></tr>\n",
       "</tbody>\n",
       "</table>\n",
       "</li>\n",
       "\t<li><table class=\"dataframe\">\n",
       "<caption>A tibble: 1 × 3</caption>\n",
       "<thead>\n",
       "\t<tr><th scope=col>i</th><th scope=col>j</th><th scope=col>bday</th></tr>\n",
       "\t<tr><th scope=col>&lt;int&gt;</th><th scope=col>&lt;int&gt;</th><th scope=col>&lt;int&gt;</th></tr>\n",
       "</thead>\n",
       "<tbody>\n",
       "\t<tr><td>23</td><td>30</td><td>3</td></tr>\n",
       "</tbody>\n",
       "</table>\n",
       "</li>\n",
       "\t<li></li>\n",
       "\t<li><table class=\"dataframe\">\n",
       "<caption>A tibble: 2 × 3</caption>\n",
       "<thead>\n",
       "\t<tr><th scope=col>i</th><th scope=col>j</th><th scope=col>bday</th></tr>\n",
       "\t<tr><th scope=col>&lt;int&gt;</th><th scope=col>&lt;int&gt;</th><th scope=col>&lt;int&gt;</th></tr>\n",
       "</thead>\n",
       "<tbody>\n",
       "\t<tr><td>1</td><td>16</td><td>182</td></tr>\n",
       "\t<tr><td>4</td><td>29</td><td>275</td></tr>\n",
       "</tbody>\n",
       "</table>\n",
       "</li>\n",
       "\t<li></li>\n",
       "\t<li><table class=\"dataframe\">\n",
       "<caption>A tibble: 1 × 3</caption>\n",
       "<thead>\n",
       "\t<tr><th scope=col>i</th><th scope=col>j</th><th scope=col>bday</th></tr>\n",
       "\t<tr><th scope=col>&lt;int&gt;</th><th scope=col>&lt;int&gt;</th><th scope=col>&lt;int&gt;</th></tr>\n",
       "</thead>\n",
       "<tbody>\n",
       "\t<tr><td>12</td><td>14</td><td>242</td></tr>\n",
       "</tbody>\n",
       "</table>\n",
       "</li>\n",
       "\t<li><table class=\"dataframe\">\n",
       "<caption>A tibble: 2 × 3</caption>\n",
       "<thead>\n",
       "\t<tr><th scope=col>i</th><th scope=col>j</th><th scope=col>bday</th></tr>\n",
       "\t<tr><th scope=col>&lt;int&gt;</th><th scope=col>&lt;int&gt;</th><th scope=col>&lt;int&gt;</th></tr>\n",
       "</thead>\n",
       "<tbody>\n",
       "\t<tr><td>18</td><td>21</td><td>205</td></tr>\n",
       "\t<tr><td>19</td><td>28</td><td>270</td></tr>\n",
       "</tbody>\n",
       "</table>\n",
       "</li>\n",
       "</ol>\n"
      ],
      "text/latex": [
       "\\begin{enumerate}\n",
       "\\item A tibble: 1 × 3\n",
       "\\begin{tabular}{lll}\n",
       " i & j & bday\\\\\n",
       " <int> & <int> & <int>\\\\\n",
       "\\hline\n",
       "\t 2 & 8 & 60\\\\\n",
       "\\end{tabular}\n",
       "\n",
       "\\item \n",
       "\\item \n",
       "\\item A tibble: 2 × 3\n",
       "\\begin{tabular}{lll}\n",
       " i & j & bday\\\\\n",
       " <int> & <int> & <int>\\\\\n",
       "\\hline\n",
       "\t 2 & 12 & 152\\\\\n",
       "\t 5 & 24 & 119\\\\\n",
       "\\end{tabular}\n",
       "\n",
       "\\item A tibble: 1 × 3\n",
       "\\begin{tabular}{lll}\n",
       " i & j & bday\\\\\n",
       " <int> & <int> & <int>\\\\\n",
       "\\hline\n",
       "\t 23 & 30 & 3\\\\\n",
       "\\end{tabular}\n",
       "\n",
       "\\item \n",
       "\\item A tibble: 2 × 3\n",
       "\\begin{tabular}{lll}\n",
       " i & j & bday\\\\\n",
       " <int> & <int> & <int>\\\\\n",
       "\\hline\n",
       "\t 1 & 16 & 182\\\\\n",
       "\t 4 & 29 & 275\\\\\n",
       "\\end{tabular}\n",
       "\n",
       "\\item \n",
       "\\item A tibble: 1 × 3\n",
       "\\begin{tabular}{lll}\n",
       " i & j & bday\\\\\n",
       " <int> & <int> & <int>\\\\\n",
       "\\hline\n",
       "\t 12 & 14 & 242\\\\\n",
       "\\end{tabular}\n",
       "\n",
       "\\item A tibble: 2 × 3\n",
       "\\begin{tabular}{lll}\n",
       " i & j & bday\\\\\n",
       " <int> & <int> & <int>\\\\\n",
       "\\hline\n",
       "\t 18 & 21 & 205\\\\\n",
       "\t 19 & 28 & 270\\\\\n",
       "\\end{tabular}\n",
       "\n",
       "\\end{enumerate}\n"
      ],
      "text/markdown": [
       "1. \n",
       "A tibble: 1 × 3\n",
       "\n",
       "| i &lt;int&gt; | j &lt;int&gt; | bday &lt;int&gt; |\n",
       "|---|---|---|\n",
       "| 2 | 8 | 60 |\n",
       "\n",
       "\n",
       "2. \n",
       "3. \n",
       "4. \n",
       "A tibble: 2 × 3\n",
       "\n",
       "| i &lt;int&gt; | j &lt;int&gt; | bday &lt;int&gt; |\n",
       "|---|---|---|\n",
       "| 2 | 12 | 152 |\n",
       "| 5 | 24 | 119 |\n",
       "\n",
       "\n",
       "5. \n",
       "A tibble: 1 × 3\n",
       "\n",
       "| i &lt;int&gt; | j &lt;int&gt; | bday &lt;int&gt; |\n",
       "|---|---|---|\n",
       "| 23 | 30 | 3 |\n",
       "\n",
       "\n",
       "6. \n",
       "7. \n",
       "A tibble: 2 × 3\n",
       "\n",
       "| i &lt;int&gt; | j &lt;int&gt; | bday &lt;int&gt; |\n",
       "|---|---|---|\n",
       "| 1 | 16 | 182 |\n",
       "| 4 | 29 | 275 |\n",
       "\n",
       "\n",
       "8. \n",
       "9. \n",
       "A tibble: 1 × 3\n",
       "\n",
       "| i &lt;int&gt; | j &lt;int&gt; | bday &lt;int&gt; |\n",
       "|---|---|---|\n",
       "| 12 | 14 | 242 |\n",
       "\n",
       "\n",
       "10. \n",
       "A tibble: 2 × 3\n",
       "\n",
       "| i &lt;int&gt; | j &lt;int&gt; | bday &lt;int&gt; |\n",
       "|---|---|---|\n",
       "| 18 | 21 | 205 |\n",
       "| 19 | 28 | 270 |\n",
       "\n",
       "\n",
       "\n",
       "\n"
      ],
      "text/plain": [
       "[[1]]\n",
       "\u001b[90m# A tibble: 1 × 3\u001b[39m\n",
       "      i     j  bday\n",
       "  \u001b[3m\u001b[90m<int>\u001b[39m\u001b[23m \u001b[3m\u001b[90m<int>\u001b[39m\u001b[23m \u001b[3m\u001b[90m<int>\u001b[39m\u001b[23m\n",
       "\u001b[90m1\u001b[39m     2     8    60\n",
       "\n",
       "[[2]]\n",
       "\u001b[90m# A tibble: 0 × 0\u001b[39m\n",
       "\n",
       "[[3]]\n",
       "\u001b[90m# A tibble: 0 × 0\u001b[39m\n",
       "\n",
       "[[4]]\n",
       "\u001b[90m# A tibble: 2 × 3\u001b[39m\n",
       "      i     j  bday\n",
       "  \u001b[3m\u001b[90m<int>\u001b[39m\u001b[23m \u001b[3m\u001b[90m<int>\u001b[39m\u001b[23m \u001b[3m\u001b[90m<int>\u001b[39m\u001b[23m\n",
       "\u001b[90m1\u001b[39m     2    12   152\n",
       "\u001b[90m2\u001b[39m     5    24   119\n",
       "\n",
       "[[5]]\n",
       "\u001b[90m# A tibble: 1 × 3\u001b[39m\n",
       "      i     j  bday\n",
       "  \u001b[3m\u001b[90m<int>\u001b[39m\u001b[23m \u001b[3m\u001b[90m<int>\u001b[39m\u001b[23m \u001b[3m\u001b[90m<int>\u001b[39m\u001b[23m\n",
       "\u001b[90m1\u001b[39m    23    30     3\n",
       "\n",
       "[[6]]\n",
       "\u001b[90m# A tibble: 0 × 0\u001b[39m\n",
       "\n",
       "[[7]]\n",
       "\u001b[90m# A tibble: 2 × 3\u001b[39m\n",
       "      i     j  bday\n",
       "  \u001b[3m\u001b[90m<int>\u001b[39m\u001b[23m \u001b[3m\u001b[90m<int>\u001b[39m\u001b[23m \u001b[3m\u001b[90m<int>\u001b[39m\u001b[23m\n",
       "\u001b[90m1\u001b[39m     1    16   182\n",
       "\u001b[90m2\u001b[39m     4    29   275\n",
       "\n",
       "[[8]]\n",
       "\u001b[90m# A tibble: 0 × 0\u001b[39m\n",
       "\n",
       "[[9]]\n",
       "\u001b[90m# A tibble: 1 × 3\u001b[39m\n",
       "      i     j  bday\n",
       "  \u001b[3m\u001b[90m<int>\u001b[39m\u001b[23m \u001b[3m\u001b[90m<int>\u001b[39m\u001b[23m \u001b[3m\u001b[90m<int>\u001b[39m\u001b[23m\n",
       "\u001b[90m1\u001b[39m    12    14   242\n",
       "\n",
       "[[10]]\n",
       "\u001b[90m# A tibble: 2 × 3\u001b[39m\n",
       "      i     j  bday\n",
       "  \u001b[3m\u001b[90m<int>\u001b[39m\u001b[23m \u001b[3m\u001b[90m<int>\u001b[39m\u001b[23m \u001b[3m\u001b[90m<int>\u001b[39m\u001b[23m\n",
       "\u001b[90m1\u001b[39m    18    21   205\n",
       "\u001b[90m2\u001b[39m    19    28   270\n"
      ]
     },
     "metadata": {},
     "output_type": "display_data"
    }
   ],
   "source": [
    "#| label: bday-mc-multiple-rooms\n",
    "#| echo: true\n",
    "# Get tibbles for each room\n",
    "library(purrr)\n",
    "gen_bday_rooms <- function(num_rooms) {\n",
    "  rooms_df <- tibble()\n",
    "  for (r in seq(1, num_rooms)) {\n",
    "      cur_room <- gen_bday_room(r)\n",
    "      rooms_df <- bind_rows(rooms_df, cur_room)\n",
    "  }\n",
    "  return(rooms_df)\n",
    "}\n",
    "num_rooms <- 10\n",
    "rooms_df <- gen_bday_rooms(num_rooms)\n",
    "rooms_df %>% group_by(room_num) %>% group_map(~ get_shared_bdays(.x, is_grouped=TRUE))"
   ]
  },
  {
   "cell_type": "markdown",
   "metadata": {},
   "source": [
    ":::\n",
    "::: {.column width=\"48%\"}\n",
    "\n",
    "Number of shared birthdays per room:"
   ]
  },
  {
   "cell_type": "code",
   "execution_count": 21,
   "metadata": {},
   "outputs": [
    {
     "name": "stderr",
     "output_type": "stream",
     "text": [
      "Warning message:\n",
      "“Unknown or uninitialised column: `room_num`.”\n"
     ]
    },
    {
     "name": "stderr",
     "output_type": "stream",
     "text": [
      "Warning message:\n",
      "“Unknown or uninitialised column: `room_num`.”\n"
     ]
    },
    {
     "name": "stderr",
     "output_type": "stream",
     "text": [
      "Warning message:\n",
      "“Unknown or uninitialised column: `room_num`.”\n"
     ]
    },
    {
     "name": "stderr",
     "output_type": "stream",
     "text": [
      "Warning message:\n",
      "“Unknown or uninitialised column: `room_num`.”\n"
     ]
    },
    {
     "name": "stderr",
     "output_type": "stream",
     "text": [
      "Warning message:\n",
      "“Unknown or uninitialised column: `room_num`.”\n"
     ]
    },
    {
     "name": "stderr",
     "output_type": "stream",
     "text": [
      "Warning message:\n",
      "“Unknown or uninitialised column: `room_num`.”\n"
     ]
    },
    {
     "name": "stderr",
     "output_type": "stream",
     "text": [
      "Warning message:\n",
      "“Unknown or uninitialised column: `room_num`.”\n"
     ]
    },
    {
     "name": "stderr",
     "output_type": "stream",
     "text": [
      "Warning message:\n",
      "“Unknown or uninitialised column: `room_num`.”\n"
     ]
    },
    {
     "name": "stderr",
     "output_type": "stream",
     "text": [
      "Warning message:\n",
      "“Unknown or uninitialised column: `room_num`.”\n"
     ]
    },
    {
     "data": {
      "text/html": [
       "<style>\n",
       ".list-inline {list-style: none; margin:0; padding: 0}\n",
       ".list-inline>li {display: inline-block}\n",
       ".list-inline>li:not(:last-child)::after {content: \"\\00b7\"; padding: 0 .5ex}\n",
       "</style>\n",
       "<ol class=list-inline><li>1</li><li>0</li><li>0</li><li>2</li><li>1</li><li>0</li><li>2</li><li>0</li><li>1</li><li>2</li></ol>\n"
      ],
      "text/latex": [
       "\\begin{enumerate*}\n",
       "\\item 1\n",
       "\\item 0\n",
       "\\item 0\n",
       "\\item 2\n",
       "\\item 1\n",
       "\\item 0\n",
       "\\item 2\n",
       "\\item 0\n",
       "\\item 1\n",
       "\\item 2\n",
       "\\end{enumerate*}\n"
      ],
      "text/markdown": [
       "1. 1\n",
       "2. 0\n",
       "3. 0\n",
       "4. 2\n",
       "5. 1\n",
       "6. 0\n",
       "7. 2\n",
       "8. 0\n",
       "9. 1\n",
       "10. 2\n",
       "\n",
       "\n"
      ],
      "text/plain": [
       " [1] 1 0 0 2 1 0 2 0 1 2"
      ]
     },
     "metadata": {},
     "output_type": "display_data"
    }
   ],
   "source": [
    "#| label: get-shared-bdays\n",
    "#| echo: true\n",
    "# Now just get the # shared bdays\n",
    "shared_per_room <- rooms_df %>%\n",
    "    group_by(room_num) %>%\n",
    "    group_map(~ get_shared_bdays(.x, is_grouped = TRUE, return_num=TRUE))\n",
    "shared_per_room <- unlist(shared_per_room)\n",
    "shared_per_room"
   ]
  },
  {
   "cell_type": "markdown",
   "metadata": {},
   "source": [
    "* $\\widehat{\\Pr}(\\text{shared})$"
   ]
  },
  {
   "cell_type": "code",
   "execution_count": 22,
   "metadata": {},
   "outputs": [
    {
     "data": {
      "text/html": [
       "0.6"
      ],
      "text/latex": [
       "0.6"
      ],
      "text/markdown": [
       "0.6"
      ],
      "text/plain": [
       "[1] 0.6"
      ]
     },
     "metadata": {},
     "output_type": "display_data"
    }
   ],
   "source": [
    "#| label: shared-bday-rooms-pct\n",
    "sum(shared_per_room > 0) / num_rooms"
   ]
  },
  {
   "cell_type": "markdown",
   "metadata": {},
   "source": [
    ":::\n",
    ":::\n",
    "\n",
    "## {.unnumbered .smaller}\n",
    "\n",
    "* How about **A THOUSAND ROOMS**?"
   ]
  },
  {
   "cell_type": "code",
   "execution_count": 23,
   "metadata": {},
   "outputs": [
    {
     "data": {
      "text/html": [
       "<style>\n",
       ".list-inline {list-style: none; margin:0; padding: 0}\n",
       ".list-inline>li {display: inline-block}\n",
       ".list-inline>li:not(:last-child)::after {content: \"\\00b7\"; padding: 0 .5ex}\n",
       "</style>\n",
       "<ol class=list-inline><li>1</li><li>1</li><li>0</li><li>0</li><li>1</li><li>1</li><li>1</li><li>0</li><li>0</li><li>1</li><li>1</li><li>1</li><li>1</li><li>1</li><li>1</li><li>1</li><li>1</li><li>1</li><li>1</li><li>1</li><li>0</li><li>1</li><li>1</li><li>1</li><li>0</li><li>1</li><li>0</li><li>0</li><li>0</li><li>0</li><li>0</li><li>0</li><li>0</li><li>1</li><li>1</li><li>1</li><li>1</li><li>0</li><li>1</li><li>1</li><li>1</li><li>1</li><li>1</li><li>1</li><li>1</li><li>1</li><li>1</li><li>1</li><li>1</li><li>1</li><li>1</li><li>1</li><li>1</li><li>1</li><li>1</li><li>0</li><li>0</li><li>1</li><li>0</li><li>0</li><li>1</li><li>0</li><li>1</li><li>0</li><li>1</li><li>0</li><li>0</li><li>0</li><li>0</li><li>1</li><li>0</li><li>1</li><li>1</li><li>1</li><li>1</li><li>1</li><li>1</li><li>0</li><li>1</li><li>0</li><li>0</li><li>0</li><li>1</li><li>1</li><li>1</li><li>1</li><li>1</li><li>0</li><li>1</li><li>0</li><li>1</li><li>0</li><li>1</li><li>0</li><li>1</li><li>1</li><li>0</li><li>1</li><li>0</li><li>0</li></ol>\n"
      ],
      "text/latex": [
       "\\begin{enumerate*}\n",
       "\\item 1\n",
       "\\item 1\n",
       "\\item 0\n",
       "\\item 0\n",
       "\\item 1\n",
       "\\item 1\n",
       "\\item 1\n",
       "\\item 0\n",
       "\\item 0\n",
       "\\item 1\n",
       "\\item 1\n",
       "\\item 1\n",
       "\\item 1\n",
       "\\item 1\n",
       "\\item 1\n",
       "\\item 1\n",
       "\\item 1\n",
       "\\item 1\n",
       "\\item 1\n",
       "\\item 1\n",
       "\\item 0\n",
       "\\item 1\n",
       "\\item 1\n",
       "\\item 1\n",
       "\\item 0\n",
       "\\item 1\n",
       "\\item 0\n",
       "\\item 0\n",
       "\\item 0\n",
       "\\item 0\n",
       "\\item 0\n",
       "\\item 0\n",
       "\\item 0\n",
       "\\item 1\n",
       "\\item 1\n",
       "\\item 1\n",
       "\\item 1\n",
       "\\item 0\n",
       "\\item 1\n",
       "\\item 1\n",
       "\\item 1\n",
       "\\item 1\n",
       "\\item 1\n",
       "\\item 1\n",
       "\\item 1\n",
       "\\item 1\n",
       "\\item 1\n",
       "\\item 1\n",
       "\\item 1\n",
       "\\item 1\n",
       "\\item 1\n",
       "\\item 1\n",
       "\\item 1\n",
       "\\item 1\n",
       "\\item 1\n",
       "\\item 0\n",
       "\\item 0\n",
       "\\item 1\n",
       "\\item 0\n",
       "\\item 0\n",
       "\\item 1\n",
       "\\item 0\n",
       "\\item 1\n",
       "\\item 0\n",
       "\\item 1\n",
       "\\item 0\n",
       "\\item 0\n",
       "\\item 0\n",
       "\\item 0\n",
       "\\item 1\n",
       "\\item 0\n",
       "\\item 1\n",
       "\\item 1\n",
       "\\item 1\n",
       "\\item 1\n",
       "\\item 1\n",
       "\\item 1\n",
       "\\item 0\n",
       "\\item 1\n",
       "\\item 0\n",
       "\\item 0\n",
       "\\item 0\n",
       "\\item 1\n",
       "\\item 1\n",
       "\\item 1\n",
       "\\item 1\n",
       "\\item 1\n",
       "\\item 0\n",
       "\\item 1\n",
       "\\item 0\n",
       "\\item 1\n",
       "\\item 0\n",
       "\\item 1\n",
       "\\item 0\n",
       "\\item 1\n",
       "\\item 1\n",
       "\\item 0\n",
       "\\item 1\n",
       "\\item 0\n",
       "\\item 0\n",
       "\\end{enumerate*}\n"
      ],
      "text/markdown": [
       "1. 1\n",
       "2. 1\n",
       "3. 0\n",
       "4. 0\n",
       "5. 1\n",
       "6. 1\n",
       "7. 1\n",
       "8. 0\n",
       "9. 0\n",
       "10. 1\n",
       "11. 1\n",
       "12. 1\n",
       "13. 1\n",
       "14. 1\n",
       "15. 1\n",
       "16. 1\n",
       "17. 1\n",
       "18. 1\n",
       "19. 1\n",
       "20. 1\n",
       "21. 0\n",
       "22. 1\n",
       "23. 1\n",
       "24. 1\n",
       "25. 0\n",
       "26. 1\n",
       "27. 0\n",
       "28. 0\n",
       "29. 0\n",
       "30. 0\n",
       "31. 0\n",
       "32. 0\n",
       "33. 0\n",
       "34. 1\n",
       "35. 1\n",
       "36. 1\n",
       "37. 1\n",
       "38. 0\n",
       "39. 1\n",
       "40. 1\n",
       "41. 1\n",
       "42. 1\n",
       "43. 1\n",
       "44. 1\n",
       "45. 1\n",
       "46. 1\n",
       "47. 1\n",
       "48. 1\n",
       "49. 1\n",
       "50. 1\n",
       "51. 1\n",
       "52. 1\n",
       "53. 1\n",
       "54. 1\n",
       "55. 1\n",
       "56. 0\n",
       "57. 0\n",
       "58. 1\n",
       "59. 0\n",
       "60. 0\n",
       "61. 1\n",
       "62. 0\n",
       "63. 1\n",
       "64. 0\n",
       "65. 1\n",
       "66. 0\n",
       "67. 0\n",
       "68. 0\n",
       "69. 0\n",
       "70. 1\n",
       "71. 0\n",
       "72. 1\n",
       "73. 1\n",
       "74. 1\n",
       "75. 1\n",
       "76. 1\n",
       "77. 1\n",
       "78. 0\n",
       "79. 1\n",
       "80. 0\n",
       "81. 0\n",
       "82. 0\n",
       "83. 1\n",
       "84. 1\n",
       "85. 1\n",
       "86. 1\n",
       "87. 1\n",
       "88. 0\n",
       "89. 1\n",
       "90. 0\n",
       "91. 1\n",
       "92. 0\n",
       "93. 1\n",
       "94. 0\n",
       "95. 1\n",
       "96. 1\n",
       "97. 0\n",
       "98. 1\n",
       "99. 0\n",
       "100. 0\n",
       "\n",
       "\n"
      ],
      "text/plain": [
       "  [1] 1 1 0 0 1 1 1 0 0 1 1 1 1 1 1 1 1 1 1 1 0 1 1 1 0 1 0 0 0 0 0 0 0 1 1 1 1\n",
       " [38] 0 1 1 1 1 1 1 1 1 1 1 1 1 1 1 1 1 1 0 0 1 0 0 1 0 1 0 1 0 0 0 0 1 0 1 1 1\n",
       " [75] 1 1 1 0 1 0 0 0 1 1 1 1 1 0 1 0 1 0 1 0 1 1 0 1 0 0"
      ]
     },
     "metadata": {},
     "output_type": "display_data"
    }
   ],
   "source": [
    "#| label: bday-1k-rooms\n",
    "num_rooms_many <- 100\n",
    "many_rooms_df <- gen_bday_rooms(num_rooms_many)\n",
    "anyshared_per_room <- many_rooms_df %>%\n",
    "    group_by(room_num) %>%\n",
    "    group_map(~ get_shared_bdays(.x, is_grouped = TRUE, return_bool = TRUE))\n",
    "anyshared_per_room <- unlist(anyshared_per_room)\n",
    "anyshared_per_room"
   ]
  },
  {
   "cell_type": "markdown",
   "metadata": {},
   "source": [
    "* $\\widehat{\\Pr}(\\text{shared bday})$?"
   ]
  },
  {
   "cell_type": "code",
   "execution_count": 24,
   "metadata": {},
   "outputs": [
    {
     "data": {
      "text/html": [
       "0.64"
      ],
      "text/latex": [
       "0.64"
      ],
      "text/markdown": [
       "0.64"
      ],
      "text/plain": [
       "[1] 0.64"
      ]
     },
     "metadata": {},
     "output_type": "display_data"
    }
   ],
   "source": [
    "#| label: bday-1k-rooms-prob\n",
    "# And now the probability estimate\n",
    "sum(anyshared_per_room > 0) / num_rooms_many"
   ]
  },
  {
   "cell_type": "markdown",
   "metadata": {},
   "source": [
    "* The analytic solution: $\\Pr(\\text{shared} \\mid k\\text{ people in room}) = 1 - \\frac{366!}{366^{k}(366-k)!}$\n",
    "* In our case: $1 - \\frac{366!}{366^{30}(366-30)!} = 1 - \\frac{366!}{366^{30}336!} = 1 - \\frac{\\prod_{i=337}^{366}i}{366^{30}}$\n",
    "* `R` can juust barely handle these numbers:"
   ]
  },
  {
   "cell_type": "code",
   "execution_count": 25,
   "metadata": {},
   "outputs": [
    {
     "data": {
      "text/html": [
       "0.705303412008992"
      ],
      "text/latex": [
       "0.705303412008992"
      ],
      "text/markdown": [
       "0.705303412008992"
      ],
      "text/plain": [
       "[1] 0.7053034"
      ]
     },
     "metadata": {},
     "output_type": "display_data"
    }
   ],
   "source": [
    "#| label: bday-exact-soln\n",
    "(exact_solution <- 1 - (prod(seq(337,366))) / (366^30))"
   ]
  },
  {
   "cell_type": "markdown",
   "metadata": {},
   "source": [
    "## Wrapping Up {.smaller}"
   ]
  },
  {
   "cell_type": "code",
   "execution_count": 26,
   "metadata": {
    "cache": true
   },
   "outputs": [
    {
     "data": {
      "image/png": "[encoded data removed]",
      "text/plain": [
       "plot without title"
      ]
     },
     "metadata": {
      "image/png": {
       "height": 420,
       "width": 420
      }
     },
     "output_type": "display_data"
    }
   ],
   "source": [
    "#| label: bday-solns-plot\n",
    "library(ggplot2)\n",
    "options(ggplot2.discrete.colour = cbPalette)\n",
    "global_theme <- ggplot2::theme_classic() + ggplot2::theme(\n",
    "    plot.title = element_text(hjust = 0.5, size = 18),\n",
    "    axis.title = element_text(size = 16),\n",
    "    axis.text = element_text(size = 14),\n",
    "    legend.title = element_text(size = 16, hjust = 0.5),\n",
    "    legend.text = element_text(size = 14),\n",
    "    legend.box.background = element_rect(colour = \"black\")\n",
    ")\n",
    "knitr::opts_chunk$set(fig.align = \"center\")\n",
    "g_pointsize <- 6\n",
    "# Bday problem\n",
    "trials_per_roomsize <- 3\n",
    "bday_est_lbounds <- c()\n",
    "bday_est_means <- c()\n",
    "bday_est_ubounds <- c()\n",
    "sample_sizes <- c()\n",
    "for (num_rooms_many in c(10,50,100,500, 1000)) {\n",
    "  cur_size_ests <- c()\n",
    "  for (trial_num in seq(1,trials_per_roomsize)) {\n",
    "    many_rooms_df <- gen_bday_rooms(num_rooms_many)\n",
    "    anyshared_per_room <- many_rooms_df %>%\n",
    "        group_by(room_num) %>%\n",
    "        group_map(~ get_shared_bdays(.x, is_grouped = TRUE, return_bool = TRUE))\n",
    "    anyshared_per_room <- unlist(anyshared_per_room)\n",
    "    cur_est <- sum(anyshared_per_room > 0) / num_rooms_many\n",
    "    cur_size_ests <- c(cur_size_ests, cur_est)\n",
    "  }\n",
    "  bday_est_lbounds <- c(bday_est_lbounds, min(cur_size_ests))\n",
    "  bday_est_ubounds <- c(bday_est_ubounds, max(cur_size_ests))\n",
    "  bday_est_means <- c(bday_est_means, mean(cur_size_ests))\n",
    "  sample_sizes <- c(sample_sizes, num_rooms_many)\n",
    "}\n",
    "result_df <- tibble(n=sample_sizes,est=bday_est_means, lbound=bday_est_lbounds, ubound=bday_est_ubounds)\n",
    "base_plot <- ggplot(result_df, aes(x=n, y=est)) +\n",
    "  geom_point(aes(color=\"black\")) +\n",
    "  geom_line(color=\"black\") +\n",
    "  geom_ribbon(aes(ymin = lbound, ymax = ubound, fill = cbPalette[1]), alpha = 0.3) +\n",
    "      geom_hline(aes(yintercept = exact_solution, linetype = \"dashed\"), color = \"purple\") +\n",
    "      scale_color_manual(\"\", values = c(\"black\", \"purple\"), labels = c(\"Sample Mean X\", \"True Mean mu\")) +\n",
    "      scale_linetype_manual(\"\", values = \"dashed\", labels = \"True Mean mu\") +\n",
    "      scale_fill_manual(\"\", values = cbPalette[1], labels = \"95% CI\") +\n",
    "      global_theme +\n",
    "      theme(\n",
    "          legend.title = element_blank(),\n",
    "          legend.spacing.y = unit(0, \"mm\")\n",
    "      ) +\n",
    "      labs(\n",
    "          title = \"Monte Carlo Estimates of Birthday Problem Solution\",\n",
    "          x = \"n (Sample Size)\",\n",
    "          y = \"Estimate\"\n",
    "      )\n",
    "log_plot <- base_plot + scale_x_log10(breaks=c(10,100,1000,10000,100000), labels=c(\"10\",\"100\",\"1000\",\"10000\",\"100000\"))\n",
    "log_plot"
   ]
  },
  {
   "cell_type": "markdown",
   "metadata": {},
   "source": [
    "## Final Note: Functions of Random Variables\n",
    "\n",
    "* $X \\sim U[0,1], Y \\sim U[0,1]$.\n",
    "* $P(Y < X^2)$?\n",
    "* The hard way: solve analytically\n",
    "* The easy way: simulate!\n",
    "\n",
    "# Lab 2 {data-stack-name=\"Lab 2\"}\n",
    "\n",
    "## Lab 2 Demonstrations\n",
    "\n",
    "[Lab 2 Demonstrations](https://jfh.georgetown.domains/dsan5100/share-point/labs/lab-2/lab-2-demo/lab-2-demo-1.html){target=\"_blank\"}\n",
    "\n",
    "## Lab 2 Assignment Overview\n",
    "\n",
    "[Lab 2 Assignment](https://jfh.georgetown.domains/dsan5100/share-point/labs/lab-2/lab-2-assignment.html)"
   ]
  }
 ],
 "metadata": {
  "kernelspec": {
   "display_name": "R",
   "language": "R",
   "name": "ir"
  },
  "language_info": {
   "codemirror_mode": "r",
   "file_extension": ".r",
   "mimetype": "text/x-r-source",
   "name": "R",
   "pygments_lexer": "r",
   "version": "4.3.1"
  }
 },
 "nbformat": 4,
 "nbformat_minor": 4
}
