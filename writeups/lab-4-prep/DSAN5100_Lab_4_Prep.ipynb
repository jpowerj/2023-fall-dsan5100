{
  "cells": [
    {
      "cell_type": "raw",
      "metadata": {},
      "source": [
        "---\n",
        "title: \"Lab 4 Prep\"\n",
        "date: last-modified\n",
        "metadata-files:\n",
        "  - \"../../_doc-meta.yml\"\n",
        "categories:\n",
        "  - \"Extra Writeups\"\n",
        "---\n"
      ]
    },
    {
      "cell_type": "markdown",
      "metadata": {},
      "source": [
        "::: {.callout-note title=\"Colab Link\"}\n",
        "\n",
        "<center>\n",
        "\n",
        "[![](images/colab-badge.svg)<br>Click here to **open in Colab**](https://colab.research.google.com/github/jpowerj/dsan5100-03/blob/main/writeups/lab-4-prep/DSAN5100_Lab_4_Prep.ipynb?authuser=1){target=\"_blank\"}\n",
        "\n",
        "</center>\n",
        "\n",
        "If you are trying to **edit** this notebook in **Colab**, you'll also want to make sure to run the following code cell, which will install some global functions that we use in the course: mainly the `dsan_theme()` function, which just ensures that the plots you create have a standardized theme, (making it easier for us and the TAs to quickly understand what's going on in your plots)\n",
        "\n",
        "If the `dsan_theme()` function still gives you trouble after running this, no worries. You can just comment out `dsan_theme()` anywhere you see it, and use the default `ggplot2` theme instead.\n",
        "\n",
        ":::"
      ]
    },
    {
      "cell_type": "code",
      "execution_count": 98,
      "metadata": {
        "vscode": {
          "languageId": "r"
        }
      },
      "outputs": [
        {
          "name": "stdout",
          "output_type": "stream",
          "text": [
            "No Colab environment detected\n"
          ]
        }
      ],
      "source": [
        "if (Sys.getenv('COLAB_RELEASE_TAG') != '') {\n",
        "    writeLines(\"Colab detected: sourcing DSAN R globals\")\n",
        "    library(devtools)\n",
        "    source_url('https://raw.githubusercontent.com/jpowerj/dsan5100-03/main/_globals.r')\n",
        "} else {\n",
        "    writeLines(\"No Colab environment detected\")\n",
        "}"
      ]
    },
    {
      "cell_type": "markdown",
      "metadata": {
        "id": "L76nV64tc3_f"
      },
      "source": [
        "Here, to prepare you for Lab 4, I'm going to walk you through generating data from a **distribution** via **simulation**, and then analyzing **properties** of this data (and therefore, if the data is sufficiently representative, properties of the distribution) by computing new pieces of information on the basis of the original data. Hopefully this helps drive the point home that **probability distributions** like the **Normal distribution** that we'll look at in this case are not arbitrarily, pulled out of thin air or out of the brain of some imaginative mathematician. Rather, they\n",
        "\n",
        "1.   arise naturally out of patterns that we see in nature, and/or\n",
        "2.   allow us to \"encode\" the information we have about the world as a distribution in some principled way.\n",
        "\n",
        "In the latter case, I say \"principled\" in the sense that: we can \"encode\" information we have at some point in time as a particularly-suitable distribution and then, when we learn new information, we can **update** this distribution to reflect the new information, using **Bayes' rule** 🧐‼️🧐."
      ]
    },
    {
      "cell_type": "markdown",
      "metadata": {
        "id": "emXaV9eze9-F"
      },
      "source": [
        "## The Drunkard's Walk\n",
        "\n",
        "In class today I described one of the many **Data Generating Processes** that could give rise to **normally-distributed** data. It involved a simple **random walk**, where you imagine a person on a numberline at the point $x = 0$, and then imagine them flipping a coin repeatedly: when the coin comes up **Tails**, they move 1 unit to the **left**, and when the coin comes up **Heads** they move 1 unit to the **right**. This stochastic process can be visualized via the following diagram[^drunkard]:"
      ]
    },
    {
      "cell_type": "markdown",
      "metadata": {
        "id": "WiU31gfzrHFp"
      },
      "source": [
        "![](images/random_walk.svg)"
      ]
    },
    {
      "cell_type": "markdown",
      "metadata": {
        "id": "65enkYIOgBum"
      },
      "source": [
        "Here we can think of the \"layers\" (the vertical columns) in the diagram as representing the branching possibilities in each step: at time $t = 0$, before any coin flips have been carried out, there is only one possible **state** of the system: the person is at the point $x = 0$.\n",
        "\n",
        "After a single time step, at time $t = 1$, there are now **two possible states** of the system: if the (single) coin flip came up **Tails** the person is at $x = -1$, and if it came up **Heads** the person is at $x = 1$.\n",
        "\n",
        "Hopefully some general aspects and mathematical properties of this stochastic process immediately stand out:\n",
        "\n",
        "* There are **two ways** we could describe a given **state** of this system at a time $t$:\n",
        "  * First, we could describe the **history** of all choices that led to the current state: the node at the top of the $t = 2$ column, for example, could be represented as a vector $(L, L)$, corresponding to the fact that the person ended up at this state by moving left, then moving left again.\n",
        "  * **Alternatively**, we could choose to only keep track of the person's **position** on the number line, dropping the information about their history (how they got there). If we choose this option, the state can be described by a **single number**: the $x$ coordinate of where the person is located at that time.\n",
        "  * Notice how this second option \"collapses\" some of the nodes in the diagram down into a single state: for example, the three history vectors $()$ (the vector corresponding to the start node, where no moves have been made yet), $(L,R)$ and $(R,L)$, which are three different states under the first option, both represent the single state $x = 0$ if we use this option.\n",
        "* The number of **possible** states (nodes) at each time step $t$ is just $2^t$. This comes from our **multiplication rule** from earlier in the semester: if we're making $n$ choices, where each choice involves choosing between $k$ alternatives, the total number of choice vectors (decisions for all $n$ choices) is $k^n$. Here we're making $t$ choices (one at each time step), choosing between $2$ alternatives each time (going left vs. going right), giving $2^t$ total choice vectors.\n",
        "\n",
        "Now that we have an idea of some of the mathematical properties of this system, let's focus in on converting this into code!"
      ]
    },
    {
      "cell_type": "markdown",
      "metadata": {},
      "source": [
        "First things first, we make sure to use R's `set.seed()` function to ensure **reproducibility** of our results across different runs of the notebook:"
      ]
    },
    {
      "cell_type": "raw",
      "metadata": {},
      "source": [
        "set.seed(5100)"
      ]
    },
    {
      "cell_type": "markdown",
      "metadata": {},
      "source": [
        "Your first intuition might be to create a variable `x` to keep track of the state, then create a loop that will run `N` times, updating the state each time through the loop. In data science world, it turns out that this approach is **very** inefficient (in terms of memory usage but also, more importantly, in terms of the time it will take to run the simulation). But, let's start with that and work our way towards the more efficient solution.\n",
        "\n",
        "For concreteness, let's try to simulate a person following this procedure for `N` = 10 steps, where each coin flip is with a fair coin, with $\\Pr(H) = 0.5$. I am forever infinitely mad about the fact that R does not come with built-in support for the Bernoulli distribution (literally the distribution that every single other possible discrete distribution is built on top of...), so instead of using `dbinom()` incorrectly like I did in class, I am instead going to import the `Rlab` library, which [**adds in** functions](https://www.rdocumentation.org/packages/Rlab/versions/4.0/topics/Bernoulli){target=\"_blank\"} like `dbern()`, `rbern()`, etc., that are bafflingly absent from base-R:"
      ]
    },
    {
      "cell_type": "code",
      "execution_count": 1,
      "metadata": {
        "vscode": {
          "languageId": "r"
        }
      },
      "outputs": [
        {
          "name": "stderr",
          "output_type": "stream",
          "text": [
            "Rlab 4.0 attached.\n",
            "\n",
            "\n",
            "\n",
            "Attaching package: 'Rlab'\n",
            "\n",
            "\n",
            "The following objects are masked from 'package:stats':\n",
            "\n",
            "    dexp, dgamma, dweibull, pexp, pgamma, pweibull, qexp, qgamma,\n",
            "    qweibull, rexp, rgamma, rweibull\n",
            "\n",
            "\n",
            "The following object is masked from 'package:datasets':\n",
            "\n",
            "    precip\n",
            "\n",
            "\n"
          ]
        },
        {
          "name": "stdout",
          "output_type": "stream",
          "text": [
            "Starting state (t = 0): x = 0\n",
            "=====[ Step 1 ]=====\n",
            "Coin flip outcome: 1\n",
            "Moved Right\n",
            "New state (t = 1): x = 1\n",
            "=====[ Step 2 ]=====\n",
            "Coin flip outcome: 0\n",
            "Moved Left\n",
            "New state (t = 2): x = 0\n",
            "=====[ Step 3 ]=====\n",
            "Coin flip outcome: 0\n",
            "Moved Left\n",
            "New state (t = 3): x = -1\n",
            "=====[ Step 4 ]=====\n",
            "Coin flip outcome: 0\n",
            "Moved Left\n",
            "New state (t = 4): x = -2\n",
            "=====[ Step 5 ]=====\n",
            "Coin flip outcome: 0\n",
            "Moved Left\n",
            "New state (t = 5): x = -3\n",
            "=====[ Step 6 ]=====\n",
            "Coin flip outcome: 0\n",
            "Moved Left\n",
            "New state (t = 6): x = -4\n",
            "=====[ Step 7 ]=====\n",
            "Coin flip outcome: 0\n",
            "Moved Left\n",
            "New state (t = 7): x = -5\n",
            "=====[ Step 8 ]=====\n",
            "Coin flip outcome: 0\n",
            "Moved Left\n",
            "New state (t = 8): x = -6\n",
            "=====[ Step 9 ]=====\n",
            "Coin flip outcome: 1\n",
            "Moved Right\n",
            "New state (t = 9): x = -5\n",
            "=====[ Step 10 ]=====\n",
            "Coin flip outcome: 1\n",
            "Moved Right\n",
            "New state (t = 10): x = -4\n"
          ]
        }
      ],
      "source": [
        "library(Rlab)\n",
        "t <- 0\n",
        "x <- 0\n",
        "writeLines(paste0(\"Starting state (t = \",t,\"): x = \",x))\n",
        "for (i in seq(from = 1, to = 10)) {\n",
        "    writeLines(paste0(\"=====[ Step \",i,\" ]=====\"))\n",
        "    # Flip coin\n",
        "    flip_outcome <- rbern(1,0.5)\n",
        "    writeLines(paste0(\"Coin flip outcome: \",flip_outcome))\n",
        "    # Choose direction based on result\n",
        "    direction <- \"\"\n",
        "    if (flip_outcome == 0) {\n",
        "        # Outcome = Tails\n",
        "        direction <- \"Left\"\n",
        "        x <- x - 1\n",
        "    } else {\n",
        "        # Outcome = Heads\n",
        "        direction <- \"Right\"\n",
        "        x <- x + 1\n",
        "    }\n",
        "    # And increment the time counter\n",
        "    t <- t + 1\n",
        "    writeLines(paste0(\"Moved \",direction))\n",
        "    writeLines(paste0(\"New state (t = \",t,\"): x = \",x))\n",
        "}\n",
        "\n",
        "# # Unique id for each person\n",
        "# pid <- seq(1, num_people)\n",
        "# pid_tib <- tibble(pid)\n",
        "# pos_df <- tibble()\n",
        "# end_df <- tibble()\n",
        "#   all_steps <- t(replicate(num_people, sample(support, num_steps, replace = TRUE, prob = c(0.5, 0.5))))"
      ]
    },
    {
      "cell_type": "markdown",
      "metadata": {},
      "source": [
        "Technically, this code is sufficient to carry out our whole simulation, if we didn't care about memory/time considerations. For example, we could use it to write a `slow_simulation` function, that takes in `num_steps` as its argument, simulates this many steps of the process, and returns the resulting state. To avoid the function printing out all of the above information 100 times, which will make things run even more slowly, I will also add a `verbose` argument that is set to `FALSE` by default. This is good practice in some cases, software-engineering-wise, since if something goes wrong during a call to the function we can re-run the function with `verbose` set to be `TRUE` and see the same type of info we printed out above."
      ]
    },
    {
      "cell_type": "code",
      "execution_count": 2,
      "metadata": {
        "vscode": {
          "languageId": "r"
        }
      },
      "outputs": [],
      "source": [
        "slow_simulation <- function(num_steps, verbose = FALSE) {\n",
        "    t <- 0\n",
        "    x <- 0\n",
        "    if (verbose) {\n",
        "        writeLines(paste0(\"Starting state (t = \",t,\"): x = \",x))\n",
        "    }\n",
        "    for (i in 1:num_steps) {\n",
        "        if (verbose) {\n",
        "            writeLines(paste0(\"=====[ Step \",i,\" ]=====\"))\n",
        "        }\n",
        "        # Flip coin\n",
        "        flip_outcome <- rbern(1,0.5)\n",
        "        if (verbose) {\n",
        "            writeLines(paste0(\"Coin flip outcome: \",flip_outcome))\n",
        "        }\n",
        "        # Choose direction based on result\n",
        "        direction <- \"\"\n",
        "        if (flip_outcome == 0) {\n",
        "            # Outcome = Tails\n",
        "            direction <- \"Left\"\n",
        "            x <- x - 1\n",
        "        } else {\n",
        "            # Outcome = Heads\n",
        "            direction <- \"Right\"\n",
        "            x <- x + 1\n",
        "        }\n",
        "        # And increment the time counter\n",
        "        t <- t + 1\n",
        "        if (verbose) {\n",
        "            writeLines(paste0(\"Moved \",direction))\n",
        "            writeLines(paste0(\"New state: x = \",x))\n",
        "        }\n",
        "    }\n",
        "    return(x)\n",
        "}"
      ]
    },
    {
      "cell_type": "markdown",
      "metadata": {},
      "source": [
        "It is usually good practice, once you've written a function like this, to test that it works for the simplest \"corner cases\" or \"base cases\": in this case, for example, we should quickly verify that it always produces the expected output $x = 0$ when we ask it for the result of the process after **zero steps**:"
      ]
    },
    {
      "cell_type": "code",
      "execution_count": 3,
      "metadata": {
        "vscode": {
          "languageId": "r"
        }
      },
      "outputs": [
        {
          "data": {
            "text/html": [
              "<style>\n",
              ".list-inline {list-style: none; margin:0; padding: 0}\n",
              ".list-inline>li {display: inline-block}\n",
              ".list-inline>li:not(:last-child)::after {content: \"\\00b7\"; padding: 0 .5ex}\n",
              "</style>\n",
              "<ol class=list-inline><li>0</li><li>-2</li><li>0</li><li>0</li><li>0</li><li>-2</li><li>2</li><li>0</li><li>0</li><li>0</li></ol>\n"
            ],
            "text/latex": [
              "\\begin{enumerate*}\n",
              "\\item 0\n",
              "\\item -2\n",
              "\\item 0\n",
              "\\item 0\n",
              "\\item 0\n",
              "\\item -2\n",
              "\\item 2\n",
              "\\item 0\n",
              "\\item 0\n",
              "\\item 0\n",
              "\\end{enumerate*}\n"
            ],
            "text/markdown": [
              "1. 0\n",
              "2. -2\n",
              "3. 0\n",
              "4. 0\n",
              "5. 0\n",
              "6. -2\n",
              "7. 2\n",
              "8. 0\n",
              "9. 0\n",
              "10. 0\n",
              "\n",
              "\n"
            ],
            "text/plain": [
              " [1]  0 -2  0  0  0 -2  2  0  0  0"
            ]
          },
          "metadata": {},
          "output_type": "display_data"
        }
      ],
      "source": [
        "replicate(10, slow_simulation(0))"
      ]
    },
    {
      "cell_type": "markdown",
      "metadata": {},
      "source": [
        "And alas, we have already found a **bug** in our implementation! It turns out that, unlike in Python or most other programming languages, using just the colon operator (`:`) can lead to some terrifying bugs,since if the number **after** the `:` is **less than** the number **before** the `:`, R will just start iterating **backwards** from the first number down to the second number:"
      ]
    },
    {
      "cell_type": "code",
      "execution_count": 4,
      "metadata": {
        "vscode": {
          "languageId": "r"
        }
      },
      "outputs": [
        {
          "data": {
            "text/html": [
              "<style>\n",
              ".list-inline {list-style: none; margin:0; padding: 0}\n",
              ".list-inline>li {display: inline-block}\n",
              ".list-inline>li:not(:last-child)::after {content: \"\\00b7\"; padding: 0 .5ex}\n",
              "</style>\n",
              "<ol class=list-inline><li>5</li><li>4</li><li>3</li><li>2</li><li>1</li><li>0</li><li>-1</li><li>-2</li><li>-3</li></ol>\n"
            ],
            "text/latex": [
              "\\begin{enumerate*}\n",
              "\\item 5\n",
              "\\item 4\n",
              "\\item 3\n",
              "\\item 2\n",
              "\\item 1\n",
              "\\item 0\n",
              "\\item -1\n",
              "\\item -2\n",
              "\\item -3\n",
              "\\end{enumerate*}\n"
            ],
            "text/markdown": [
              "1. 5\n",
              "2. 4\n",
              "3. 3\n",
              "4. 2\n",
              "5. 1\n",
              "6. 0\n",
              "7. -1\n",
              "8. -2\n",
              "9. -3\n",
              "\n",
              "\n"
            ],
            "text/plain": [
              "[1]  5  4  3  2  1  0 -1 -2 -3"
            ]
          },
          "metadata": {},
          "output_type": "display_data"
        }
      ],
      "source": [
        "5:-3"
      ]
    },
    {
      "cell_type": "markdown",
      "metadata": {},
      "source": [
        "This may seem inocuous, until you try to write a function like this which loops a specific number of times, and you try to support the case of running **zero** times. For example, if you use `1:n`, and you accept `n` as an argument to your function, you'll get a case like the following:"
      ]
    },
    {
      "cell_type": "code",
      "execution_count": 5,
      "metadata": {
        "vscode": {
          "languageId": "r"
        }
      },
      "outputs": [
        {
          "data": {
            "text/html": [
              "<style>\n",
              ".list-inline {list-style: none; margin:0; padding: 0}\n",
              ".list-inline>li {display: inline-block}\n",
              ".list-inline>li:not(:last-child)::after {content: \"\\00b7\"; padding: 0 .5ex}\n",
              "</style>\n",
              "<ol class=list-inline><li>1</li><li>0</li></ol>\n"
            ],
            "text/latex": [
              "\\begin{enumerate*}\n",
              "\\item 1\n",
              "\\item 0\n",
              "\\end{enumerate*}\n"
            ],
            "text/markdown": [
              "1. 1\n",
              "2. 0\n",
              "\n",
              "\n"
            ],
            "text/plain": [
              "[1] 1 0"
            ]
          },
          "metadata": {},
          "output_type": "display_data"
        }
      ],
      "source": [
        "n <- 0\n",
        "1:n"
      ]
    },
    {
      "cell_type": "markdown",
      "metadata": {},
      "source": [
        "The takeaway is: if we want to be **fully careful**, and we want to make sure our function also produces the correct answer for **zero** steps, then we need to use R's `seq_len()` function! `seq_len(N)` can be used in a loop to ensure that R loops over a **sequence** from 1 to `N`, and always counts **up**, so we avoid this case:"
      ]
    },
    {
      "cell_type": "code",
      "execution_count": 6,
      "metadata": {
        "vscode": {
          "languageId": "r"
        }
      },
      "outputs": [],
      "source": [
        "slow_simulation <- function(num_steps, verbose = FALSE) {\n",
        "    t <- 0\n",
        "    x <- 0\n",
        "    if (verbose) {\n",
        "        writeLines(paste0(\"Starting state (t = \",t,\"): x = \",x))\n",
        "    }\n",
        "    for (i in seq_len(num_steps)) {\n",
        "        if (verbose) {\n",
        "            writeLines(paste0(\"=====[ Step \",i,\" ]=====\"))\n",
        "        }\n",
        "        # Flip coin\n",
        "        flip_outcome <- rbern(1,0.5)\n",
        "        if (verbose) {\n",
        "            writeLines(paste0(\"Coin flip outcome: \",flip_outcome))\n",
        "        }\n",
        "        # Choose direction based on result\n",
        "        direction <- \"\"\n",
        "        if (flip_outcome == 0) {\n",
        "            # Outcome = Tails\n",
        "            direction <- \"Left\"\n",
        "            x <- x - 1\n",
        "        } else {\n",
        "            # Outcome = Heads\n",
        "            direction <- \"Right\"\n",
        "            x <- x + 1\n",
        "        }\n",
        "        # And increment the time counter\n",
        "        t <- t + 1\n",
        "        if (verbose) {\n",
        "            writeLines(paste0(\"Moved \",direction))\n",
        "            writeLines(paste0(\"New state: x = \",x))\n",
        "        }\n",
        "    }\n",
        "    return(x)\n",
        "}"
      ]
    },
    {
      "cell_type": "markdown",
      "metadata": {},
      "source": [
        "Re-running our tests, to make sure it works as expected now even in the `N` = 0 case, we get:"
      ]
    },
    {
      "cell_type": "code",
      "execution_count": 7,
      "metadata": {
        "vscode": {
          "languageId": "r"
        }
      },
      "outputs": [
        {
          "data": {
            "text/html": [
              "<style>\n",
              ".list-inline {list-style: none; margin:0; padding: 0}\n",
              ".list-inline>li {display: inline-block}\n",
              ".list-inline>li:not(:last-child)::after {content: \"\\00b7\"; padding: 0 .5ex}\n",
              "</style>\n",
              "<ol class=list-inline><li>0</li><li>0</li><li>0</li><li>0</li><li>0</li><li>0</li><li>0</li><li>0</li><li>0</li><li>0</li></ol>\n"
            ],
            "text/latex": [
              "\\begin{enumerate*}\n",
              "\\item 0\n",
              "\\item 0\n",
              "\\item 0\n",
              "\\item 0\n",
              "\\item 0\n",
              "\\item 0\n",
              "\\item 0\n",
              "\\item 0\n",
              "\\item 0\n",
              "\\item 0\n",
              "\\end{enumerate*}\n"
            ],
            "text/markdown": [
              "1. 0\n",
              "2. 0\n",
              "3. 0\n",
              "4. 0\n",
              "5. 0\n",
              "6. 0\n",
              "7. 0\n",
              "8. 0\n",
              "9. 0\n",
              "10. 0\n",
              "\n",
              "\n"
            ],
            "text/plain": [
              " [1] 0 0 0 0 0 0 0 0 0 0"
            ]
          },
          "metadata": {},
          "output_type": "display_data"
        }
      ],
      "source": [
        "replicate(10, slow_simulation(0))"
      ]
    },
    {
      "cell_type": "markdown",
      "metadata": {},
      "source": [
        "There may still be issues, but now let's use this function to find the state of the system after `N` = 100 steps (we'll run it 3 times here, just to show how it can produces different outcomes each time it is re-run)"
      ]
    },
    {
      "cell_type": "code",
      "execution_count": 8,
      "metadata": {
        "vscode": {
          "languageId": "r"
        }
      },
      "outputs": [
        {
          "data": {
            "text/html": [
              "-20"
            ],
            "text/latex": [
              "-20"
            ],
            "text/markdown": [
              "-20"
            ],
            "text/plain": [
              "[1] -20"
            ]
          },
          "metadata": {},
          "output_type": "display_data"
        }
      ],
      "source": [
        "slow_simulation(100)"
      ]
    },
    {
      "cell_type": "code",
      "execution_count": 9,
      "metadata": {
        "vscode": {
          "languageId": "r"
        }
      },
      "outputs": [
        {
          "data": {
            "text/html": [
              "2"
            ],
            "text/latex": [
              "2"
            ],
            "text/markdown": [
              "2"
            ],
            "text/plain": [
              "[1] 2"
            ]
          },
          "metadata": {},
          "output_type": "display_data"
        }
      ],
      "source": [
        "slow_simulation(100)"
      ]
    },
    {
      "cell_type": "code",
      "execution_count": 10,
      "metadata": {
        "vscode": {
          "languageId": "r"
        }
      },
      "outputs": [
        {
          "data": {
            "text/html": [
              "-2"
            ],
            "text/latex": [
              "-2"
            ],
            "text/markdown": [
              "-2"
            ],
            "text/plain": [
              "[1] -2"
            ]
          },
          "metadata": {},
          "output_type": "display_data"
        }
      ],
      "source": [
        "slow_simulation(100)"
      ]
    },
    {
      "cell_type": "markdown",
      "metadata": {},
      "source": [
        "And we see that, repeating the process 4 times, the random-walker ended up at $x = -20$, $x = 2$, and $x = -2$ after 100 steps. From this (or from intuition from the diagram, or from thinking about the process in general), we could infer another fact: that the random-walker will end up at an **even-numbered coordinate** if they take an **even number of steps** (including 0 steps). By similar reasoning, if we run the process for an **odd** number of steps, the random-walker will end up on an **odd-numbered coordinate** (here we run for a few even and odd values, so you can start to see this general pattern):"
      ]
    },
    {
      "cell_type": "code",
      "execution_count": 17,
      "metadata": {
        "vscode": {
          "languageId": "r"
        }
      },
      "outputs": [
        {
          "data": {
            "text/html": [
              "3"
            ],
            "text/latex": [
              "3"
            ],
            "text/markdown": [
              "3"
            ],
            "text/plain": [
              "[1] 3"
            ]
          },
          "metadata": {},
          "output_type": "display_data"
        }
      ],
      "source": [
        "slow_simulation(7)"
      ]
    },
    {
      "cell_type": "code",
      "execution_count": 18,
      "metadata": {
        "vscode": {
          "languageId": "r"
        }
      },
      "outputs": [
        {
          "data": {
            "text/html": [
              "4"
            ],
            "text/latex": [
              "4"
            ],
            "text/markdown": [
              "4"
            ],
            "text/plain": [
              "[1] 4"
            ]
          },
          "metadata": {},
          "output_type": "display_data"
        }
      ],
      "source": [
        "slow_simulation(8)"
      ]
    },
    {
      "cell_type": "code",
      "execution_count": 19,
      "metadata": {
        "vscode": {
          "languageId": "r"
        }
      },
      "outputs": [
        {
          "data": {
            "text/html": [
              "5"
            ],
            "text/latex": [
              "5"
            ],
            "text/markdown": [
              "5"
            ],
            "text/plain": [
              "[1] 5"
            ]
          },
          "metadata": {},
          "output_type": "display_data"
        }
      ],
      "source": [
        "slow_simulation(9)"
      ]
    },
    {
      "cell_type": "code",
      "execution_count": 20,
      "metadata": {
        "vscode": {
          "languageId": "r"
        }
      },
      "outputs": [
        {
          "data": {
            "text/html": [
              "1"
            ],
            "text/latex": [
              "1"
            ],
            "text/markdown": [
              "1"
            ],
            "text/plain": [
              "[1] 1"
            ]
          },
          "metadata": {},
          "output_type": "display_data"
        }
      ],
      "source": [
        "slow_simulation(11)"
      ]
    },
    {
      "cell_type": "code",
      "execution_count": 21,
      "metadata": {
        "vscode": {
          "languageId": "r"
        }
      },
      "outputs": [
        {
          "data": {
            "text/html": [
              "-1"
            ],
            "text/latex": [
              "-1"
            ],
            "text/markdown": [
              "-1"
            ],
            "text/plain": [
              "[1] -1"
            ]
          },
          "metadata": {},
          "output_type": "display_data"
        }
      ],
      "source": [
        "slow_simulation(13)"
      ]
    },
    {
      "cell_type": "markdown",
      "metadata": {},
      "source": [
        "Here we have to pause, because we have to take into account the fact that we really want to simulate this process for a **large number of people**, and a **large number of steps**, so that this loop-based approach is going to become super slow and unwieldy as we increase the number of people/steps.\n",
        "\n",
        "So, let's think about how we could speed it up. Honestly, this can often be more of an art than a science, but it is genuinely so important, as it can mean the difference between your code finishing in a few seconds and finishing in a few hours.\n",
        "\n",
        "For this problem, there are a number of ways you could arrive at a faster, more efficient approach, but for the sake of brevity I will cut to the chase and just mention that a **key property** we can use here is the fact that the **outcome after `N` steps**, regardless of how big `N` is, is really just a **sum of independently-generated 0/1 variables**!\n",
        "\n",
        "We could derive this insight, for example, by recalling the above discussion about the two different ways to store the state of the system (storing just the value of $x$ vs. storing the entire history), and thinking about the **relationship between these two representations**:\n",
        "\n",
        "* If we know the entire history of a random-walker, we could use that information to **figure out their position**, by just starting from $x = 0$ and following each of the steps recorded in their history vector.\n",
        "* The converse isn't true, though: if we know that the random-walker is at $x = 0$, we cannot infer (at least, cannot infer with certainty) the **history** of states that led them to end up at that coordinate. As we already saw just in considering two time steps, for example, they could have arrived at $x = 0$ via the histories $()$, $(L,R)$, or $(R,L)$.\n",
        "\n",
        "This insight becomes especially helpful if we think about how we could **encode** what we're currently writing as $R$ or $L$ in a more helpful way: leaping once again over lots of thinking about it, if we chose to instead encode a move **left** as the number $-1$, and a move **right** as the number $1$, suddenly we may be able to see the relationship between the full-history state space and the \"collapsed\" state space where we just keep track of $x$. We can write out some histories using this $-1$ or $1$ representation, then look at the $x$ value these histories produce, and try to see the pattern:\n",
        "\n",
        "| History vector<br>(original) | History vector<br>(numeric representation) | Resulting values of $x$ |\n",
        "| - | - | - |\n",
        "| $()$ | $()$ | $x = 0$ |\n",
        "| $(L,L,R)$ | $(-1, -1, 1)$ | $x = -1$ |\n",
        "| $(L,R)$ | $(-1,1)$ | $x = 0$ |\n",
        "| $(R,R,R,R)$ | $(1,1,1,1)$ | $x = 4$ |\n",
        "| $(R,L,R,L,R,L)$ | $(1,-1,1,-1,1,-1)$ | $x = 0$ |"
      ]
    },
    {
      "cell_type": "markdown",
      "metadata": {},
      "source": [
        "Do you see the pattern? Jumping to the punchline: by using the numeric representation of the history vector, we can immediately derive the **final position** of the random-walker by **summing up** the values of their history vector in this representation!\n",
        "\n",
        "If it's still unclear why this is helpful, that's ok: it may be an appreciation that only comes from spending hours debugging hundreds of tiny little errors in C code that your professor/boss has asked you to optimize down to the individual-bits-of-RAM level 😛 But it will hopefully become a little more clear regardless once we compare the runtimes of our two approaches!\n",
        "\n",
        "Let's use this sum-to-get-final-state insight to rewrite our code **without any loops**. The main thing left to figure out is: **how to generate a sequence of random values drawn uniformly from $\\{-1, 1\\}$?** We could approach this using the **discrete uniform distribution**, or we could approach this by transforming the **Bernoulli distribution** (which produces values in $\\{0,1\\}$) in a smart way. But, optimizing for laziness, we can do even less work: there is already a **name for this distribution** (of a random variable $X$ with equally-likely outcomes drawn from the support set $\\mathcal{R}_X = \\{-1,1\\}$): it's called the **Rademacher Distribution**.\n",
        "\n",
        "As with the Bernoulli distribution, base-R does not have a built-in function for generating random Rademacher-distributed variables, so instead we can use an implementation provided by the `extraDistr` library, a function named `rsign()` (since you can think about this distribution as determining a **random sign**: positive or negative). Let's use `rsign()` to rewrite our function so it just\n",
        "\n",
        "1. Generates `num_steps` random numbers, each one representing a piece of the history vector, and then\n",
        "2. **Sums them** to get our resulting $x$ value\n"
      ]
    },
    {
      "cell_type": "code",
      "execution_count": 27,
      "metadata": {
        "vscode": {
          "languageId": "r"
        }
      },
      "outputs": [],
      "source": [
        "# (Uncomment and run the following line if you\n",
        "# don't have the extraDistr library installed)\n",
        "#install.packages(\"extraDistr\")"
      ]
    },
    {
      "cell_type": "code",
      "execution_count": 28,
      "metadata": {
        "vscode": {
          "languageId": "r"
        }
      },
      "outputs": [],
      "source": [
        "library(extraDistr)\n",
        "faster_simulation <- function(num_steps, verbose = FALSE) {\n",
        "    # Generate a history vector with length `num_steps`,\n",
        "    # in the representation where every step is a coin\n",
        "    # flip, but we record -1 for tails and 1 for heads\n",
        "    history_vec <- rsign(num_steps)\n",
        "    final_x <- sum(history_vec)\n",
        "    return(final_x)\n",
        "}"
      ]
    },
    {
      "cell_type": "markdown",
      "metadata": {},
      "source": [
        "And now let's check that it works for the corner case we identified above:"
      ]
    },
    {
      "cell_type": "code",
      "execution_count": 30,
      "metadata": {
        "vscode": {
          "languageId": "r"
        }
      },
      "outputs": [
        {
          "data": {
            "text/html": [
              "<style>\n",
              ".list-inline {list-style: none; margin:0; padding: 0}\n",
              ".list-inline>li {display: inline-block}\n",
              ".list-inline>li:not(:last-child)::after {content: \"\\00b7\"; padding: 0 .5ex}\n",
              "</style>\n",
              "<ol class=list-inline><li>0</li><li>0</li><li>0</li><li>0</li><li>0</li><li>0</li><li>0</li><li>0</li><li>0</li><li>0</li></ol>\n"
            ],
            "text/latex": [
              "\\begin{enumerate*}\n",
              "\\item 0\n",
              "\\item 0\n",
              "\\item 0\n",
              "\\item 0\n",
              "\\item 0\n",
              "\\item 0\n",
              "\\item 0\n",
              "\\item 0\n",
              "\\item 0\n",
              "\\item 0\n",
              "\\end{enumerate*}\n"
            ],
            "text/markdown": [
              "1. 0\n",
              "2. 0\n",
              "3. 0\n",
              "4. 0\n",
              "5. 0\n",
              "6. 0\n",
              "7. 0\n",
              "8. 0\n",
              "9. 0\n",
              "10. 0\n",
              "\n",
              "\n"
            ],
            "text/plain": [
              " [1] 0 0 0 0 0 0 0 0 0 0"
            ]
          },
          "metadata": {},
          "output_type": "display_data"
        }
      ],
      "source": [
        "replicate(10,faster_simulation(0))"
      ]
    },
    {
      "cell_type": "markdown",
      "metadata": {},
      "source": [
        "And check that the values it generates still seem right, for non-corner-case values:"
      ]
    },
    {
      "cell_type": "code",
      "execution_count": 31,
      "metadata": {
        "vscode": {
          "languageId": "r"
        }
      },
      "outputs": [
        {
          "data": {
            "text/html": [
              "2"
            ],
            "text/latex": [
              "2"
            ],
            "text/markdown": [
              "2"
            ],
            "text/plain": [
              "[1] 2"
            ]
          },
          "metadata": {},
          "output_type": "display_data"
        }
      ],
      "source": [
        "faster_simulation(100)"
      ]
    },
    {
      "cell_type": "code",
      "execution_count": 32,
      "metadata": {
        "vscode": {
          "languageId": "r"
        }
      },
      "outputs": [
        {
          "data": {
            "text/html": [
              "-2"
            ],
            "text/latex": [
              "-2"
            ],
            "text/markdown": [
              "-2"
            ],
            "text/plain": [
              "[1] -2"
            ]
          },
          "metadata": {},
          "output_type": "display_data"
        }
      ],
      "source": [
        "faster_simulation(100)"
      ]
    },
    {
      "cell_type": "code",
      "execution_count": 33,
      "metadata": {
        "vscode": {
          "languageId": "r"
        }
      },
      "outputs": [
        {
          "data": {
            "text/html": [
              "14"
            ],
            "text/latex": [
              "14"
            ],
            "text/markdown": [
              "14"
            ],
            "text/plain": [
              "[1] 14"
            ]
          },
          "metadata": {},
          "output_type": "display_data"
        }
      ],
      "source": [
        "faster_simulation(100)"
      ]
    },
    {
      "cell_type": "markdown",
      "metadata": {},
      "source": [
        "## Moving From Individual to Aggregated Simulation"
      ]
    },
    {
      "cell_type": "markdown",
      "metadata": {},
      "source": [
        "Now that we have this new version of our function, we can maybe already see how much faster it runs than our first attempt (it will be even more clear once we use it to simulate more people/steps). There are a few ways to **measure the time** that it takes for R functions to run, but to me the easiest way (and you want it to be easy when you're spending hours and hours just trying to tweak the runtime of one function) is to use the `tictoc` library (not part of base-R): once you load this library using `library(tictoc)`, you literally just put `tic()` somewhere in your code, then `toc()` somewhere afterwards, and it measures the time that elapsed in between these two function calls:"
      ]
    },
    {
      "cell_type": "code",
      "execution_count": 36,
      "metadata": {
        "vscode": {
          "languageId": "r"
        }
      },
      "outputs": [],
      "source": [
        "# (Uncomment to install, if needed)\n",
        "#install.packages(\"tictoc\")"
      ]
    },
    {
      "cell_type": "code",
      "execution_count": 37,
      "metadata": {
        "vscode": {
          "languageId": "r"
        }
      },
      "outputs": [
        {
          "data": {
            "text/html": [
              "2"
            ],
            "text/latex": [
              "2"
            ],
            "text/markdown": [
              "2"
            ],
            "text/plain": [
              "[1] 2"
            ]
          },
          "metadata": {},
          "output_type": "display_data"
        },
        {
          "name": "stdout",
          "output_type": "stream",
          "text": [
            "0.001 sec elapsed\n"
          ]
        }
      ],
      "source": [
        "library(tictoc)\n",
        "tic()\n",
        "1 + 1\n",
        "toc()"
      ]
    },
    {
      "cell_type": "markdown",
      "metadata": {},
      "source": [
        "So, let's use this library to measure how long it takes the two approaches to simulate 1 million steps of the process (for one person):"
      ]
    },
    {
      "cell_type": "code",
      "execution_count": 41,
      "metadata": {
        "vscode": {
          "languageId": "r"
        }
      },
      "outputs": [],
      "source": [
        "steps_to_simulate <- 1000000"
      ]
    },
    {
      "cell_type": "code",
      "execution_count": 52,
      "metadata": {
        "vscode": {
          "languageId": "r"
        }
      },
      "outputs": [
        {
          "data": {
            "text/html": [
              "374"
            ],
            "text/latex": [
              "374"
            ],
            "text/markdown": [
              "374"
            ],
            "text/plain": [
              "[1] 374"
            ]
          },
          "metadata": {},
          "output_type": "display_data"
        },
        {
          "name": "stdout",
          "output_type": "stream",
          "text": [
            "1.539 sec elapsed\n"
          ]
        },
        {
          "data": {
            "text/html": [
              "1.53899999999976"
            ],
            "text/latex": [
              "1.53899999999976"
            ],
            "text/markdown": [
              "1.53899999999976"
            ],
            "text/plain": [
              "[1] 1.539"
            ]
          },
          "metadata": {},
          "output_type": "display_data"
        }
      ],
      "source": [
        "# Our first attempt\n",
        "tic()\n",
        "slow_simulation(steps_to_simulate)\n",
        "slow_sim_times <- toc()\n",
        "slow_sim_elapsed <- as.numeric(slow_sim_times$toc - slow_sim_times$tic)\n",
        "slow_sim_elapsed"
      ]
    },
    {
      "cell_type": "code",
      "execution_count": 53,
      "metadata": {
        "vscode": {
          "languageId": "r"
        }
      },
      "outputs": [
        {
          "data": {
            "text/html": [
              "1220"
            ],
            "text/latex": [
              "1220"
            ],
            "text/markdown": [
              "1220"
            ],
            "text/plain": [
              "[1] 1220"
            ]
          },
          "metadata": {},
          "output_type": "display_data"
        },
        {
          "name": "stdout",
          "output_type": "stream",
          "text": [
            "0.012 sec elapsed\n"
          ]
        },
        {
          "data": {
            "text/html": [
              "0.012000000000171"
            ],
            "text/latex": [
              "0.012000000000171"
            ],
            "text/markdown": [
              "0.012000000000171"
            ],
            "text/plain": [
              "[1] 0.012"
            ]
          },
          "metadata": {},
          "output_type": "display_data"
        }
      ],
      "source": [
        "tic()\n",
        "faster_simulation(steps_to_simulate)\n",
        "fast_sim_times <- toc()\n",
        "fast_sim_elapsed <- as.numeric(fast_sim_times$toc - fast_sim_times$tic)\n",
        "fast_sim_elapsed"
      ]
    },
    {
      "cell_type": "markdown",
      "metadata": {},
      "source": [
        "By dividing the elapsed times for the two approaches (which we'll be able to interpret since these are **ratio variables** 😉):"
      ]
    },
    {
      "cell_type": "code",
      "execution_count": 54,
      "metadata": {
        "vscode": {
          "languageId": "r"
        }
      },
      "outputs": [
        {
          "data": {
            "text/html": [
              "128.249999998153"
            ],
            "text/latex": [
              "128.249999998153"
            ],
            "text/markdown": [
              "128.249999998153"
            ],
            "text/plain": [
              "[1] 128.25"
            ]
          },
          "metadata": {},
          "output_type": "display_data"
        }
      ],
      "source": [
        "elapsed_ratio <- slow_sim_elapsed / fast_sim_elapsed\n",
        "elapsed_ratio"
      ]
    },
    {
      "cell_type": "markdown",
      "metadata": {},
      "source": [
        "We can see that, already (just for one person), the improved version using `sum()` runs 128 times faster than our original approach using a for loop 😳\n",
        "\n",
        "We could optimize the move to **multiple people** even more, but even if we just keep the two implementations as they currently are, and use `replicate()` to repeat them 10 times (i.e., generate history vectors and results for 10 people instead of 1), the efficiency difference becomes even more pronounced: "
      ]
    },
    {
      "cell_type": "code",
      "execution_count": 55,
      "metadata": {
        "vscode": {
          "languageId": "r"
        }
      },
      "outputs": [],
      "source": [
        "num_people <- 10"
      ]
    },
    {
      "cell_type": "code",
      "execution_count": 57,
      "metadata": {
        "vscode": {
          "languageId": "r"
        }
      },
      "outputs": [
        {
          "data": {
            "text/html": [
              "<style>\n",
              ".list-inline {list-style: none; margin:0; padding: 0}\n",
              ".list-inline>li {display: inline-block}\n",
              ".list-inline>li:not(:last-child)::after {content: \"\\00b7\"; padding: 0 .5ex}\n",
              "</style>\n",
              "<ol class=list-inline><li>-984</li><li>712</li><li>1304</li><li>98</li><li>-972</li><li>-1364</li><li>744</li><li>-1448</li><li>-578</li><li>-302</li></ol>\n"
            ],
            "text/latex": [
              "\\begin{enumerate*}\n",
              "\\item -984\n",
              "\\item 712\n",
              "\\item 1304\n",
              "\\item 98\n",
              "\\item -972\n",
              "\\item -1364\n",
              "\\item 744\n",
              "\\item -1448\n",
              "\\item -578\n",
              "\\item -302\n",
              "\\end{enumerate*}\n"
            ],
            "text/markdown": [
              "1. -984\n",
              "2. 712\n",
              "3. 1304\n",
              "4. 98\n",
              "5. -972\n",
              "6. -1364\n",
              "7. 744\n",
              "8. -1448\n",
              "9. -578\n",
              "10. -302\n",
              "\n",
              "\n"
            ],
            "text/plain": [
              " [1]  -984   712  1304    98  -972 -1364   744 -1448  -578  -302"
            ]
          },
          "metadata": {},
          "output_type": "display_data"
        },
        {
          "name": "stdout",
          "output_type": "stream",
          "text": [
            "14.903 sec elapsed\n"
          ]
        },
        {
          "data": {
            "text/html": [
              "14.9030000000002"
            ],
            "text/latex": [
              "14.9030000000002"
            ],
            "text/markdown": [
              "14.9030000000002"
            ],
            "text/plain": [
              "[1] 14.903"
            ]
          },
          "metadata": {},
          "output_type": "display_data"
        }
      ],
      "source": [
        "# Our first attempt, now for 10 people\n",
        "tic()\n",
        "replicate(num_people, slow_simulation(steps_to_simulate))\n",
        "slow_sim_times <- toc()\n",
        "slow_sim_elapsed <- as.numeric(slow_sim_times$toc - slow_sim_times$tic)\n",
        "slow_sim_elapsed"
      ]
    },
    {
      "cell_type": "code",
      "execution_count": 58,
      "metadata": {
        "vscode": {
          "languageId": "r"
        }
      },
      "outputs": [
        {
          "data": {
            "text/html": [
              "<style>\n",
              ".list-inline {list-style: none; margin:0; padding: 0}\n",
              ".list-inline>li {display: inline-block}\n",
              ".list-inline>li:not(:last-child)::after {content: \"\\00b7\"; padding: 0 .5ex}\n",
              "</style>\n",
              "<ol class=list-inline><li>814</li><li>560</li><li>-800</li><li>174</li><li>706</li><li>1094</li><li>330</li><li>708</li><li>-32</li><li>-544</li></ol>\n"
            ],
            "text/latex": [
              "\\begin{enumerate*}\n",
              "\\item 814\n",
              "\\item 560\n",
              "\\item -800\n",
              "\\item 174\n",
              "\\item 706\n",
              "\\item 1094\n",
              "\\item 330\n",
              "\\item 708\n",
              "\\item -32\n",
              "\\item -544\n",
              "\\end{enumerate*}\n"
            ],
            "text/markdown": [
              "1. 814\n",
              "2. 560\n",
              "3. -800\n",
              "4. 174\n",
              "5. 706\n",
              "6. 1094\n",
              "7. 330\n",
              "8. 708\n",
              "9. -32\n",
              "10. -544\n",
              "\n",
              "\n"
            ],
            "text/plain": [
              " [1]  814  560 -800  174  706 1094  330  708  -32 -544"
            ]
          },
          "metadata": {},
          "output_type": "display_data"
        },
        {
          "name": "stdout",
          "output_type": "stream",
          "text": [
            "0.072 sec elapsed\n"
          ]
        },
        {
          "data": {
            "text/html": [
              "0.0720000000001164"
            ],
            "text/latex": [
              "0.0720000000001164"
            ],
            "text/markdown": [
              "0.0720000000001164"
            ],
            "text/plain": [
              "[1] 0.072"
            ]
          },
          "metadata": {},
          "output_type": "display_data"
        }
      ],
      "source": [
        "tic()\n",
        "replicate(num_people, faster_simulation(steps_to_simulate))\n",
        "fast_sim_times <- toc()\n",
        "fast_sim_elapsed <- as.numeric(fast_sim_times$toc - fast_sim_times$tic)\n",
        "fast_sim_elapsed"
      ]
    },
    {
      "cell_type": "markdown",
      "metadata": {},
      "source": [
        "We now, in both cases, have simulated data for 10 people performing this random walk procedure, both equally valid in terms of our use to simulate [one of] the data-generating process[es] underlying the Normal Distribution. But the original approach takes about 15 seconds to generate this simulated data, while the second approach takes less than 1/10th of 1 second to generate the same amount of data 🤯\n",
        "\n",
        "So, if this efficiency gap has convinced you^[If it **still** hasn't convinced you, try doing what we did earlier with the number of steps, increasing it to 1 million, and do that with the number of people as well... You will be sitting at your computer for a while.], we can now drop the first approach and just use the faster version to start digging into the Normal Distribution!"
      ]
    },
    {
      "cell_type": "markdown",
      "metadata": {},
      "source": [
        "## Simulating `N` Normally-Distributed Random Variables"
      ]
    },
    {
      "cell_type": "markdown",
      "metadata": {},
      "source": [
        "Now that we have a function that will efficiently generate random variables for us, let's use it to generate a `tibble` in **tidy format**:\n",
        "\n",
        "* Each row will correspond to **one** person,\n",
        "* Each of these people will be given a **unique ID**, and\n",
        "* Each column will represent one **property** of this person.\n",
        "\n",
        "In this case, the property will be called `x_T`, and it will represent the person's position `x` after `T` steps, where `T` is some value we will choose (as a **hyperparameter** of our simulation).\n",
        "\n",
        "So that we have a large enough dataset (the `N` value), and so that each person will be simulated for enough steps to make the resulting outcomes very close to Normally-distributed (the `T` value), let's set\n",
        "\n",
        "* `N` (number of people) = 1 million\n",
        "* `T` (number of time steps each person should run the process for) = 1000"
      ]
    },
    {
      "cell_type": "code",
      "execution_count": 60,
      "metadata": {
        "vscode": {
          "languageId": "r"
        }
      },
      "outputs": [
        {
          "name": "stdout",
          "output_type": "stream",
          "text": [
            "0.948 sec elapsed\n"
          ]
        }
      ],
      "source": [
        "tic()\n",
        "N <- 100000\n",
        "T <- 1000\n",
        "x_T_vals <- replicate(N, faster_simulation(T))\n",
        "toc()"
      ]
    },
    {
      "cell_type": "markdown",
      "metadata": {},
      "source": [
        "(Using `tic()` and `toc()` one last time, we see that it was able to generate the entire dataset, at least on my computer, in under a second!)"
      ]
    },
    {
      "cell_type": "code",
      "execution_count": 61,
      "metadata": {
        "vscode": {
          "languageId": "r"
        }
      },
      "outputs": [
        {
          "data": {
            "text/html": [
              "'numeric'"
            ],
            "text/latex": [
              "'numeric'"
            ],
            "text/markdown": [
              "'numeric'"
            ],
            "text/plain": [
              "[1] \"numeric\""
            ]
          },
          "metadata": {},
          "output_type": "display_data"
        }
      ],
      "source": [
        "class(x_T_vals)"
      ]
    },
    {
      "cell_type": "markdown",
      "metadata": {},
      "source": [
        "And now, rather than the (numeric) vector format that the `replicate()` function has produced here, for the sake of **analyzing** this dataset let's store the data in a structured format as a `tibble`:"
      ]
    },
    {
      "cell_type": "code",
      "execution_count": 64,
      "metadata": {
        "vscode": {
          "languageId": "r"
        }
      },
      "outputs": [
        {
          "data": {
            "text/html": [
              "<table class=\"dataframe\">\n",
              "<caption>A tibble: 6 x 1</caption>\n",
              "<thead>\n",
              "\t<tr><th scope=col>x_T</th></tr>\n",
              "\t<tr><th scope=col>&lt;dbl&gt;</th></tr>\n",
              "</thead>\n",
              "<tbody>\n",
              "\t<tr><td>-42</td></tr>\n",
              "\t<tr><td>-70</td></tr>\n",
              "\t<tr><td>-18</td></tr>\n",
              "\t<tr><td> 30</td></tr>\n",
              "\t<tr><td> 26</td></tr>\n",
              "\t<tr><td> 32</td></tr>\n",
              "</tbody>\n",
              "</table>\n"
            ],
            "text/latex": [
              "A tibble: 6 x 1\n",
              "\\begin{tabular}{l}\n",
              " x\\_T\\\\\n",
              " <dbl>\\\\\n",
              "\\hline\n",
              "\t -42\\\\\n",
              "\t -70\\\\\n",
              "\t -18\\\\\n",
              "\t  30\\\\\n",
              "\t  26\\\\\n",
              "\t  32\\\\\n",
              "\\end{tabular}\n"
            ],
            "text/markdown": [
              "\n",
              "A tibble: 6 x 1\n",
              "\n",
              "| x_T &lt;dbl&gt; |\n",
              "|---|\n",
              "| -42 |\n",
              "| -70 |\n",
              "| -18 |\n",
              "|  30 |\n",
              "|  26 |\n",
              "|  32 |\n",
              "\n"
            ],
            "text/plain": [
              "  x_T\n",
              "1 -42\n",
              "2 -70\n",
              "3 -18\n",
              "4  30\n",
              "5  26\n",
              "6  32"
            ]
          },
          "metadata": {},
          "output_type": "display_data"
        }
      ],
      "source": [
        "library(tibble)\n",
        "x_tibble <- tibble(x_T=x_T_vals)\n",
        "x_tibble |> head()"
      ]
    },
    {
      "cell_type": "markdown",
      "metadata": {},
      "source": [
        "Now, since in Lab 4 we ask you to simulate a \"base\" distribution, then simulate distributions **derived** by applying (mathematical) **transformations** (sum, product, max, min, etc.) to the base distribution, let's start by making a plot to see what our base distribution---in the form of our `x_tibble` dataset---looks like:"
      ]
    },
    {
      "cell_type": "code",
      "execution_count": 66,
      "metadata": {
        "vscode": {
          "languageId": "r"
        }
      },
      "outputs": [],
      "source": [
        "source(\"../../_globals.r\")"
      ]
    },
    {
      "cell_type": "code",
      "execution_count": 75,
      "metadata": {
        "vscode": {
          "languageId": "r"
        }
      },
      "outputs": [
        {
          "data": {
            "image/png": "[encoded data removed]",
            "text/plain": [
              "plot without title"
            ]
          },
          "metadata": {
            "image/png": {
              "height": 420,
              "width": 420
            }
          },
          "output_type": "display_data"
        }
      ],
      "source": [
        "library(ggplot2)\n",
        "ggplot(x_tibble, aes(x=x_T)) +\n",
        "  geom_histogram(binwidth=6) +\n",
        "  dsan_theme()"
      ]
    },
    {
      "cell_type": "markdown",
      "metadata": {},
      "source": [
        "And... it should look familiar! It's our old friend the \"bell curve\"! We can see from the plot that the mean of this simulated data is probably something very close to 0, but the standard deviation is harder to figure out just from looking at the picture, so let's compute these directly from the data:"
      ]
    },
    {
      "cell_type": "code",
      "execution_count": 78,
      "metadata": {
        "vscode": {
          "languageId": "r"
        }
      },
      "outputs": [
        {
          "data": {
            "text/html": [
              "0.152660000000019"
            ],
            "text/latex": [
              "0.152660000000019"
            ],
            "text/markdown": [
              "0.152660000000019"
            ],
            "text/plain": [
              "[1] 0.15266"
            ]
          },
          "metadata": {},
          "output_type": "display_data"
        }
      ],
      "source": [
        "mu <- mean(x_tibble$x_T)\n",
        "mu"
      ]
    },
    {
      "cell_type": "code",
      "execution_count": 79,
      "metadata": {
        "vscode": {
          "languageId": "r"
        }
      },
      "outputs": [
        {
          "data": {
            "text/html": [
              "31.696258161685"
            ],
            "text/latex": [
              "31.696258161685"
            ],
            "text/markdown": [
              "31.696258161685"
            ],
            "text/plain": [
              "[1] 31.69626"
            ]
          },
          "metadata": {},
          "output_type": "display_data"
        }
      ],
      "source": [
        "sigma <- sd(x_tibble$x_T)\n",
        "sigma"
      ]
    },
    {
      "cell_type": "markdown",
      "metadata": {},
      "source": [
        "So the overall mean $\\mu$ of the final positions of all 1 million people is about 0.153, while the overall standard deviation $\\sigma$ is about 31.696. The mean has an intuitive interpretation, but we need to use the **68-95-99.7 Rule** to interpret the standard deviation as follows:\n",
        "\n",
        "* Approximately **68%** of the data lies within the range $[\\mu - 1\\cdot \\sigma, \\mu + 1 \\cdot \\sigma]$, which in our case is"
      ]
    },
    {
      "cell_type": "code",
      "execution_count": 81,
      "metadata": {
        "vscode": {
          "languageId": "r"
        }
      },
      "outputs": [
        {
          "data": {
            "text/html": [
              "<style>\n",
              ".list-inline {list-style: none; margin:0; padding: 0}\n",
              ".list-inline>li {display: inline-block}\n",
              ".list-inline>li:not(:last-child)::after {content: \"\\00b7\"; padding: 0 .5ex}\n",
              "</style>\n",
              "<ol class=list-inline><li>-31.5435981616849</li><li>31.848918161685</li></ol>\n"
            ],
            "text/latex": [
              "\\begin{enumerate*}\n",
              "\\item -31.5435981616849\n",
              "\\item 31.848918161685\n",
              "\\end{enumerate*}\n"
            ],
            "text/markdown": [
              "1. -31.5435981616849\n",
              "2. 31.848918161685\n",
              "\n",
              "\n"
            ],
            "text/plain": [
              "[1] -31.54360  31.84892"
            ]
          },
          "metadata": {},
          "output_type": "display_data"
        }
      ],
      "source": [
        "c(mu - sigma, mu + sigma)"
      ]
    },
    {
      "cell_type": "markdown",
      "metadata": {},
      "source": [
        "* Approximately **95%** of the data lies within the range $[\\mu - 2\\cdot \\sigma, \\; \\mu + 2 \\cdot \\sigma]$, which in our case is"
      ]
    },
    {
      "cell_type": "code",
      "execution_count": 82,
      "metadata": {
        "vscode": {
          "languageId": "r"
        }
      },
      "outputs": [
        {
          "data": {
            "text/html": [
              "<style>\n",
              ".list-inline {list-style: none; margin:0; padding: 0}\n",
              ".list-inline>li {display: inline-block}\n",
              ".list-inline>li:not(:last-child)::after {content: \"\\00b7\"; padding: 0 .5ex}\n",
              "</style>\n",
              "<ol class=list-inline><li>-63.2398563233699</li><li>63.5451763233699</li></ol>\n"
            ],
            "text/latex": [
              "\\begin{enumerate*}\n",
              "\\item -63.2398563233699\n",
              "\\item 63.5451763233699\n",
              "\\end{enumerate*}\n"
            ],
            "text/markdown": [
              "1. -63.2398563233699\n",
              "2. 63.5451763233699\n",
              "\n",
              "\n"
            ],
            "text/plain": [
              "[1] -63.23986  63.54518"
            ]
          },
          "metadata": {},
          "output_type": "display_data"
        }
      ],
      "source": [
        "c(mu - 2 * sigma, mu + 2 * sigma)"
      ]
    },
    {
      "cell_type": "markdown",
      "metadata": {},
      "source": [
        "* Approximately **99.7%** of the data lies within 3 standard deviations of the mean, that is, within the range $[\\mu - 3 \\cdot \\sigma, \\; \\mu + 3 \\cdot \\sigma]$, which in our case is"
      ]
    },
    {
      "cell_type": "code",
      "execution_count": 84,
      "metadata": {
        "vscode": {
          "languageId": "r"
        }
      },
      "outputs": [
        {
          "data": {
            "text/html": [
              "<style>\n",
              ".list-inline {list-style: none; margin:0; padding: 0}\n",
              ".list-inline>li {display: inline-block}\n",
              ".list-inline>li:not(:last-child)::after {content: \"\\00b7\"; padding: 0 .5ex}\n",
              "</style>\n",
              "<ol class=list-inline><li>-94.9361144850549</li><li>95.2414344850549</li></ol>\n"
            ],
            "text/latex": [
              "\\begin{enumerate*}\n",
              "\\item -94.9361144850549\n",
              "\\item 95.2414344850549\n",
              "\\end{enumerate*}\n"
            ],
            "text/markdown": [
              "1. -94.9361144850549\n",
              "2. 95.2414344850549\n",
              "\n",
              "\n"
            ],
            "text/plain": [
              "[1] -94.93611  95.24143"
            ]
          },
          "metadata": {},
          "output_type": "display_data"
        }
      ],
      "source": [
        "c(mu - 3 * sigma, mu + 3 * sigma)"
      ]
    },
    {
      "cell_type": "markdown",
      "metadata": {},
      "source": [
        "Roughly, then, we can interpret this last fact as saying that **nearly all** (99.7%) of the random walkers will still remain within 100 units of their starting position, after 1000 steps."
      ]
    },
    {
      "cell_type": "markdown",
      "metadata": {},
      "source": [
        "## Applying Transformations to `x_T`"
      ]
    },
    {
      "cell_type": "markdown",
      "metadata": {},
      "source": [
        "It may have seemed like overkill to take the length-1000000 vector we had and convert it into a 1000000-row `tibble`, since we only had one column. But now let's see why we did this: let's take this column of the raw (simulated) values of $x_T$ and use it to derive simulated values of **functions of $x_T$**.\n",
        "\n",
        "For example, instead of analyzing the **positions**, perhaps in the context of our problem we only care about **how far away** the people end up from their starting point. In that case, what we really care about is not $x$ itself but $|x - 0| = |x|$, the **absolute distance** (on the numberline) of the person's final position from their starting position.\n",
        "\n",
        "Now that you've seen how changing from a for-loop-based approach to a \"vectorized\" approach can vastly improve efficiency, I also want you to move your focus away from how these absolute distances could be computed using a *loop* and instead focus on how they could be computed using a **mathematical function** that could be applied to **an entire vector of data** (in this case, the vector that we get by pulling the `x_T` column out of the `tibble`). In this case hopefully this mathematical operation is clear: we just want to apply the **absolute value function** to the `x_T` column vector. So, here let's use the `mutate()` function from `dplyr` (part of the `tidyverse`) to create a **new column** in our `tibble` called `abs_dist`, computed on the basis of `x_T` and representing this absolute distance:"
      ]
    },
    {
      "cell_type": "code",
      "execution_count": 86,
      "metadata": {
        "vscode": {
          "languageId": "r"
        }
      },
      "outputs": [
        {
          "name": "stderr",
          "output_type": "stream",
          "text": [
            "\n",
            "Attaching package: 'dplyr'\n",
            "\n",
            "\n",
            "The following object is masked from 'package:Rlab':\n",
            "\n",
            "    count\n",
            "\n",
            "\n",
            "The following objects are masked from 'package:stats':\n",
            "\n",
            "    filter, lag\n",
            "\n",
            "\n",
            "The following objects are masked from 'package:base':\n",
            "\n",
            "    intersect, setdiff, setequal, union\n",
            "\n",
            "\n"
          ]
        },
        {
          "data": {
            "text/html": [
              "<table class=\"dataframe\">\n",
              "<caption>A tibble: 6 x 2</caption>\n",
              "<thead>\n",
              "\t<tr><th scope=col>x_T</th><th scope=col>abs_dist</th></tr>\n",
              "\t<tr><th scope=col>&lt;dbl&gt;</th><th scope=col>&lt;dbl&gt;</th></tr>\n",
              "</thead>\n",
              "<tbody>\n",
              "\t<tr><td>-42</td><td>42</td></tr>\n",
              "\t<tr><td>-70</td><td>70</td></tr>\n",
              "\t<tr><td>-18</td><td>18</td></tr>\n",
              "\t<tr><td> 30</td><td>30</td></tr>\n",
              "\t<tr><td> 26</td><td>26</td></tr>\n",
              "\t<tr><td> 32</td><td>32</td></tr>\n",
              "</tbody>\n",
              "</table>\n"
            ],
            "text/latex": [
              "A tibble: 6 x 2\n",
              "\\begin{tabular}{ll}\n",
              " x\\_T & abs\\_dist\\\\\n",
              " <dbl> & <dbl>\\\\\n",
              "\\hline\n",
              "\t -42 & 42\\\\\n",
              "\t -70 & 70\\\\\n",
              "\t -18 & 18\\\\\n",
              "\t  30 & 30\\\\\n",
              "\t  26 & 26\\\\\n",
              "\t  32 & 32\\\\\n",
              "\\end{tabular}\n"
            ],
            "text/markdown": [
              "\n",
              "A tibble: 6 x 2\n",
              "\n",
              "| x_T &lt;dbl&gt; | abs_dist &lt;dbl&gt; |\n",
              "|---|---|\n",
              "| -42 | 42 |\n",
              "| -70 | 70 |\n",
              "| -18 | 18 |\n",
              "|  30 | 30 |\n",
              "|  26 | 26 |\n",
              "|  32 | 32 |\n",
              "\n"
            ],
            "text/plain": [
              "  x_T abs_dist\n",
              "1 -42 42      \n",
              "2 -70 70      \n",
              "3 -18 18      \n",
              "4  30 30      \n",
              "5  26 26      \n",
              "6  32 32      "
            ]
          },
          "metadata": {},
          "output_type": "display_data"
        }
      ],
      "source": [
        "library(dplyr)\n",
        "x_tibble <- x_tibble |> mutate(abs_dist = abs(x_T))\n",
        "x_tibble |> head()"
      ]
    },
    {
      "cell_type": "markdown",
      "metadata": {},
      "source": [
        "And we see that, at least in the first six columns, our \"pipeline\" has successfully taken the absolute values of the `x_T` column: `-42` has been transformed to `42`, `-70` to `70`, and so on.\n",
        "\n",
        "Now, just as we did above, we can plot the distribution of **this** data, which is not the \"raw\" (simulated) data but a **function** of the raw data, which forms its own distribution that may be **different** from the distribution of the original data:"
      ]
    },
    {
      "cell_type": "code",
      "execution_count": 90,
      "metadata": {
        "vscode": {
          "languageId": "r"
        }
      },
      "outputs": [
        {
          "data": {
            "image/png": "[encoded data removed]",
            "text/plain": [
              "plot without title"
            ]
          },
          "metadata": {
            "image/png": {
              "height": 420,
              "width": 420
            }
          },
          "output_type": "display_data"
        }
      ],
      "source": [
        "ggplot(x_tibble, aes(x = abs_dist)) +\n",
        "  geom_histogram(binwidth=6) +\n",
        "  dsan_theme()"
      ]
    },
    {
      "cell_type": "markdown",
      "metadata": {},
      "source": [
        "Now that we've plotted two distributions using the `geom_histogram()` function from the `ggplot2` library, it's probably a good time to also mention how (like the warning messages from `ggplot2` will try to warn you) histograms can sometimes be more misleading than helpful when it comes to understanding your data: skipping over lots of details^[They boil down to, \"there's no such thing as a free lunch\": if we abandon histograms and switch to some other visualization tool, that tool will have its own issues that we'll need to grapple with.], the way that the hisogram looks depends a good amount on the **bin width** or **number of bins** parameter, so that (a) it's good to examine the histogram of the distribution under **many different choices** for this bin width/number of bins, but also (b) it's good to check what the **kernel density** plot of the distribution looks like, as an alternative to the histogram: "
      ]
    },
    {
      "cell_type": "code",
      "execution_count": 95,
      "metadata": {
        "vscode": {
          "languageId": "r"
        }
      },
      "outputs": [
        {
          "data": {
            "image/png": "[encoded data removed]",
            "text/plain": [
              "plot without title"
            ]
          },
          "metadata": {
            "image/png": {
              "height": 420,
              "width": 420
            }
          },
          "output_type": "display_data"
        }
      ],
      "source": [
        "ggplot(x_tibble, aes(x = abs_dist)) +\n",
        "  geom_density() +\n",
        "  dsan_theme()"
      ]
    },
    {
      "cell_type": "markdown",
      "metadata": {},
      "source": [
        "The kernel density plot's **bandwidth** parameter can be tweaked to make the plot look different, just like the **binwidth** parameter of `geom_histogram()` can be tweaked to make the histogram look different, but in my experience `geom_density()` tends to require less tweaking: it usually produces the distribution that I'm expecting to see (if I already know what the distribution should look like), so that I trust it a bit more to give a reasonably accurate \"picture\" of the distribution of data that I haven't seen before."
      ]
    },
    {
      "cell_type": "markdown",
      "metadata": {},
      "source": [
        "This distribution, just like the **Normal** and **Rademacher** distributions we've seen so far, has a name! It is called the [**Folded Normal Distribution**](https://en.wikipedia.org/wiki/Folded_normal_distribution){target=\"_blank\"}, if you'd like to learn how that works.\n",
        "\n",
        "## Transformation 2: Squared Distance from 0\n",
        "\n",
        "As I described in class today, though, it is more common in data science to use the **squared distance** to assess how far the data is from some target value (like its mean, or median, or mode, etc.). This is because the **squared distance function $f(x) = x^2$ is differentiable everywhere**, unlike the **absolute value function $f(x) = |x|$**:"
      ]
    },
    {
      "cell_type": "code",
      "execution_count": 114,
      "metadata": {
        "vscode": {
          "languageId": "r"
        }
      },
      "outputs": [
        {
          "name": "stderr",
          "output_type": "stream",
          "text": [
            "Warning message:\n",
            "\"\u001b[1m\u001b[22mRemoved 60 rows containing missing values (`geom_function()`).\"\n"
          ]
        },
        {
          "name": "stderr",
          "output_type": "stream",
          "text": [
            "Warning message:\n",
            "\"\u001b[1m\u001b[22mRemoved 70 rows containing missing values (`geom_function()`).\"\n"
          ]
        },
        {
          "data": {
            "image/png": "[encoded data removed]",
            "text/plain": [
              "plot without title"
            ]
          },
          "metadata": {
            "image/png": {
              "height": 420,
              "width": 420
            }
          },
          "output_type": "display_data"
        }
      ],
      "source": [
        "#| label: x-squared-plot\n",
        "base <-\n",
        "  ggplot() +\n",
        "  xlim(-5, 5) +\n",
        "  ylim(0, 25) +\n",
        "  labs(\n",
        "    x = \"x\",\n",
        "    y = expression(\"(x - \"*mu*\")\"^2)\n",
        "  ) +\n",
        "  dsan_theme()\n",
        "\n",
        "my_fn <- function(x) { return(x^2) }\n",
        "my_deriv2 <- function(x) { return(4*x - 4) }\n",
        "my_derivN4 <- function(x) { return(-8*x - 16) }\n",
        "base + geom_function(\n",
        "  fun = my_fn, color=cbPalette[1], linewidth=1\n",
        "  ) +\n",
        "  geom_point(data=as.data.frame(list(x=2,y=4)), aes(x=x,y=y), color=cbPalette[2], size=g_pointsize/2) + \n",
        "  geom_function(fun = my_deriv2, color=cbPalette[2], linewidth=1) +\n",
        "  geom_point(data=as.data.frame(list(x=-4,y=16)), aes(x=x,y=y), color=cbPalette[3], size=g_pointsize/2) + \n",
        "  geom_function(fun = my_derivN4, color=cbPalette[3], linewidth=1)\n"
      ]
    },
    {
      "cell_type": "code",
      "execution_count": 110,
      "metadata": {
        "vscode": {
          "languageId": "r"
        }
      },
      "outputs": [
        {
          "name": "stderr",
          "output_type": "stream",
          "text": [
            "Warning message:\n",
            "\"\u001b[1m\u001b[22mRemoved 1 rows containing missing values (`geom_point()`).\"\n",
            "Warning message:\n",
            "\"\u001b[1m\u001b[22mRemoved 80 rows containing missing values (`geom_function()`).\"\n",
            "Warning message:\n",
            "\"\u001b[1m\u001b[22mRemoved 60 rows containing missing values (`geom_function()`).\"\n",
            "Warning message:\n",
            "\"\u001b[1m\u001b[22mRemoved 20 rows containing missing values (`geom_function()`).\"\n"
          ]
        },
        {
          "data": {
            "image/png": "[encoded data removed]",
            "text/plain": [
              "plot without title"
            ]
          },
          "metadata": {
            "image/png": {
              "height": 420,
              "width": 420
            }
          },
          "output_type": "display_data"
        }
      ],
      "source": [
        "#| label: abs-plot\n",
        "my_fake_deriv <- function(x) { return(-x) }\n",
        "my_fake_deriv2 <- function(x) { return(-(1/2)*x + 1/2) }\n",
        "my_fake_deriv3 <- function(x) { return(-(1/4)*x + 3/4) }\n",
        "\n",
        "d=data.frame(x=c(-2,-1,0,1,2), y=c(1,0,0,1,1))\n",
        "base <- ggplot() +\n",
        "  xlim(-5,5) +\n",
        "  ylim(0,2) +\n",
        "  labs(\n",
        "    x=\"x\",\n",
        "    y=expression(\"|x - \"*mu*\"|\"),\n",
        "    parse = TRUE\n",
        "  ) +\n",
        "  geom_step(data=d, mapping=aes(x=x, y=y), linewidth=1) +\n",
        "  dsan_theme()\n",
        "#geom_step(data=d, mapping=aes(x=x, y=y), direction=\"vh\", linetype=3) +\n",
        "#geom_point(data=d, mapping=aes(x=x, y=y), color=\"red\")\n",
        "\n",
        "base + geom_point(data=as.data.frame(list(x=2,y=4)), aes(x=x,y=y), color=cbPalette[2], size=g_pointsize/2) + \n",
        "  geom_function(fun = my_fake_deriv, color=cbPalette[2], linewidth=1) +\n",
        "  geom_function(fun = my_fake_deriv2, color=cbPalette[3], linewidth=1) +\n",
        "  geom_function(fun = my_fake_deriv3, color=cbPalette[4], linewidth=1) +\n",
        "  geom_point(data=as.data.frame(list(x=-1,y=1)), aes(x=x,y=y), color=cbPalette[2], size=g_pointsize/2) +\n",
        "  annotate(\"text\", x = -0.7, y = 1.1, label = \"?\", size=6)\n"
      ]
    },
    {
      "cell_type": "code",
      "execution_count": null,
      "metadata": {
        "vscode": {
          "languageId": "r"
        }
      },
      "outputs": [],
      "source": []
    }
  ],
  "metadata": {
    "colab": {
      "provenance": []
    },
    "kernelspec": {
      "display_name": "R",
      "language": "R",
      "name": "ir"
    },
    "language_info": {
      "codemirror_mode": "r",
      "file_extension": ".r",
      "mimetype": "text/x-r-source",
      "name": "R",
      "pygments_lexer": "r",
      "version": "4.3.1"
    }
  },
  "nbformat": 4,
  "nbformat_minor": 0
}
